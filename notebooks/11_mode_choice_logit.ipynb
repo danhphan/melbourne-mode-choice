{
 "cells": [
  {
   "cell_type": "code",
   "execution_count": 1,
   "id": "e447b9c3",
   "metadata": {},
   "outputs": [],
   "source": [
    "import pandas as pd\n",
    "import matplotlib.pyplot as plt\n",
    "import biogeme.database as db\n",
    "import biogeme.biogeme as bio\n",
    "import biogeme.models as models\n",
    "from biogeme.expressions import Beta\n",
    "\n",
    "import config"
   ]
  },
  {
   "cell_type": "markdown",
   "id": "0b98aba2",
   "metadata": {},
   "source": [
    "### Get data"
   ]
  },
  {
   "cell_type": "code",
   "execution_count": 2,
   "id": "1b2f4c52",
   "metadata": {},
   "outputs": [
    {
     "data": {
      "text/plain": [
       "(44351, 17)"
      ]
     },
     "execution_count": 2,
     "metadata": {},
     "output_type": "execute_result"
    }
   ],
   "source": [
    "trips = pd.read_csv(config.TRIPS_1216_PRC, low_memory=False)\n",
    "trips.shape"
   ]
  },
  {
   "cell_type": "code",
   "execution_count": 3,
   "id": "1e6e1813",
   "metadata": {},
   "outputs": [
    {
     "data": {
      "text/html": [
       "<div>\n",
       "<style scoped>\n",
       "    .dataframe tbody tr th:only-of-type {\n",
       "        vertical-align: middle;\n",
       "    }\n",
       "\n",
       "    .dataframe tbody tr th {\n",
       "        vertical-align: top;\n",
       "    }\n",
       "\n",
       "    .dataframe thead th {\n",
       "        text-align: right;\n",
       "    }\n",
       "</style>\n",
       "<table border=\"1\" class=\"dataframe\">\n",
       "  <thead>\n",
       "    <tr style=\"text-align: right;\">\n",
       "      <th></th>\n",
       "      <th>TRIPID</th>\n",
       "      <th>PERSID</th>\n",
       "      <th>HHID</th>\n",
       "      <th>TRIPNO</th>\n",
       "      <th>TRAVDOW</th>\n",
       "      <th>LINKMODE</th>\n",
       "      <th>TRIPPURP</th>\n",
       "      <th>STARTIME</th>\n",
       "      <th>ARRTIME</th>\n",
       "      <th>TRIPTIME</th>\n",
       "      <th>TRAVTIME</th>\n",
       "      <th>WAITIME</th>\n",
       "      <th>ORIGSA1</th>\n",
       "      <th>DESTSA1</th>\n",
       "      <th>CUMDIST</th>\n",
       "      <th>HomeSA1</th>\n",
       "      <th>Mode</th>\n",
       "    </tr>\n",
       "  </thead>\n",
       "  <tbody>\n",
       "    <tr>\n",
       "      <th>0</th>\n",
       "      <td>Y12H0000107P01T01</td>\n",
       "      <td>Y12H0000107P01</td>\n",
       "      <td>Y12H0000107</td>\n",
       "      <td>1</td>\n",
       "      <td>Sunday</td>\n",
       "      <td>Vehicle Driver</td>\n",
       "      <td>Social</td>\n",
       "      <td>630</td>\n",
       "      <td>650</td>\n",
       "      <td>20</td>\n",
       "      <td>20</td>\n",
       "      <td>0</td>\n",
       "      <td>20904122028</td>\n",
       "      <td>20904122002</td>\n",
       "      <td>2.60</td>\n",
       "      <td>20904122028</td>\n",
       "      <td>Car</td>\n",
       "    </tr>\n",
       "    <tr>\n",
       "      <th>1</th>\n",
       "      <td>Y12H0000107P01T02</td>\n",
       "      <td>Y12H0000107P01</td>\n",
       "      <td>Y12H0000107</td>\n",
       "      <td>2</td>\n",
       "      <td>Sunday</td>\n",
       "      <td>Vehicle Driver</td>\n",
       "      <td>Social</td>\n",
       "      <td>750</td>\n",
       "      <td>760</td>\n",
       "      <td>10</td>\n",
       "      <td>10</td>\n",
       "      <td>0</td>\n",
       "      <td>20904122002</td>\n",
       "      <td>20904122028</td>\n",
       "      <td>2.60</td>\n",
       "      <td>20904122028</td>\n",
       "      <td>Car</td>\n",
       "    </tr>\n",
       "    <tr>\n",
       "      <th>2</th>\n",
       "      <td>Y12H0000107P01T03</td>\n",
       "      <td>Y12H0000107P01</td>\n",
       "      <td>Y12H0000107</td>\n",
       "      <td>3</td>\n",
       "      <td>Sunday</td>\n",
       "      <td>Walking</td>\n",
       "      <td>Recreational</td>\n",
       "      <td>810</td>\n",
       "      <td>840</td>\n",
       "      <td>30</td>\n",
       "      <td>30</td>\n",
       "      <td>0</td>\n",
       "      <td>20904122028</td>\n",
       "      <td>20904122031</td>\n",
       "      <td>3.23</td>\n",
       "      <td>20904122028</td>\n",
       "      <td>Walk</td>\n",
       "    </tr>\n",
       "    <tr>\n",
       "      <th>3</th>\n",
       "      <td>Y12H0000107P01T04</td>\n",
       "      <td>Y12H0000107P01</td>\n",
       "      <td>Y12H0000107</td>\n",
       "      <td>4</td>\n",
       "      <td>Sunday</td>\n",
       "      <td>Walking</td>\n",
       "      <td>Recreational</td>\n",
       "      <td>855</td>\n",
       "      <td>885</td>\n",
       "      <td>30</td>\n",
       "      <td>30</td>\n",
       "      <td>0</td>\n",
       "      <td>20904122031</td>\n",
       "      <td>20904122028</td>\n",
       "      <td>3.23</td>\n",
       "      <td>20904122028</td>\n",
       "      <td>Walk</td>\n",
       "    </tr>\n",
       "    <tr>\n",
       "      <th>4</th>\n",
       "      <td>Y12H0000107P02T01</td>\n",
       "      <td>Y12H0000107P02</td>\n",
       "      <td>Y12H0000107</td>\n",
       "      <td>1</td>\n",
       "      <td>Sunday</td>\n",
       "      <td>Vehicle Passenger</td>\n",
       "      <td>Social</td>\n",
       "      <td>630</td>\n",
       "      <td>650</td>\n",
       "      <td>20</td>\n",
       "      <td>20</td>\n",
       "      <td>0</td>\n",
       "      <td>20904122028</td>\n",
       "      <td>20904122002</td>\n",
       "      <td>2.60</td>\n",
       "      <td>20904122028</td>\n",
       "      <td>Car</td>\n",
       "    </tr>\n",
       "  </tbody>\n",
       "</table>\n",
       "</div>"
      ],
      "text/plain": [
       "              TRIPID          PERSID         HHID  TRIPNO TRAVDOW  \\\n",
       "0  Y12H0000107P01T01  Y12H0000107P01  Y12H0000107       1  Sunday   \n",
       "1  Y12H0000107P01T02  Y12H0000107P01  Y12H0000107       2  Sunday   \n",
       "2  Y12H0000107P01T03  Y12H0000107P01  Y12H0000107       3  Sunday   \n",
       "3  Y12H0000107P01T04  Y12H0000107P01  Y12H0000107       4  Sunday   \n",
       "4  Y12H0000107P02T01  Y12H0000107P02  Y12H0000107       1  Sunday   \n",
       "\n",
       "            LINKMODE      TRIPPURP  STARTIME  ARRTIME  TRIPTIME  TRAVTIME  \\\n",
       "0     Vehicle Driver        Social       630      650        20        20   \n",
       "1     Vehicle Driver        Social       750      760        10        10   \n",
       "2            Walking  Recreational       810      840        30        30   \n",
       "3            Walking  Recreational       855      885        30        30   \n",
       "4  Vehicle Passenger        Social       630      650        20        20   \n",
       "\n",
       "   WAITIME      ORIGSA1      DESTSA1  CUMDIST      HomeSA1  Mode  \n",
       "0        0  20904122028  20904122002     2.60  20904122028   Car  \n",
       "1        0  20904122002  20904122028     2.60  20904122028   Car  \n",
       "2        0  20904122028  20904122031     3.23  20904122028  Walk  \n",
       "3        0  20904122031  20904122028     3.23  20904122028  Walk  \n",
       "4        0  20904122028  20904122002     2.60  20904122028   Car  "
      ]
     },
     "execution_count": 3,
     "metadata": {},
     "output_type": "execute_result"
    }
   ],
   "source": [
    "trips.head()"
   ]
  },
  {
   "cell_type": "code",
   "execution_count": 4,
   "id": "78deb7b1",
   "metadata": {
    "scrolled": true
   },
   "outputs": [
    {
     "data": {
      "text/plain": [
       "Walk     20277\n",
       "Car      19823\n",
       "Train     2171\n",
       "Cycle     2080\n",
       "Name: Mode, dtype: int64"
      ]
     },
     "execution_count": 4,
     "metadata": {},
     "output_type": "execute_result"
    }
   ],
   "source": [
    "trips['Mode'].value_counts()"
   ]
  },
  {
   "cell_type": "code",
   "execution_count": 5,
   "id": "67840aab",
   "metadata": {},
   "outputs": [],
   "source": [
    "choice_mapping = {'Walk':1, 'Car':2, 'Train':3, 'Cycle':4}\n",
    "trips['CHOICE'] = trips.Mode.map(choice_mapping)"
   ]
  },
  {
   "cell_type": "code",
   "execution_count": 7,
   "id": "c92dba03",
   "metadata": {},
   "outputs": [],
   "source": [
    "# Only select these columns for MNL model\n",
    "trips = trips[['TRIPTIME', 'TRAVTIME', 'WAITIME', 'CUMDIST','CHOICE']]"
   ]
  },
  {
   "cell_type": "markdown",
   "id": "03fef5e3",
   "metadata": {},
   "source": [
    "### Simple MNL model"
   ]
  },
  {
   "cell_type": "code",
   "execution_count": 8,
   "id": "563fdcd0",
   "metadata": {},
   "outputs": [],
   "source": [
    "database = db.Database('melbourne_mnl', trips)\n",
    "globals().update(database.variables)"
   ]
  },
  {
   "cell_type": "code",
   "execution_count": 9,
   "id": "0cbf32c5",
   "metadata": {},
   "outputs": [],
   "source": [
    "### Parameters to be estimatd:\n",
    "ASC_WALK = Beta('ASC_WALK', 0, None, None, 0)\n",
    "ASC_CAR = Beta('ASC_CAR', 0, None, None, 0)\n",
    "ASC_TRAIN = Beta('ASC_TRAIN', 0, None, None, 0)\n",
    "ASC_CYCLE = Beta('ASC_CYCLE', 0, None, None, 1)\n",
    "\n",
    "B_TIME = Beta('B_TIME', 0, None, None, 0)"
   ]
  },
  {
   "cell_type": "code",
   "execution_count": 10,
   "id": "3a628ee7",
   "metadata": {},
   "outputs": [],
   "source": [
    "### Utility function\n",
    "V_WALK = ASC_WALK + B_TIME * TRIPTIME\n",
    "V_CAR = ASC_CAR + B_TIME * TRIPTIME\n",
    "V_TRAIN = ASC_TRAIN + B_TIME * TRIPTIME\n",
    "V_CYCLE = ASC_CYCLE + B_TIME * TRIPTIME\n",
    "\n",
    "V = { 1: V_WALK, 2: V_CAR, 3: V_TRAIN, 4: V_CYCLE }\n",
    "\n",
    "### Avaiability: Assume 1 for all alternatives\n",
    "av = {1:1, 2:1, 3:1, 4:1}"
   ]
  },
  {
   "cell_type": "code",
   "execution_count": 11,
   "id": "f8e37bbe",
   "metadata": {},
   "outputs": [],
   "source": [
    "### Create logit model\n",
    "logprob = models.loglogit(V, av, CHOICE)\n",
    "biogeme = bio.BIOGEME(database, logprob)"
   ]
  },
  {
   "cell_type": "code",
   "execution_count": 12,
   "id": "d5142ec8",
   "metadata": {},
   "outputs": [
    {
     "name": "stdout",
     "output_type": "stream",
     "text": [
      "CPU times: user 1.5 s, sys: 6.67 ms, total: 1.51 s\n",
      "Wall time: 328 ms\n"
     ]
    }
   ],
   "source": [
    "%%time\n",
    "### Estimate paramaters\n",
    "results = biogeme.estimate()"
   ]
  },
  {
   "cell_type": "code",
   "execution_count": 13,
   "id": "48a7e4ac",
   "metadata": {},
   "outputs": [
    {
     "data": {
      "text/html": [
       "<div>\n",
       "<style scoped>\n",
       "    .dataframe tbody tr th:only-of-type {\n",
       "        vertical-align: middle;\n",
       "    }\n",
       "\n",
       "    .dataframe tbody tr th {\n",
       "        vertical-align: top;\n",
       "    }\n",
       "\n",
       "    .dataframe thead th {\n",
       "        text-align: right;\n",
       "    }\n",
       "</style>\n",
       "<table border=\"1\" class=\"dataframe\">\n",
       "  <thead>\n",
       "    <tr style=\"text-align: right;\">\n",
       "      <th></th>\n",
       "      <th>Value</th>\n",
       "      <th>Std err</th>\n",
       "      <th>t-test</th>\n",
       "      <th>p-value</th>\n",
       "      <th>Rob. Std err</th>\n",
       "      <th>Rob. t-test</th>\n",
       "      <th>Rob. p-value</th>\n",
       "    </tr>\n",
       "  </thead>\n",
       "  <tbody>\n",
       "    <tr>\n",
       "      <th>ASC_CAR</th>\n",
       "      <td>2.254587e+00</td>\n",
       "      <td>0.023049</td>\n",
       "      <td>9.781597e+01</td>\n",
       "      <td>0.000000</td>\n",
       "      <td>0.023050</td>\n",
       "      <td>9.781108e+01</td>\n",
       "      <td>0.000000</td>\n",
       "    </tr>\n",
       "    <tr>\n",
       "      <th>ASC_TRAIN</th>\n",
       "      <td>4.295330e-02</td>\n",
       "      <td>0.030683</td>\n",
       "      <td>1.399918e+00</td>\n",
       "      <td>0.161538</td>\n",
       "      <td>0.030683</td>\n",
       "      <td>1.399886e+00</td>\n",
       "      <td>0.161547</td>\n",
       "    </tr>\n",
       "    <tr>\n",
       "      <th>ASC_WALK</th>\n",
       "      <td>2.277238e+00</td>\n",
       "      <td>0.023025</td>\n",
       "      <td>9.890392e+01</td>\n",
       "      <td>0.000000</td>\n",
       "      <td>0.023026</td>\n",
       "      <td>9.889900e+01</td>\n",
       "      <td>0.000000</td>\n",
       "    </tr>\n",
       "    <tr>\n",
       "      <th>B_TIME</th>\n",
       "      <td>-1.536751e-10</td>\n",
       "      <td>21427.548110</td>\n",
       "      <td>-7.171847e-15</td>\n",
       "      <td>1.000000</td>\n",
       "      <td>0.000684</td>\n",
       "      <td>-2.247730e-07</td>\n",
       "      <td>1.000000</td>\n",
       "    </tr>\n",
       "  </tbody>\n",
       "</table>\n",
       "</div>"
      ],
      "text/plain": [
       "                  Value       Std err        t-test   p-value  Rob. Std err  \\\n",
       "ASC_CAR    2.254587e+00      0.023049  9.781597e+01  0.000000      0.023050   \n",
       "ASC_TRAIN  4.295330e-02      0.030683  1.399918e+00  0.161538      0.030683   \n",
       "ASC_WALK   2.277238e+00      0.023025  9.890392e+01  0.000000      0.023026   \n",
       "B_TIME    -1.536751e-10  21427.548110 -7.171847e-15  1.000000      0.000684   \n",
       "\n",
       "            Rob. t-test  Rob. p-value  \n",
       "ASC_CAR    9.781108e+01      0.000000  \n",
       "ASC_TRAIN  1.399886e+00      0.161547  \n",
       "ASC_WALK   9.889900e+01      0.000000  \n",
       "B_TIME    -2.247730e-07      1.000000  "
      ]
     },
     "execution_count": 13,
     "metadata": {},
     "output_type": "execute_result"
    }
   ],
   "source": [
    "### Get results\n",
    "results.getEstimatedParameters()"
   ]
  },
  {
   "cell_type": "code",
   "execution_count": 102,
   "id": "7d36a683",
   "metadata": {
    "scrolled": true
   },
   "outputs": [
    {
     "data": {
      "text/plain": [
       "{'Number of estimated parameters': (4, ''),\n",
       " 'Sample size': (44351, ''),\n",
       " 'Excluded observations': (0, ''),\n",
       " 'Init log likelihood': (-61483.54121003348, '.7g'),\n",
       " 'Final log likelihood': (-44747.17349584851, '.7g'),\n",
       " 'Likelihood ratio test for the init. model': (33472.73542836994, '.7g'),\n",
       " 'Rho-square for the init. model': (0.2722089096496896, '.3g'),\n",
       " 'Rho-square-bar for the init. model': (0.2721438515882755, '.3g'),\n",
       " 'Akaike Information Criterion': (89502.34699169702, '.7g'),\n",
       " 'Bayesian Information Criterion': (89537.14655383861, '.7g'),\n",
       " 'Final gradient norm': (0.16863009221099626, '.4E'),\n",
       " 'Nbr of threads': (8, '')}"
      ]
     },
     "execution_count": 102,
     "metadata": {},
     "output_type": "execute_result"
    }
   ],
   "source": [
    "results.getGeneralStatistics()"
   ]
  },
  {
   "cell_type": "code",
   "execution_count": 103,
   "id": "3d8b7e6e",
   "metadata": {},
   "outputs": [
    {
     "data": {
      "text/html": [
       "<div>\n",
       "<style scoped>\n",
       "    .dataframe tbody tr th:only-of-type {\n",
       "        vertical-align: middle;\n",
       "    }\n",
       "\n",
       "    .dataframe tbody tr th {\n",
       "        vertical-align: top;\n",
       "    }\n",
       "\n",
       "    .dataframe thead th {\n",
       "        text-align: right;\n",
       "    }\n",
       "</style>\n",
       "<table border=\"1\" class=\"dataframe\">\n",
       "  <thead>\n",
       "    <tr style=\"text-align: right;\">\n",
       "      <th></th>\n",
       "      <th>Covariance</th>\n",
       "      <th>Correlation</th>\n",
       "      <th>t-test</th>\n",
       "      <th>p-value</th>\n",
       "      <th>Rob. cov.</th>\n",
       "      <th>Rob. corr.</th>\n",
       "      <th>Rob. t-test</th>\n",
       "      <th>Rob. p-value</th>\n",
       "    </tr>\n",
       "  </thead>\n",
       "  <tbody>\n",
       "    <tr>\n",
       "      <th>ASC_TRAIN-ASC_CAR</th>\n",
       "      <td>0.000481</td>\n",
       "      <td>6.798823e-01</td>\n",
       "      <td>-97.831810</td>\n",
       "      <td>0.000000</td>\n",
       "      <td>0.000481</td>\n",
       "      <td>0.679908</td>\n",
       "      <td>-97.832812</td>\n",
       "      <td>0.000000</td>\n",
       "    </tr>\n",
       "    <tr>\n",
       "      <th>ASC_WALK-ASC_CAR</th>\n",
       "      <td>0.000481</td>\n",
       "      <td>9.060093e-01</td>\n",
       "      <td>2.267807</td>\n",
       "      <td>0.023341</td>\n",
       "      <td>0.000481</td>\n",
       "      <td>0.906019</td>\n",
       "      <td>2.267812</td>\n",
       "      <td>0.023341</td>\n",
       "    </tr>\n",
       "    <tr>\n",
       "      <th>ASC_WALK-ASC_TRAIN</th>\n",
       "      <td>0.000481</td>\n",
       "      <td>6.806064e-01</td>\n",
       "      <td>98.943218</td>\n",
       "      <td>0.000000</td>\n",
       "      <td>0.000481</td>\n",
       "      <td>0.680632</td>\n",
       "      <td>98.944266</td>\n",
       "      <td>0.000000</td>\n",
       "    </tr>\n",
       "    <tr>\n",
       "      <th>B_TIME-ASC_CAR</th>\n",
       "      <td>-0.000013</td>\n",
       "      <td>-2.664800e-08</td>\n",
       "      <td>-0.000105</td>\n",
       "      <td>0.999916</td>\n",
       "      <td>-0.000013</td>\n",
       "      <td>-0.847842</td>\n",
       "      <td>-95.400482</td>\n",
       "      <td>0.000000</td>\n",
       "    </tr>\n",
       "    <tr>\n",
       "      <th>B_TIME-ASC_TRAIN</th>\n",
       "      <td>-0.000013</td>\n",
       "      <td>-2.010091e-08</td>\n",
       "      <td>-0.000002</td>\n",
       "      <td>0.999998</td>\n",
       "      <td>-0.000013</td>\n",
       "      <td>-0.628876</td>\n",
       "      <td>-1.380340</td>\n",
       "      <td>0.167482</td>\n",
       "    </tr>\n",
       "    <tr>\n",
       "      <th>B_TIME-ASC_WALK</th>\n",
       "      <td>-0.000014</td>\n",
       "      <td>-2.747455e-08</td>\n",
       "      <td>-0.000106</td>\n",
       "      <td>0.999915</td>\n",
       "      <td>-0.000014</td>\n",
       "      <td>-0.876344</td>\n",
       "      <td>-96.381482</td>\n",
       "      <td>0.000000</td>\n",
       "    </tr>\n",
       "  </tbody>\n",
       "</table>\n",
       "</div>"
      ],
      "text/plain": [
       "                    Covariance   Correlation     t-test   p-value  Rob. cov.  \\\n",
       "ASC_TRAIN-ASC_CAR     0.000481  6.798823e-01 -97.831810  0.000000   0.000481   \n",
       "ASC_WALK-ASC_CAR      0.000481  9.060093e-01   2.267807  0.023341   0.000481   \n",
       "ASC_WALK-ASC_TRAIN    0.000481  6.806064e-01  98.943218  0.000000   0.000481   \n",
       "B_TIME-ASC_CAR       -0.000013 -2.664800e-08  -0.000105  0.999916  -0.000013   \n",
       "B_TIME-ASC_TRAIN     -0.000013 -2.010091e-08  -0.000002  0.999998  -0.000013   \n",
       "B_TIME-ASC_WALK      -0.000014 -2.747455e-08  -0.000106  0.999915  -0.000014   \n",
       "\n",
       "                    Rob. corr.  Rob. t-test  Rob. p-value  \n",
       "ASC_TRAIN-ASC_CAR     0.679908   -97.832812      0.000000  \n",
       "ASC_WALK-ASC_CAR      0.906019     2.267812      0.023341  \n",
       "ASC_WALK-ASC_TRAIN    0.680632    98.944266      0.000000  \n",
       "B_TIME-ASC_CAR       -0.847842   -95.400482      0.000000  \n",
       "B_TIME-ASC_TRAIN     -0.628876    -1.380340      0.167482  \n",
       "B_TIME-ASC_WALK      -0.876344   -96.381482      0.000000  "
      ]
     },
     "execution_count": 103,
     "metadata": {},
     "output_type": "execute_result"
    }
   ],
   "source": [
    "results.getCorrelationResults()"
   ]
  },
  {
   "cell_type": "code",
   "execution_count": null,
   "id": "6e3d2753",
   "metadata": {},
   "outputs": [],
   "source": []
  }
 ],
 "metadata": {
  "kernelspec": {
   "display_name": "Python 3",
   "language": "python",
   "name": "python3"
  },
  "language_info": {
   "codemirror_mode": {
    "name": "ipython",
    "version": 3
   },
   "file_extension": ".py",
   "mimetype": "text/x-python",
   "name": "python",
   "nbconvert_exporter": "python",
   "pygments_lexer": "ipython3",
   "version": "3.7.10"
  }
 },
 "nbformat": 4,
 "nbformat_minor": 5
}
