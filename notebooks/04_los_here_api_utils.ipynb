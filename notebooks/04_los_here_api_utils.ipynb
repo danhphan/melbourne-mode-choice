{
 "cells": [
  {
   "cell_type": "markdown",
   "id": "marine-pizza",
   "metadata": {},
   "source": [
    "## HERE FREE ACCOUNT\n",
    "\n",
    "https://developer.here.com/pricing\n",
    "\n",
    "Free Transactions per month 250K\n",
    "\n",
    "Pay per additional Transactions 1000 / $1"
   ]
  },
  {
   "cell_type": "code",
   "execution_count": 4,
   "id": "4a1ee6dd-8fa7-4fd6-9e25-230c881223e0",
   "metadata": {},
   "outputs": [],
   "source": [
    "# !pip install here_location_services"
   ]
  },
  {
   "cell_type": "code",
   "execution_count": 3,
   "id": "improved-saint",
   "metadata": {},
   "outputs": [],
   "source": [
    "import json\n",
    "import os\n",
    "from datetime import datetime\n",
    "from here_location_services import LS\n",
    "from here_location_services.config.routing_config import ROUTING_RETURN"
   ]
  },
  {
   "cell_type": "code",
   "execution_count": 18,
   "id": "6c9ecd9b-b7e4-40db-b1e1-d735c35071ad",
   "metadata": {},
   "outputs": [],
   "source": [
    "import here_location_services as hls"
   ]
  },
  {
   "cell_type": "code",
   "execution_count": 19,
   "id": "ed5c097e-4842-425b-af39-5e708dffa3f9",
   "metadata": {},
   "outputs": [
    {
     "data": {
      "text/plain": [
       "'0.3.0'"
      ]
     },
     "execution_count": 19,
     "metadata": {},
     "output_type": "execute_result"
    }
   ],
   "source": [
    "hls.__version__"
   ]
  },
  {
   "cell_type": "code",
   "execution_count": 4,
   "id": "worth-figure",
   "metadata": {},
   "outputs": [],
   "source": [
    "LS_API_KEY = os.environ.get(\"HERE_API_KEY\")  # Get API KEY from environment.\n",
    "ls = LS(api_key=LS_API_KEY)"
   ]
  },
  {
   "cell_type": "markdown",
   "id": "29b5b8f1-aa35-469b-a7bc-c454680d4dc7",
   "metadata": {},
   "source": [
    "### HERE geocoding"
   ]
  },
  {
   "cell_type": "code",
   "execution_count": 5,
   "id": "promotional-excerpt",
   "metadata": {},
   "outputs": [
    {
     "data": {
      "text/plain": [
       "<here_location_services.responses.GeocoderResponse at 0x7f75c9f30d30>"
      ]
     },
     "execution_count": 5,
     "metadata": {},
     "output_type": "execute_result"
    }
   ],
   "source": [
    "address = \"Monash University, Clayton, Vic\"\n",
    "geo = ls.geocode(query=address)\n",
    "geo"
   ]
  },
  {
   "cell_type": "code",
   "execution_count": 6,
   "id": "selective-services",
   "metadata": {},
   "outputs": [
    {
     "name": "stdout",
     "output_type": "stream",
     "text": [
      "{\"items\": [{\"access\": [{\"lat\": -37.91315, \"lng\": 145.13562}], \"address\": {\"city\": \"Melbourne\", \"countryCode\": \"AUS\", \"countryName\": \"Australia\", \"district\": \"Clayton\", \"label\": \"Monash University, Scenic Blvd, Clayton VIC 3168, Australia\", \"postalCode\": \"3168\", \"state\": \"Victoria\", \"stateCode\": \"VIC\", \"street\": \"Scenic Blvd\"}, \"categories\": [{\"id\": \"800-8200-0173\", \"name\": \"Higher Education\", \"primary\": true}], \"id\": \"here:pds:place:036r1r0q-860725be724e464aab14f806f8d8ab55\", \"position\": {\"lat\": -37.91319, \"lng\": 145.13569}, \"resultType\": \"place\", \"scoring\": {\"fieldScore\": {\"district\": 1.0, \"placeName\": 1.0, \"state\": 1.0}, \"queryScore\": 1.0}, \"title\": \"Monash University\"}, {\"access\": [{\"lat\": -37.91322, \"lng\": 145.13556}], \"address\": {\"city\": \"Melbourne\", \"countryCode\": \"AUS\", \"countryName\": \"Australia\", \"district\": \"Clayton\", \"label\": \"Monash University, Scenic Blvd, Clayton VIC 3168, Australia\", \"postalCode\": \"3168\", \"state\": \"Victoria\", \"stateCode\": \"VIC\", \"street\": \"Scenic Blvd\"}, \"categories\": [{\"id\": \"800-8200-0173\", \"name\": \"Higher Education\", \"primary\": true}], \"id\": \"here:pds:place:036r1r0q-da61b539d240683538db5be17a42fbde\", \"position\": {\"lat\": -37.91322, \"lng\": 145.13556}, \"resultType\": \"place\", \"scoring\": {\"fieldScore\": {\"district\": 1.0, \"placeName\": 1.0, \"state\": 1.0}, \"queryScore\": 1.0}, \"title\": \"Monash University\"}]}\n"
     ]
    }
   ],
   "source": [
    "print(geo)"
   ]
  },
  {
   "cell_type": "markdown",
   "id": "cognitive-internet",
   "metadata": {},
   "source": [
    "### HERE routing APIs: Car Driving"
   ]
  },
  {
   "cell_type": "markdown",
   "id": "53fb8845-c3cd-455b-84a4-ffb1a7cd1870",
   "metadata": {},
   "source": [
    "Respone data type: https://developer.here.com/documentation/routing/dev_guide/topics/resource-type-route-summary.html"
   ]
  },
  {
   "cell_type": "code",
   "execution_count": 7,
   "id": "treated-ivory",
   "metadata": {},
   "outputs": [],
   "source": [
    "orig = [-37.89577598106494, 145.09038583978858]\n",
    "dest = [-37.91291561061539, 145.13363175213212]"
   ]
  },
  {
   "cell_type": "code",
   "execution_count": 8,
   "id": "timely-killing",
   "metadata": {},
   "outputs": [],
   "source": [
    "result = ls.car_route(\n",
    "    origin=orig,\n",
    "    destination=dest,\n",
    "    return_results=[\n",
    "#         ROUTING_RETURN.polyline,\n",
    "#         ROUTING_RETURN.elevation,\n",
    "#         ROUTING_RETURN.instructions,\n",
    "#         ROUTING_RETURN.actions,\n",
    "        ROUTING_RETURN.summary\n",
    "    ],\n",
    ")"
   ]
  },
  {
   "cell_type": "code",
   "execution_count": 12,
   "id": "educational-poetry",
   "metadata": {},
   "outputs": [
    {
     "name": "stdout",
     "output_type": "stream",
     "text": [
      "{\"routes\": [{\"id\": \"68e6c315-1b6f-49d3-90f5-841bd4e6fef5\", \"sections\": [{\"arrival\": {\"place\": {\"location\": {\"lat\": -37.91358, \"lng\": 145.13297}, \"originalLocation\": {\"lat\": -37.9129156, \"lng\": 145.1336318}, \"type\": \"place\"}, \"time\": \"2021-08-06T09:58:20+10:00\"}, \"departure\": {\"place\": {\"location\": {\"lat\": -37.8957648, \"lng\": 145.0902832}, \"originalLocation\": {\"lat\": -37.8957761, \"lng\": 145.0903858}, \"type\": \"place\"}, \"time\": \"2021-08-06T09:49:38+10:00\"}, \"id\": \"c797db8b-95fd-4544-b96d-937d40e8247e\", \"summary\": {\"baseDuration\": 430, \"duration\": 522, \"length\": 5726}, \"transport\": {\"mode\": \"car\"}, \"type\": \"vehicle\"}]}]}\n"
     ]
    }
   ],
   "source": [
    "print(result)"
   ]
  },
  {
   "cell_type": "code",
   "execution_count": 13,
   "id": "assured-morocco",
   "metadata": {},
   "outputs": [],
   "source": [
    "# Using trip start_time\n",
    "start_time = datetime.strptime(\"27/05/2012 23:30\",'%d/%m/%Y %H:%M')\n",
    "result = ls.car_route(\n",
    "    origin=orig,\n",
    "    destination=dest,\n",
    "    departure_time=start_time,\n",
    "    return_results=[ ROUTING_RETURN.summary ],\n",
    ")"
   ]
  },
  {
   "cell_type": "code",
   "execution_count": 21,
   "id": "2a053211-f561-4d71-8c26-881a68d6b62a",
   "metadata": {},
   "outputs": [
    {
     "name": "stdout",
     "output_type": "stream",
     "text": [
      "Object `RoutingResponse` not found.\n"
     ]
    }
   ],
   "source": [
    "RoutingResponse??"
   ]
  },
  {
   "cell_type": "code",
   "execution_count": 22,
   "id": "bc763974-3afc-421f-be9e-a49034e7667b",
   "metadata": {},
   "outputs": [
    {
     "data": {
      "text/plain": [
       "\u001b[0;31mType:\u001b[0m        RoutingResponse\n",
       "\u001b[0;31mString form:\u001b[0m {\"routes\": [{\"id\": \"57385037-f3fa-42cb-9035-6d6b0025c587\", \"sections\": [{\"arrival\": {\"place\": {\"location\": {\"lat\": -37.91358, \"lng\": 145.13297}, \"originalLocation\": {\"lat\": -37.9129156, \"lng\": 145.1336318}, \"type\": \"place\"}, \"time\": \"2012-05-27T23:37:16+10:00\"}, \"departure\": {\"place\": {\"location\": {\"lat\": -37.8957648, \"lng\": 145.0902832}, \"originalLocation\": {\"lat\": -37.8957761, \"lng\": 145.0903858}, \"type\": \"place\"}, \"time\": \"2012-05-27T23:30:00+10:00\"}, \"id\": \"06f8b572-9629-494b-b5fc-4ae2d0accf6e\", \"summary\": {\"baseDuration\": 436, \"duration\": 436, \"length\": 5289}, \"transport\": {\"mode\": \"car\"}, \"type\": \"vehicle\"}]}]}\n",
       "\u001b[0;31mFile:\u001b[0m        ~/.pyenv/versions/3.8.5/envs/.ml/lib/python3.8/site-packages/here_location_services/responses.py\n",
       "\u001b[0;31mSource:\u001b[0m     \n",
       "\u001b[0;32mclass\u001b[0m \u001b[0mRoutingResponse\u001b[0m\u001b[0;34m(\u001b[0m\u001b[0mApiResponse\u001b[0m\u001b[0;34m)\u001b[0m\u001b[0;34m:\u001b[0m\u001b[0;34m\u001b[0m\n",
       "\u001b[0;34m\u001b[0m    \u001b[0;34m\"\"\"A class representing the search routing API response data.\"\"\"\u001b[0m\u001b[0;34m\u001b[0m\n",
       "\u001b[0;34m\u001b[0m\u001b[0;34m\u001b[0m\n",
       "\u001b[0;34m\u001b[0m    \u001b[0;32mdef\u001b[0m \u001b[0m__init__\u001b[0m\u001b[0;34m(\u001b[0m\u001b[0mself\u001b[0m\u001b[0;34m,\u001b[0m \u001b[0;34m**\u001b[0m\u001b[0mkwargs\u001b[0m\u001b[0;34m)\u001b[0m\u001b[0;34m:\u001b[0m\u001b[0;34m\u001b[0m\n",
       "\u001b[0;34m\u001b[0m        \u001b[0msuper\u001b[0m\u001b[0;34m(\u001b[0m\u001b[0;34m)\u001b[0m\u001b[0;34m.\u001b[0m\u001b[0m__init__\u001b[0m\u001b[0;34m(\u001b[0m\u001b[0;34m)\u001b[0m\u001b[0;34m\u001b[0m\n",
       "\u001b[0;34m\u001b[0m        \u001b[0mself\u001b[0m\u001b[0;34m.\u001b[0m\u001b[0m_filters\u001b[0m \u001b[0;34m=\u001b[0m \u001b[0;34m{\u001b[0m\u001b[0;34m\"routes\"\u001b[0m\u001b[0;34m:\u001b[0m \u001b[0;32mNone\u001b[0m\u001b[0;34m}\u001b[0m\u001b[0;34m\u001b[0m\n",
       "\u001b[0;34m\u001b[0m        \u001b[0;32mfor\u001b[0m \u001b[0mparam\u001b[0m\u001b[0;34m,\u001b[0m \u001b[0mdefault\u001b[0m \u001b[0;32min\u001b[0m \u001b[0mself\u001b[0m\u001b[0;34m.\u001b[0m\u001b[0m_filters\u001b[0m\u001b[0;34m.\u001b[0m\u001b[0mitems\u001b[0m\u001b[0;34m(\u001b[0m\u001b[0;34m)\u001b[0m\u001b[0;34m:\u001b[0m\u001b[0;34m\u001b[0m\n",
       "\u001b[0;34m\u001b[0m            \u001b[0msetattr\u001b[0m\u001b[0;34m(\u001b[0m\u001b[0mself\u001b[0m\u001b[0;34m,\u001b[0m \u001b[0mparam\u001b[0m\u001b[0;34m,\u001b[0m \u001b[0mkwargs\u001b[0m\u001b[0;34m.\u001b[0m\u001b[0mget\u001b[0m\u001b[0;34m(\u001b[0m\u001b[0mparam\u001b[0m\u001b[0;34m,\u001b[0m \u001b[0mdefault\u001b[0m\u001b[0;34m)\u001b[0m\u001b[0;34m)\u001b[0m\u001b[0;34m\u001b[0m\n",
       "\u001b[0;34m\u001b[0m\u001b[0;34m\u001b[0m\n",
       "\u001b[0;34m\u001b[0m    \u001b[0;32mdef\u001b[0m \u001b[0mto_geojson\u001b[0m\u001b[0;34m(\u001b[0m\u001b[0mself\u001b[0m\u001b[0;34m)\u001b[0m\u001b[0;34m:\u001b[0m\u001b[0;34m\u001b[0m\n",
       "\u001b[0;34m\u001b[0m        \u001b[0;34m\"\"\"Return API response as GeoJSON.\"\"\"\u001b[0m\u001b[0;34m\u001b[0m\n",
       "\u001b[0;34m\u001b[0m        \u001b[0mfeature_collection\u001b[0m \u001b[0;34m=\u001b[0m \u001b[0mFeatureCollection\u001b[0m\u001b[0;34m(\u001b[0m\u001b[0;34m[\u001b[0m\u001b[0;34m]\u001b[0m\u001b[0;34m)\u001b[0m\u001b[0;34m\u001b[0m\n",
       "\u001b[0;34m\u001b[0m        \u001b[0;32mfor\u001b[0m \u001b[0mroute\u001b[0m \u001b[0;32min\u001b[0m \u001b[0mself\u001b[0m\u001b[0;34m.\u001b[0m\u001b[0mresponse\u001b[0m\u001b[0;34m[\u001b[0m\u001b[0;34m\"routes\"\u001b[0m\u001b[0;34m]\u001b[0m\u001b[0;34m:\u001b[0m\u001b[0;34m\u001b[0m\n",
       "\u001b[0;34m\u001b[0m            \u001b[0;32mfor\u001b[0m \u001b[0msection\u001b[0m \u001b[0;32min\u001b[0m \u001b[0mroute\u001b[0m\u001b[0;34m[\u001b[0m\u001b[0;34m\"sections\"\u001b[0m\u001b[0;34m]\u001b[0m\u001b[0;34m:\u001b[0m\u001b[0;34m\u001b[0m\n",
       "\u001b[0;34m\u001b[0m                \u001b[0mpolyline\u001b[0m \u001b[0;34m=\u001b[0m \u001b[0msection\u001b[0m\u001b[0;34m[\u001b[0m\u001b[0;34m\"polyline\"\u001b[0m\u001b[0;34m]\u001b[0m\u001b[0;34m\u001b[0m\n",
       "\u001b[0;34m\u001b[0m                \u001b[0mlstring\u001b[0m \u001b[0;34m=\u001b[0m \u001b[0mfp\u001b[0m\u001b[0;34m.\u001b[0m\u001b[0mdecode\u001b[0m\u001b[0;34m(\u001b[0m\u001b[0mpolyline\u001b[0m\u001b[0;34m)\u001b[0m\u001b[0;34m\u001b[0m\n",
       "\u001b[0;34m\u001b[0m                \u001b[0mlstring\u001b[0m \u001b[0;34m=\u001b[0m \u001b[0;34m[\u001b[0m\u001b[0;34m(\u001b[0m\u001b[0mcoord\u001b[0m\u001b[0;34m[\u001b[0m\u001b[0;36m1\u001b[0m\u001b[0;34m]\u001b[0m\u001b[0;34m,\u001b[0m \u001b[0mcoord\u001b[0m\u001b[0;34m[\u001b[0m\u001b[0;36m0\u001b[0m\u001b[0;34m]\u001b[0m\u001b[0;34m,\u001b[0m \u001b[0mcoord\u001b[0m\u001b[0;34m[\u001b[0m\u001b[0;36m2\u001b[0m\u001b[0;34m]\u001b[0m\u001b[0;34m)\u001b[0m \u001b[0;32mfor\u001b[0m \u001b[0mcoord\u001b[0m \u001b[0;32min\u001b[0m \u001b[0mlstring\u001b[0m\u001b[0;34m]\u001b[0m\u001b[0;34m\u001b[0m\n",
       "\u001b[0;34m\u001b[0m                \u001b[0mf\u001b[0m \u001b[0;34m=\u001b[0m \u001b[0mFeature\u001b[0m\u001b[0;34m(\u001b[0m\u001b[0mgeometry\u001b[0m\u001b[0;34m=\u001b[0m\u001b[0mLineString\u001b[0m\u001b[0;34m(\u001b[0m\u001b[0mlstring\u001b[0m\u001b[0;34m)\u001b[0m\u001b[0;34m,\u001b[0m \u001b[0mproperties\u001b[0m\u001b[0;34m=\u001b[0m\u001b[0msection\u001b[0m\u001b[0;34m)\u001b[0m\u001b[0;34m\u001b[0m\n",
       "\u001b[0;34m\u001b[0m                \u001b[0mfeature_collection\u001b[0m\u001b[0;34m.\u001b[0m\u001b[0mfeatures\u001b[0m\u001b[0;34m.\u001b[0m\u001b[0mappend\u001b[0m\u001b[0;34m(\u001b[0m\u001b[0mf\u001b[0m\u001b[0;34m)\u001b[0m\u001b[0;34m\u001b[0m\n",
       "\u001b[0;34m\u001b[0m        \u001b[0;32mreturn\u001b[0m \u001b[0mfeature_collection\u001b[0m\u001b[0;34m\u001b[0m\u001b[0;34m\u001b[0m\u001b[0m\n"
      ]
     },
     "metadata": {},
     "output_type": "display_data"
    }
   ],
   "source": [
    "result??"
   ]
  },
  {
   "cell_type": "code",
   "execution_count": 14,
   "id": "4d0d6fb0-41fb-4788-89da-5d20e28034dd",
   "metadata": {},
   "outputs": [
    {
     "name": "stdout",
     "output_type": "stream",
     "text": [
      "{\"routes\": [{\"id\": \"57385037-f3fa-42cb-9035-6d6b0025c587\", \"sections\": [{\"arrival\": {\"place\": {\"location\": {\"lat\": -37.91358, \"lng\": 145.13297}, \"originalLocation\": {\"lat\": -37.9129156, \"lng\": 145.1336318}, \"type\": \"place\"}, \"time\": \"2012-05-27T23:37:16+10:00\"}, \"departure\": {\"place\": {\"location\": {\"lat\": -37.8957648, \"lng\": 145.0902832}, \"originalLocation\": {\"lat\": -37.8957761, \"lng\": 145.0903858}, \"type\": \"place\"}, \"time\": \"2012-05-27T23:30:00+10:00\"}, \"id\": \"06f8b572-9629-494b-b5fc-4ae2d0accf6e\", \"summary\": {\"baseDuration\": 436, \"duration\": 436, \"length\": 5289}, \"transport\": {\"mode\": \"car\"}, \"type\": \"vehicle\"}]}]}\n"
     ]
    }
   ],
   "source": [
    "print(result)"
   ]
  },
  {
   "cell_type": "code",
   "execution_count": 15,
   "id": "eda3e023-2875-405f-939e-30cf00f91dac",
   "metadata": {},
   "outputs": [],
   "source": [
    "def get_info(los_res):\n",
    "    \"\"\"\n",
    "    This function parse result from HERE route api, and return travel_time and trip length\n",
    "    Parameters\n",
    "        los_res: result from HERE rout api\n",
    "    Return\n",
    "        (trip_duration, trip_length)\n",
    "    \"\"\"\n",
    "    res = los_res.routes[0]['sections'][0]['summary']\n",
    "    return res['duration'], res['length']\n",
    "\n",
    "def collect_here_los(ls, orig, dest, departure_time=None):\n",
    "    \"\"\"\n",
    "    This function collect level of service (travel time) from HERE APIs\n",
    "    This return duration in seconds, and len in meter.\n",
    "    Parameters\n",
    "        ls: HERE location services (LS) object\n",
    "        orig: origin location as a [lattitue, longtitude] list\n",
    "        dest: destination location as a [lattitue, longtitude] list\n",
    "        departure_time: the trip's departure time in datetime format\n",
    "    Return\n",
    "        [car_duration, car_length, cycle_duration, cycle_length, walk_duration, walk_length]\n",
    "    \"\"\"    \n",
    "    # Get car duration and length\n",
    "    car_res = ls.car_route(origin=orig, destination=dest, departure_time=departure_time, \n",
    "                        return_results=[ROUTING_RETURN.summary])\n",
    "    car_dur, car_len = get_info(car_res)\n",
    "    # Get cycle duration and length\n",
    "    cycle_res = ls.bicycle_route(origin=orig, destination=dest, departure_time=departure_time, \n",
    "                        return_results=[ROUTING_RETURN.summary])\n",
    "    cycle_dur, cycle_len = get_info(cycle_res)\n",
    "    # Get walk duration and length\n",
    "    walk_res = ls.pedestrian_route(origin=orig, destination=dest, departure_time=departure_time, \n",
    "                        return_results=[ROUTING_RETURN.summary])\n",
    "    walk_dur, walk_len = get_info(walk_res)\n",
    "    return [car_dur, car_len, cycle_dur, cycle_len, walk_dur, walk_len]    "
   ]
  },
  {
   "cell_type": "code",
   "execution_count": 16,
   "id": "5b622e0a-88b7-43e9-9ff8-033060218e8a",
   "metadata": {},
   "outputs": [
    {
     "data": {
      "text/plain": [
       "(436, 5289)"
      ]
     },
     "execution_count": 16,
     "metadata": {},
     "output_type": "execute_result"
    }
   ],
   "source": [
    "get_info(result)"
   ]
  },
  {
   "cell_type": "code",
   "execution_count": 17,
   "id": "9d02e517-967f-4a53-ba2c-52ce1620bca2",
   "metadata": {},
   "outputs": [
    {
     "data": {
      "text/plain": [
       "[436, 5289, 1372, 5110, 5088, 5032]"
      ]
     },
     "execution_count": 17,
     "metadata": {},
     "output_type": "execute_result"
    }
   ],
   "source": [
    "collect_here_los(ls, orig, dest, start_time)"
   ]
  },
  {
   "cell_type": "code",
   "execution_count": null,
   "id": "365c7280-1365-49e7-9d5c-f948a8944a76",
   "metadata": {},
   "outputs": [],
   "source": []
  }
 ],
 "metadata": {
  "kernelspec": {
   "display_name": "Python 3",
   "language": "python",
   "name": "python3"
  },
  "language_info": {
   "codemirror_mode": {
    "name": "ipython",
    "version": 3
   },
   "file_extension": ".py",
   "mimetype": "text/x-python",
   "name": "python",
   "nbconvert_exporter": "python",
   "pygments_lexer": "ipython3",
   "version": "3.8.5"
  }
 },
 "nbformat": 4,
 "nbformat_minor": 5
}
