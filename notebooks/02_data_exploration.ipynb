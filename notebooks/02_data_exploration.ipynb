{
 "cells": [
  {
   "cell_type": "code",
   "execution_count": 10,
   "id": "389aead4",
   "metadata": {},
   "outputs": [],
   "source": [
    "import pandas as pd\n",
    "import matplotlib.pyplot as plt\n",
    "import config"
   ]
  },
  {
   "cell_type": "code",
   "execution_count": 11,
   "id": "34258b5d",
   "metadata": {},
   "outputs": [
    {
     "data": {
      "text/plain": [
       "(44351, 17)"
      ]
     },
     "execution_count": 11,
     "metadata": {},
     "output_type": "execute_result"
    }
   ],
   "source": [
    "trips = pd.read_csv(config.TRIPS_1216_PRC, low_memory=False)\n",
    "trips.shape"
   ]
  },
  {
   "cell_type": "code",
   "execution_count": 12,
   "id": "15c53f64",
   "metadata": {},
   "outputs": [
    {
     "data": {
      "text/plain": [
       "Walk     20277\n",
       "Car      19823\n",
       "Train     2171\n",
       "Cycle     2080\n",
       "Name: Mode, dtype: int64"
      ]
     },
     "execution_count": 12,
     "metadata": {},
     "output_type": "execute_result"
    }
   ],
   "source": [
    "trips['Mode'].value_counts()"
   ]
  },
  {
   "cell_type": "code",
   "execution_count": 13,
   "id": "0fc41d4c",
   "metadata": {},
   "outputs": [
    {
     "data": {
      "text/html": [
       "<div>\n",
       "<style scoped>\n",
       "    .dataframe tbody tr th:only-of-type {\n",
       "        vertical-align: middle;\n",
       "    }\n",
       "\n",
       "    .dataframe tbody tr th {\n",
       "        vertical-align: top;\n",
       "    }\n",
       "\n",
       "    .dataframe thead th {\n",
       "        text-align: right;\n",
       "    }\n",
       "</style>\n",
       "<table border=\"1\" class=\"dataframe\">\n",
       "  <thead>\n",
       "    <tr style=\"text-align: right;\">\n",
       "      <th></th>\n",
       "      <th>count</th>\n",
       "      <th>mean</th>\n",
       "      <th>std</th>\n",
       "      <th>min</th>\n",
       "      <th>25%</th>\n",
       "      <th>50%</th>\n",
       "      <th>75%</th>\n",
       "      <th>max</th>\n",
       "    </tr>\n",
       "    <tr>\n",
       "      <th>Mode</th>\n",
       "      <th></th>\n",
       "      <th></th>\n",
       "      <th></th>\n",
       "      <th></th>\n",
       "      <th></th>\n",
       "      <th></th>\n",
       "      <th></th>\n",
       "      <th></th>\n",
       "    </tr>\n",
       "  </thead>\n",
       "  <tbody>\n",
       "    <tr>\n",
       "      <th>Car</th>\n",
       "      <td>19823.0</td>\n",
       "      <td>9.703360</td>\n",
       "      <td>17.038146</td>\n",
       "      <td>0.000000</td>\n",
       "      <td>2.070000</td>\n",
       "      <td>4.530000</td>\n",
       "      <td>10.821255</td>\n",
       "      <td>475.290000</td>\n",
       "    </tr>\n",
       "    <tr>\n",
       "      <th>Cycle</th>\n",
       "      <td>2080.0</td>\n",
       "      <td>4.809332</td>\n",
       "      <td>5.609853</td>\n",
       "      <td>0.050000</td>\n",
       "      <td>1.328027</td>\n",
       "      <td>2.920000</td>\n",
       "      <td>6.353000</td>\n",
       "      <td>60.548000</td>\n",
       "    </tr>\n",
       "    <tr>\n",
       "      <th>Train</th>\n",
       "      <td>2171.0</td>\n",
       "      <td>16.652811</td>\n",
       "      <td>16.228106</td>\n",
       "      <td>0.492057</td>\n",
       "      <td>6.024000</td>\n",
       "      <td>12.007369</td>\n",
       "      <td>21.792102</td>\n",
       "      <td>143.696153</td>\n",
       "    </tr>\n",
       "    <tr>\n",
       "      <th>Walk</th>\n",
       "      <td>20277.0</td>\n",
       "      <td>1.059256</td>\n",
       "      <td>1.107554</td>\n",
       "      <td>0.000000</td>\n",
       "      <td>0.439000</td>\n",
       "      <td>0.830000</td>\n",
       "      <td>1.390000</td>\n",
       "      <td>58.150000</td>\n",
       "    </tr>\n",
       "  </tbody>\n",
       "</table>\n",
       "</div>"
      ],
      "text/plain": [
       "         count       mean        std       min       25%        50%  \\\n",
       "Mode                                                                  \n",
       "Car    19823.0   9.703360  17.038146  0.000000  2.070000   4.530000   \n",
       "Cycle   2080.0   4.809332   5.609853  0.050000  1.328027   2.920000   \n",
       "Train   2171.0  16.652811  16.228106  0.492057  6.024000  12.007369   \n",
       "Walk   20277.0   1.059256   1.107554  0.000000  0.439000   0.830000   \n",
       "\n",
       "             75%         max  \n",
       "Mode                          \n",
       "Car    10.821255  475.290000  \n",
       "Cycle   6.353000   60.548000  \n",
       "Train  21.792102  143.696153  \n",
       "Walk    1.390000   58.150000  "
      ]
     },
     "execution_count": 13,
     "metadata": {},
     "output_type": "execute_result"
    }
   ],
   "source": [
    "trips.groupby(['Mode']).CUMDIST.describe()"
   ]
  },
  {
   "cell_type": "code",
   "execution_count": 14,
   "id": "a886b544",
   "metadata": {},
   "outputs": [
    {
     "data": {
      "text/plain": [
       "Mode\n",
       "Car      AxesSubplot(0.125,0.125;0.775x0.755)\n",
       "Cycle    AxesSubplot(0.125,0.125;0.775x0.755)\n",
       "Train    AxesSubplot(0.125,0.125;0.775x0.755)\n",
       "Walk     AxesSubplot(0.125,0.125;0.775x0.755)\n",
       "Name: CUMDIST, dtype: object"
      ]
     },
     "execution_count": 14,
     "metadata": {},
     "output_type": "execute_result"
    },
    {
     "data": {
      "image/png": "[encoded data removed]",
      "text/plain": [
       "<Figure size 864x432 with 1 Axes>"
      ]
     },
     "metadata": {
      "needs_background": "light"
     },
     "output_type": "display_data"
    }
   ],
   "source": [
    "trips[trips.CUMDIST < 100].groupby(['Mode']).CUMDIST.hist(bins=100, figsize=(12,6))"
   ]
  },
  {
   "cell_type": "code",
   "execution_count": 15,
   "id": "953658ad",
   "metadata": {},
   "outputs": [
    {
     "data": {
      "text/html": [
       "<div>\n",
       "<style scoped>\n",
       "    .dataframe tbody tr th:only-of-type {\n",
       "        vertical-align: middle;\n",
       "    }\n",
       "\n",
       "    .dataframe tbody tr th {\n",
       "        vertical-align: top;\n",
       "    }\n",
       "\n",
       "    .dataframe thead th {\n",
       "        text-align: right;\n",
       "    }\n",
       "</style>\n",
       "<table border=\"1\" class=\"dataframe\">\n",
       "  <thead>\n",
       "    <tr style=\"text-align: right;\">\n",
       "      <th></th>\n",
       "      <th>count</th>\n",
       "      <th>mean</th>\n",
       "      <th>std</th>\n",
       "      <th>min</th>\n",
       "      <th>25%</th>\n",
       "      <th>50%</th>\n",
       "      <th>75%</th>\n",
       "      <th>max</th>\n",
       "    </tr>\n",
       "    <tr>\n",
       "      <th>Mode</th>\n",
       "      <th></th>\n",
       "      <th></th>\n",
       "      <th></th>\n",
       "      <th></th>\n",
       "      <th></th>\n",
       "      <th></th>\n",
       "      <th></th>\n",
       "      <th></th>\n",
       "    </tr>\n",
       "  </thead>\n",
       "  <tbody>\n",
       "    <tr>\n",
       "      <th>Car</th>\n",
       "      <td>19823.0</td>\n",
       "      <td>20.026182</td>\n",
       "      <td>20.003503</td>\n",
       "      <td>1.0</td>\n",
       "      <td>10.0</td>\n",
       "      <td>15.0</td>\n",
       "      <td>25.0</td>\n",
       "      <td>465.0</td>\n",
       "    </tr>\n",
       "    <tr>\n",
       "      <th>Cycle</th>\n",
       "      <td>2080.0</td>\n",
       "      <td>25.083173</td>\n",
       "      <td>22.625765</td>\n",
       "      <td>1.0</td>\n",
       "      <td>10.0</td>\n",
       "      <td>20.0</td>\n",
       "      <td>30.0</td>\n",
       "      <td>270.0</td>\n",
       "    </tr>\n",
       "    <tr>\n",
       "      <th>Train</th>\n",
       "      <td>2171.0</td>\n",
       "      <td>47.811147</td>\n",
       "      <td>23.976319</td>\n",
       "      <td>5.0</td>\n",
       "      <td>30.0</td>\n",
       "      <td>45.0</td>\n",
       "      <td>60.0</td>\n",
       "      <td>302.0</td>\n",
       "    </tr>\n",
       "    <tr>\n",
       "      <th>Walk</th>\n",
       "      <td>20277.0</td>\n",
       "      <td>14.690783</td>\n",
       "      <td>12.378443</td>\n",
       "      <td>1.0</td>\n",
       "      <td>5.0</td>\n",
       "      <td>12.0</td>\n",
       "      <td>20.0</td>\n",
       "      <td>375.0</td>\n",
       "    </tr>\n",
       "  </tbody>\n",
       "</table>\n",
       "</div>"
      ],
      "text/plain": [
       "         count       mean        std  min   25%   50%   75%    max\n",
       "Mode                                                              \n",
       "Car    19823.0  20.026182  20.003503  1.0  10.0  15.0  25.0  465.0\n",
       "Cycle   2080.0  25.083173  22.625765  1.0  10.0  20.0  30.0  270.0\n",
       "Train   2171.0  47.811147  23.976319  5.0  30.0  45.0  60.0  302.0\n",
       "Walk   20277.0  14.690783  12.378443  1.0   5.0  12.0  20.0  375.0"
      ]
     },
     "execution_count": 15,
     "metadata": {},
     "output_type": "execute_result"
    }
   ],
   "source": [
    "trips.groupby(['Mode']).TRAVTIME.describe()"
   ]
  },
  {
   "cell_type": "code",
   "execution_count": 18,
   "id": "9a25b099",
   "metadata": {},
   "outputs": [
    {
     "data": {
      "text/plain": [
       "Mode\n",
       "Car      AxesSubplot(0.125,0.125;0.775x0.755)\n",
       "Cycle    AxesSubplot(0.125,0.125;0.775x0.755)\n",
       "Train    AxesSubplot(0.125,0.125;0.775x0.755)\n",
       "Walk     AxesSubplot(0.125,0.125;0.775x0.755)\n",
       "Name: TRAVTIME, dtype: object"
      ]
     },
     "execution_count": 18,
     "metadata": {},
     "output_type": "execute_result"
    },
    {
     "data": {
      "image/png": "[encoded data removed]",
      "text/plain": [
       "<Figure size 864x432 with 1 Axes>"
      ]
     },
     "metadata": {
      "needs_background": "light"
     },
     "output_type": "display_data"
    }
   ],
   "source": [
    "trips[trips.TRAVTIME < 200].groupby(['Mode']).TRAVTIME.hist(bins=50, figsize=(12,6))"
   ]
  },
  {
   "cell_type": "code",
   "execution_count": null,
   "id": "22cfa9e6",
   "metadata": {},
   "outputs": [],
   "source": []
  }
 ],
 "metadata": {
  "kernelspec": {
   "display_name": "Python 3",
   "language": "python",
   "name": "python3"
  },
  "language_info": {
   "codemirror_mode": {
    "name": "ipython",
    "version": 3
   },
   "file_extension": ".py",
   "mimetype": "text/x-python",
   "name": "python",
   "nbconvert_exporter": "python",
   "pygments_lexer": "ipython3",
   "version": "3.7.10"
  }
 },
 "nbformat": 4,
 "nbformat_minor": 5
}
