{
 "cells": [
  {
   "cell_type": "markdown",
   "id": "0d015314-5e08-4963-8271-2e27c8cffac5",
   "metadata": {},
   "source": [
    "#### This notebook add centroid for origin and destination zone of trips\n",
    "* The centroids of zones are generated from SA1 shapefile of ABS census\n",
    "* \n"
   ]
  },
  {
   "cell_type": "code",
   "execution_count": 422,
   "id": "ceramic-taylor",
   "metadata": {},
   "outputs": [],
   "source": [
    "import pandas as pd\n",
    "import geopandas as gpd\n",
    "import matplotlib.pyplot as plt\n",
    "import config"
   ]
  },
  {
   "cell_type": "code",
   "execution_count": 423,
   "id": "indoor-fisher",
   "metadata": {},
   "outputs": [
    {
     "data": {
      "text/plain": [
       "(44319, 20)"
      ]
     },
     "execution_count": 423,
     "metadata": {},
     "output_type": "execute_result"
    }
   ],
   "source": [
    "trips = pd.read_csv(config.TRIPS_1216_PRC, low_memory=False)\n",
    "trips.shape"
   ]
  },
  {
   "cell_type": "code",
   "execution_count": 424,
   "id": "necessary-bolivia",
   "metadata": {},
   "outputs": [
    {
     "data": {
      "text/html": [
       "<div>\n",
       "<style scoped>\n",
       "    .dataframe tbody tr th:only-of-type {\n",
       "        vertical-align: middle;\n",
       "    }\n",
       "\n",
       "    .dataframe tbody tr th {\n",
       "        vertical-align: top;\n",
       "    }\n",
       "\n",
       "    .dataframe thead th {\n",
       "        text-align: right;\n",
       "    }\n",
       "</style>\n",
       "<table border=\"1\" class=\"dataframe\">\n",
       "  <thead>\n",
       "    <tr style=\"text-align: right;\">\n",
       "      <th></th>\n",
       "      <th>TRIPID</th>\n",
       "      <th>PERSID</th>\n",
       "      <th>TRIPNO</th>\n",
       "      <th>TRAVDOW</th>\n",
       "      <th>LINKMODE</th>\n",
       "      <th>TRIPPURP</th>\n",
       "      <th>DESTPURP1</th>\n",
       "      <th>STARTHOUR</th>\n",
       "      <th>STARTIME</th>\n",
       "      <th>ARRHOUR</th>\n",
       "      <th>ARRTIME</th>\n",
       "      <th>TRIPTIME</th>\n",
       "      <th>TRAVTIME</th>\n",
       "      <th>WAITIME</th>\n",
       "      <th>ORIGSA1</th>\n",
       "      <th>ORIGSA3</th>\n",
       "      <th>DESTSA1</th>\n",
       "      <th>DESTSA3</th>\n",
       "      <th>CUMDIST</th>\n",
       "      <th>Mode</th>\n",
       "    </tr>\n",
       "  </thead>\n",
       "  <tbody>\n",
       "    <tr>\n",
       "      <th>0</th>\n",
       "      <td>Y12H0000107P01T01</td>\n",
       "      <td>Y12H0000107P01</td>\n",
       "      <td>1</td>\n",
       "      <td>Sunday</td>\n",
       "      <td>Vehicle Driver</td>\n",
       "      <td>Social</td>\n",
       "      <td>Social</td>\n",
       "      <td>10</td>\n",
       "      <td>630</td>\n",
       "      <td>10</td>\n",
       "      <td>650</td>\n",
       "      <td>20</td>\n",
       "      <td>20</td>\n",
       "      <td>0</td>\n",
       "      <td>20904122028</td>\n",
       "      <td>Whittlesea - Wallan</td>\n",
       "      <td>20904122002</td>\n",
       "      <td>Whittlesea - Wallan</td>\n",
       "      <td>2.60</td>\n",
       "      <td>Car</td>\n",
       "    </tr>\n",
       "    <tr>\n",
       "      <th>1</th>\n",
       "      <td>Y12H0000107P01T02</td>\n",
       "      <td>Y12H0000107P01</td>\n",
       "      <td>2</td>\n",
       "      <td>Sunday</td>\n",
       "      <td>Vehicle Driver</td>\n",
       "      <td>Social</td>\n",
       "      <td>At or Go Home</td>\n",
       "      <td>12</td>\n",
       "      <td>750</td>\n",
       "      <td>12</td>\n",
       "      <td>760</td>\n",
       "      <td>10</td>\n",
       "      <td>10</td>\n",
       "      <td>0</td>\n",
       "      <td>20904122002</td>\n",
       "      <td>Whittlesea - Wallan</td>\n",
       "      <td>20904122028</td>\n",
       "      <td>Whittlesea - Wallan</td>\n",
       "      <td>2.60</td>\n",
       "      <td>Car</td>\n",
       "    </tr>\n",
       "    <tr>\n",
       "      <th>2</th>\n",
       "      <td>Y12H0000107P01T03</td>\n",
       "      <td>Y12H0000107P01</td>\n",
       "      <td>3</td>\n",
       "      <td>Sunday</td>\n",
       "      <td>Walking</td>\n",
       "      <td>Recreational</td>\n",
       "      <td>Recreational</td>\n",
       "      <td>13</td>\n",
       "      <td>810</td>\n",
       "      <td>14</td>\n",
       "      <td>840</td>\n",
       "      <td>30</td>\n",
       "      <td>30</td>\n",
       "      <td>0</td>\n",
       "      <td>20904122028</td>\n",
       "      <td>Whittlesea - Wallan</td>\n",
       "      <td>20904122031</td>\n",
       "      <td>Whittlesea - Wallan</td>\n",
       "      <td>3.23</td>\n",
       "      <td>Walk</td>\n",
       "    </tr>\n",
       "    <tr>\n",
       "      <th>3</th>\n",
       "      <td>Y12H0000107P01T04</td>\n",
       "      <td>Y12H0000107P01</td>\n",
       "      <td>4</td>\n",
       "      <td>Sunday</td>\n",
       "      <td>Walking</td>\n",
       "      <td>Recreational</td>\n",
       "      <td>At or Go Home</td>\n",
       "      <td>14</td>\n",
       "      <td>855</td>\n",
       "      <td>14</td>\n",
       "      <td>885</td>\n",
       "      <td>30</td>\n",
       "      <td>30</td>\n",
       "      <td>0</td>\n",
       "      <td>20904122031</td>\n",
       "      <td>Whittlesea - Wallan</td>\n",
       "      <td>20904122028</td>\n",
       "      <td>Whittlesea - Wallan</td>\n",
       "      <td>3.23</td>\n",
       "      <td>Walk</td>\n",
       "    </tr>\n",
       "    <tr>\n",
       "      <th>4</th>\n",
       "      <td>Y12H0000107P02T01</td>\n",
       "      <td>Y12H0000107P02</td>\n",
       "      <td>1</td>\n",
       "      <td>Sunday</td>\n",
       "      <td>Vehicle Passenger</td>\n",
       "      <td>Social</td>\n",
       "      <td>Social</td>\n",
       "      <td>10</td>\n",
       "      <td>630</td>\n",
       "      <td>10</td>\n",
       "      <td>650</td>\n",
       "      <td>20</td>\n",
       "      <td>20</td>\n",
       "      <td>0</td>\n",
       "      <td>20904122028</td>\n",
       "      <td>Whittlesea - Wallan</td>\n",
       "      <td>20904122002</td>\n",
       "      <td>Whittlesea - Wallan</td>\n",
       "      <td>2.60</td>\n",
       "      <td>Car</td>\n",
       "    </tr>\n",
       "  </tbody>\n",
       "</table>\n",
       "</div>"
      ],
      "text/plain": [
       "              TRIPID          PERSID  TRIPNO TRAVDOW           LINKMODE  \\\n",
       "0  Y12H0000107P01T01  Y12H0000107P01       1  Sunday     Vehicle Driver   \n",
       "1  Y12H0000107P01T02  Y12H0000107P01       2  Sunday     Vehicle Driver   \n",
       "2  Y12H0000107P01T03  Y12H0000107P01       3  Sunday            Walking   \n",
       "3  Y12H0000107P01T04  Y12H0000107P01       4  Sunday            Walking   \n",
       "4  Y12H0000107P02T01  Y12H0000107P02       1  Sunday  Vehicle Passenger   \n",
       "\n",
       "       TRIPPURP      DESTPURP1  STARTHOUR  STARTIME  ARRHOUR  ARRTIME  \\\n",
       "0        Social         Social         10       630       10      650   \n",
       "1        Social  At or Go Home         12       750       12      760   \n",
       "2  Recreational   Recreational         13       810       14      840   \n",
       "3  Recreational  At or Go Home         14       855       14      885   \n",
       "4        Social         Social         10       630       10      650   \n",
       "\n",
       "   TRIPTIME  TRAVTIME  WAITIME      ORIGSA1              ORIGSA3      DESTSA1  \\\n",
       "0        20        20        0  20904122028  Whittlesea - Wallan  20904122002   \n",
       "1        10        10        0  20904122002  Whittlesea - Wallan  20904122028   \n",
       "2        30        30        0  20904122028  Whittlesea - Wallan  20904122031   \n",
       "3        30        30        0  20904122031  Whittlesea - Wallan  20904122028   \n",
       "4        20        20        0  20904122028  Whittlesea - Wallan  20904122002   \n",
       "\n",
       "               DESTSA3  CUMDIST  Mode  \n",
       "0  Whittlesea - Wallan     2.60   Car  \n",
       "1  Whittlesea - Wallan     2.60   Car  \n",
       "2  Whittlesea - Wallan     3.23  Walk  \n",
       "3  Whittlesea - Wallan     3.23  Walk  \n",
       "4  Whittlesea - Wallan     2.60   Car  "
      ]
     },
     "execution_count": 424,
     "metadata": {},
     "output_type": "execute_result"
    }
   ],
   "source": [
    "trips.head()"
   ]
  },
  {
   "cell_type": "code",
   "execution_count": 425,
   "id": "affb7536-f168-4b89-8535-fef665870f65",
   "metadata": {},
   "outputs": [
    {
     "data": {
      "text/plain": [
       "Index(['TRIPID', 'PERSID', 'TRIPNO', 'TRAVDOW', 'LINKMODE', 'TRIPPURP',\n",
       "       'DESTPURP1', 'STARTHOUR', 'STARTIME', 'ARRHOUR', 'ARRTIME', 'TRIPTIME',\n",
       "       'TRAVTIME', 'WAITIME', 'ORIGSA1', 'ORIGSA3', 'DESTSA1', 'DESTSA3',\n",
       "       'CUMDIST', 'Mode'],\n",
       "      dtype='object')"
      ]
     },
     "execution_count": 425,
     "metadata": {},
     "output_type": "execute_result"
    }
   ],
   "source": [
    "trips.columns"
   ]
  },
  {
   "cell_type": "markdown",
   "id": "fitted-martin",
   "metadata": {},
   "source": [
    "### Get SA1 shapefile"
   ]
  },
  {
   "cell_type": "code",
   "execution_count": 426,
   "id": "domestic-anthony",
   "metadata": {},
   "outputs": [],
   "source": [
    "shape_file = \"../data/raw/1270055001_sa1_2016_aust_shape.zip\"\n",
    "gdf = gpd.read_file(shape_file)"
   ]
  },
  {
   "cell_type": "code",
   "execution_count": 427,
   "id": "veterinary-donna",
   "metadata": {},
   "outputs": [
    {
     "data": {
      "text/plain": [
       "(57523, 15)"
      ]
     },
     "execution_count": 427,
     "metadata": {},
     "output_type": "execute_result"
    }
   ],
   "source": [
    "gdf.shape"
   ]
  },
  {
   "cell_type": "code",
   "execution_count": 428,
   "id": "62713c20-92c2-4e0f-9672-ab24d1377176",
   "metadata": {},
   "outputs": [
    {
     "data": {
      "text/html": [
       "<div>\n",
       "<style scoped>\n",
       "    .dataframe tbody tr th:only-of-type {\n",
       "        vertical-align: middle;\n",
       "    }\n",
       "\n",
       "    .dataframe tbody tr th {\n",
       "        vertical-align: top;\n",
       "    }\n",
       "\n",
       "    .dataframe thead th {\n",
       "        text-align: right;\n",
       "    }\n",
       "</style>\n",
       "<table border=\"1\" class=\"dataframe\">\n",
       "  <thead>\n",
       "    <tr style=\"text-align: right;\">\n",
       "      <th></th>\n",
       "      <th>SA1_MAIN16</th>\n",
       "      <th>SA1_7DIG16</th>\n",
       "      <th>SA2_MAIN16</th>\n",
       "      <th>SA2_5DIG16</th>\n",
       "      <th>SA2_NAME16</th>\n",
       "      <th>SA3_CODE16</th>\n",
       "      <th>SA3_NAME16</th>\n",
       "      <th>SA4_CODE16</th>\n",
       "      <th>SA4_NAME16</th>\n",
       "      <th>GCC_CODE16</th>\n",
       "      <th>GCC_NAME16</th>\n",
       "      <th>STE_CODE16</th>\n",
       "      <th>STE_NAME16</th>\n",
       "      <th>AREASQKM16</th>\n",
       "      <th>geometry</th>\n",
       "    </tr>\n",
       "  </thead>\n",
       "  <tbody>\n",
       "  </tbody>\n",
       "</table>\n",
       "</div>"
      ],
      "text/plain": [
       "Empty GeoDataFrame\n",
       "Columns: [SA1_MAIN16, SA1_7DIG16, SA2_MAIN16, SA2_5DIG16, SA2_NAME16, SA3_CODE16, SA3_NAME16, SA4_CODE16, SA4_NAME16, GCC_CODE16, GCC_NAME16, STE_CODE16, STE_NAME16, AREASQKM16, geometry]\n",
       "Index: []"
      ]
     },
     "execution_count": 428,
     "metadata": {},
     "output_type": "execute_result"
    }
   ],
   "source": [
    "gdf[gdf['SA1_MAIN16'].isin([20604112201])]"
   ]
  },
  {
   "cell_type": "code",
   "execution_count": 429,
   "id": "hollow-sussex",
   "metadata": {},
   "outputs": [
    {
     "data": {
      "text/html": [
       "<div>\n",
       "<style scoped>\n",
       "    .dataframe tbody tr th:only-of-type {\n",
       "        vertical-align: middle;\n",
       "    }\n",
       "\n",
       "    .dataframe tbody tr th {\n",
       "        vertical-align: top;\n",
       "    }\n",
       "\n",
       "    .dataframe thead th {\n",
       "        text-align: right;\n",
       "    }\n",
       "</style>\n",
       "<table border=\"1\" class=\"dataframe\">\n",
       "  <thead>\n",
       "    <tr style=\"text-align: right;\">\n",
       "      <th></th>\n",
       "      <th>SA1_MAIN16</th>\n",
       "      <th>SA1_7DIG16</th>\n",
       "      <th>SA2_MAIN16</th>\n",
       "      <th>SA2_5DIG16</th>\n",
       "      <th>SA2_NAME16</th>\n",
       "      <th>SA3_CODE16</th>\n",
       "      <th>SA3_NAME16</th>\n",
       "      <th>SA4_CODE16</th>\n",
       "      <th>SA4_NAME16</th>\n",
       "      <th>GCC_CODE16</th>\n",
       "      <th>GCC_NAME16</th>\n",
       "      <th>STE_CODE16</th>\n",
       "      <th>STE_NAME16</th>\n",
       "      <th>AREASQKM16</th>\n",
       "      <th>geometry</th>\n",
       "    </tr>\n",
       "  </thead>\n",
       "  <tbody>\n",
       "    <tr>\n",
       "      <th>0</th>\n",
       "      <td>10102100701</td>\n",
       "      <td>1100701</td>\n",
       "      <td>101021007</td>\n",
       "      <td>11007</td>\n",
       "      <td>Braidwood</td>\n",
       "      <td>10102</td>\n",
       "      <td>Queanbeyan</td>\n",
       "      <td>101</td>\n",
       "      <td>Capital Region</td>\n",
       "      <td>1RNSW</td>\n",
       "      <td>Rest of NSW</td>\n",
       "      <td>1</td>\n",
       "      <td>New South Wales</td>\n",
       "      <td>362.8727</td>\n",
       "      <td>POLYGON ((149.71174 -35.12318, 149.71184 -35.1...</td>\n",
       "    </tr>\n",
       "    <tr>\n",
       "      <th>1</th>\n",
       "      <td>10102100702</td>\n",
       "      <td>1100702</td>\n",
       "      <td>101021007</td>\n",
       "      <td>11007</td>\n",
       "      <td>Braidwood</td>\n",
       "      <td>10102</td>\n",
       "      <td>Queanbeyan</td>\n",
       "      <td>101</td>\n",
       "      <td>Capital Region</td>\n",
       "      <td>1RNSW</td>\n",
       "      <td>Rest of NSW</td>\n",
       "      <td>1</td>\n",
       "      <td>New South Wales</td>\n",
       "      <td>229.7459</td>\n",
       "      <td>POLYGON ((149.73421 -35.36758, 149.74475 -35.3...</td>\n",
       "    </tr>\n",
       "    <tr>\n",
       "      <th>2</th>\n",
       "      <td>10102100703</td>\n",
       "      <td>1100703</td>\n",
       "      <td>101021007</td>\n",
       "      <td>11007</td>\n",
       "      <td>Braidwood</td>\n",
       "      <td>10102</td>\n",
       "      <td>Queanbeyan</td>\n",
       "      <td>101</td>\n",
       "      <td>Capital Region</td>\n",
       "      <td>1RNSW</td>\n",
       "      <td>Rest of NSW</td>\n",
       "      <td>1</td>\n",
       "      <td>New South Wales</td>\n",
       "      <td>2.3910</td>\n",
       "      <td>POLYGON ((149.77998 -35.44067, 149.77996 -35.4...</td>\n",
       "    </tr>\n",
       "    <tr>\n",
       "      <th>3</th>\n",
       "      <td>10102100704</td>\n",
       "      <td>1100704</td>\n",
       "      <td>101021007</td>\n",
       "      <td>11007</td>\n",
       "      <td>Braidwood</td>\n",
       "      <td>10102</td>\n",
       "      <td>Queanbeyan</td>\n",
       "      <td>101</td>\n",
       "      <td>Capital Region</td>\n",
       "      <td>1RNSW</td>\n",
       "      <td>Rest of NSW</td>\n",
       "      <td>1</td>\n",
       "      <td>New South Wales</td>\n",
       "      <td>1.2816</td>\n",
       "      <td>POLYGON ((149.79744 -35.44149, 149.79778 -35.4...</td>\n",
       "    </tr>\n",
       "    <tr>\n",
       "      <th>4</th>\n",
       "      <td>10102100705</td>\n",
       "      <td>1100705</td>\n",
       "      <td>101021007</td>\n",
       "      <td>11007</td>\n",
       "      <td>Braidwood</td>\n",
       "      <td>10102</td>\n",
       "      <td>Queanbeyan</td>\n",
       "      <td>101</td>\n",
       "      <td>Capital Region</td>\n",
       "      <td>1RNSW</td>\n",
       "      <td>Rest of NSW</td>\n",
       "      <td>1</td>\n",
       "      <td>New South Wales</td>\n",
       "      <td>1.1978</td>\n",
       "      <td>POLYGON ((149.79498 -35.44902, 149.79517 -35.4...</td>\n",
       "    </tr>\n",
       "  </tbody>\n",
       "</table>\n",
       "</div>"
      ],
      "text/plain": [
       "    SA1_MAIN16 SA1_7DIG16 SA2_MAIN16 SA2_5DIG16 SA2_NAME16 SA3_CODE16  \\\n",
       "0  10102100701    1100701  101021007      11007  Braidwood      10102   \n",
       "1  10102100702    1100702  101021007      11007  Braidwood      10102   \n",
       "2  10102100703    1100703  101021007      11007  Braidwood      10102   \n",
       "3  10102100704    1100704  101021007      11007  Braidwood      10102   \n",
       "4  10102100705    1100705  101021007      11007  Braidwood      10102   \n",
       "\n",
       "   SA3_NAME16 SA4_CODE16      SA4_NAME16 GCC_CODE16   GCC_NAME16 STE_CODE16  \\\n",
       "0  Queanbeyan        101  Capital Region      1RNSW  Rest of NSW          1   \n",
       "1  Queanbeyan        101  Capital Region      1RNSW  Rest of NSW          1   \n",
       "2  Queanbeyan        101  Capital Region      1RNSW  Rest of NSW          1   \n",
       "3  Queanbeyan        101  Capital Region      1RNSW  Rest of NSW          1   \n",
       "4  Queanbeyan        101  Capital Region      1RNSW  Rest of NSW          1   \n",
       "\n",
       "        STE_NAME16  AREASQKM16  \\\n",
       "0  New South Wales    362.8727   \n",
       "1  New South Wales    229.7459   \n",
       "2  New South Wales      2.3910   \n",
       "3  New South Wales      1.2816   \n",
       "4  New South Wales      1.1978   \n",
       "\n",
       "                                            geometry  \n",
       "0  POLYGON ((149.71174 -35.12318, 149.71184 -35.1...  \n",
       "1  POLYGON ((149.73421 -35.36758, 149.74475 -35.3...  \n",
       "2  POLYGON ((149.77998 -35.44067, 149.77996 -35.4...  \n",
       "3  POLYGON ((149.79744 -35.44149, 149.79778 -35.4...  \n",
       "4  POLYGON ((149.79498 -35.44902, 149.79517 -35.4...  "
      ]
     },
     "execution_count": 429,
     "metadata": {},
     "output_type": "execute_result"
    }
   ],
   "source": [
    "gdf.head()"
   ]
  },
  {
   "cell_type": "code",
   "execution_count": 430,
   "id": "interracial-honduras",
   "metadata": {},
   "outputs": [
    {
     "data": {
      "text/plain": [
       "New South Wales                 18399\n",
       "Victoria                        14073\n",
       "Queensland                      11563\n",
       "Western Australia                5984\n",
       "South Australia                  4245\n",
       "Tasmania                         1464\n",
       "Australian Capital Territory     1147\n",
       "Northern Territory                626\n",
       "Other Territories                  22\n",
       "Name: STE_NAME16, dtype: int64"
      ]
     },
     "execution_count": 430,
     "metadata": {},
     "output_type": "execute_result"
    }
   ],
   "source": [
    "gdf.STE_NAME16.value_counts()"
   ]
  },
  {
   "cell_type": "code",
   "execution_count": 431,
   "id": "bound-employment",
   "metadata": {},
   "outputs": [
    {
     "data": {
      "text/plain": [
       "(57523, 15)"
      ]
     },
     "execution_count": 431,
     "metadata": {},
     "output_type": "execute_result"
    }
   ],
   "source": [
    "# Only using SA1 from Victoria\n",
    "# gdf_vic = gdf[gdf.STE_NAME16 == \"Victoria\"]\n",
    "gdf_vic = gdf\n",
    "gdf_vic.shape"
   ]
  },
  {
   "cell_type": "code",
   "execution_count": 432,
   "id": "duplicate-appearance",
   "metadata": {},
   "outputs": [
    {
     "data": {
      "text/plain": [
       "Index(['SA1_MAIN16', 'SA1_7DIG16', 'SA2_MAIN16', 'SA2_5DIG16', 'SA2_NAME16',\n",
       "       'SA3_CODE16', 'SA3_NAME16', 'SA4_CODE16', 'SA4_NAME16', 'GCC_CODE16',\n",
       "       'GCC_NAME16', 'STE_CODE16', 'STE_NAME16', 'AREASQKM16', 'geometry'],\n",
       "      dtype='object')"
      ]
     },
     "execution_count": 432,
     "metadata": {},
     "output_type": "execute_result"
    }
   ],
   "source": [
    "gdf_vic.columns"
   ]
  },
  {
   "cell_type": "code",
   "execution_count": 433,
   "id": "incorporate-eligibility",
   "metadata": {},
   "outputs": [],
   "source": [
    "# Remove SA1 do not have geometry\n",
    "gdf_vic.dropna(inplace=True)"
   ]
  },
  {
   "cell_type": "code",
   "execution_count": 434,
   "id": "endless-edward",
   "metadata": {},
   "outputs": [
    {
     "data": {
      "text/plain": [
       "SA1_MAIN16    0\n",
       "SA1_7DIG16    0\n",
       "SA2_MAIN16    0\n",
       "SA2_5DIG16    0\n",
       "SA2_NAME16    0\n",
       "SA3_CODE16    0\n",
       "SA3_NAME16    0\n",
       "SA4_CODE16    0\n",
       "SA4_NAME16    0\n",
       "GCC_CODE16    0\n",
       "GCC_NAME16    0\n",
       "STE_CODE16    0\n",
       "STE_NAME16    0\n",
       "AREASQKM16    0\n",
       "geometry      0\n",
       "dtype: int64"
      ]
     },
     "execution_count": 434,
     "metadata": {},
     "output_type": "execute_result"
    }
   ],
   "source": [
    "gdf_vic.isna().sum()"
   ]
  },
  {
   "cell_type": "code",
   "execution_count": 435,
   "id": "broken-hostel",
   "metadata": {},
   "outputs": [
    {
     "data": {
      "text/plain": [
       "(57490, 10)"
      ]
     },
     "execution_count": 435,
     "metadata": {},
     "output_type": "execute_result"
    }
   ],
   "source": [
    "columns = ['SA1_MAIN16', 'SA2_MAIN16', 'SA2_NAME16', \n",
    "           'SA3_CODE16', 'SA3_NAME16', 'SA4_CODE16', 'SA4_NAME16', \n",
    "           'STE_NAME16', 'AREASQKM16', 'geometry']\n",
    "gdf_vic = gdf_vic[columns]\n",
    "gdf_vic.shape"
   ]
  },
  {
   "cell_type": "code",
   "execution_count": 436,
   "id": "ethical-domestic",
   "metadata": {},
   "outputs": [
    {
     "name": "stderr",
     "output_type": "stream",
     "text": [
      "/home/danph/.pyenv/versions/3.8.5/envs/.ml/lib/python3.8/site-packages/geopandas/geodataframe.py:1322: SettingWithCopyWarning: \n",
      "A value is trying to be set on a copy of a slice from a DataFrame.\n",
      "Try using .loc[row_indexer,col_indexer] = value instead\n",
      "\n",
      "See the caveats in the documentation: https://pandas.pydata.org/pandas-docs/stable/user_guide/indexing.html#returning-a-view-versus-a-copy\n",
      "  super(GeoDataFrame, self).__setitem__(key, value)\n"
     ]
    }
   ],
   "source": [
    "gdf_vic[\"centroid\"] = gdf_vic.geometry.apply(lambda x: x.centroid)"
   ]
  },
  {
   "cell_type": "code",
   "execution_count": 437,
   "id": "sufficient-soccer",
   "metadata": {},
   "outputs": [
    {
     "data": {
      "text/html": [
       "<div>\n",
       "<style scoped>\n",
       "    .dataframe tbody tr th:only-of-type {\n",
       "        vertical-align: middle;\n",
       "    }\n",
       "\n",
       "    .dataframe tbody tr th {\n",
       "        vertical-align: top;\n",
       "    }\n",
       "\n",
       "    .dataframe thead th {\n",
       "        text-align: right;\n",
       "    }\n",
       "</style>\n",
       "<table border=\"1\" class=\"dataframe\">\n",
       "  <thead>\n",
       "    <tr style=\"text-align: right;\">\n",
       "      <th></th>\n",
       "      <th>SA1_MAIN16</th>\n",
       "      <th>SA2_MAIN16</th>\n",
       "      <th>SA2_NAME16</th>\n",
       "      <th>SA3_CODE16</th>\n",
       "      <th>SA3_NAME16</th>\n",
       "      <th>SA4_CODE16</th>\n",
       "      <th>SA4_NAME16</th>\n",
       "      <th>STE_NAME16</th>\n",
       "      <th>AREASQKM16</th>\n",
       "      <th>geometry</th>\n",
       "      <th>centroid</th>\n",
       "    </tr>\n",
       "  </thead>\n",
       "  <tbody>\n",
       "    <tr>\n",
       "      <th>0</th>\n",
       "      <td>10102100701</td>\n",
       "      <td>101021007</td>\n",
       "      <td>Braidwood</td>\n",
       "      <td>10102</td>\n",
       "      <td>Queanbeyan</td>\n",
       "      <td>101</td>\n",
       "      <td>Capital Region</td>\n",
       "      <td>New South Wales</td>\n",
       "      <td>362.8727</td>\n",
       "      <td>POLYGON ((149.71174 -35.12318, 149.71184 -35.1...</td>\n",
       "      <td>POINT (149.85770 -35.14610)</td>\n",
       "    </tr>\n",
       "    <tr>\n",
       "      <th>1</th>\n",
       "      <td>10102100702</td>\n",
       "      <td>101021007</td>\n",
       "      <td>Braidwood</td>\n",
       "      <td>10102</td>\n",
       "      <td>Queanbeyan</td>\n",
       "      <td>101</td>\n",
       "      <td>Capital Region</td>\n",
       "      <td>New South Wales</td>\n",
       "      <td>229.7459</td>\n",
       "      <td>POLYGON ((149.73421 -35.36758, 149.74475 -35.3...</td>\n",
       "      <td>POINT (149.80306 -35.43468)</td>\n",
       "    </tr>\n",
       "    <tr>\n",
       "      <th>2</th>\n",
       "      <td>10102100703</td>\n",
       "      <td>101021007</td>\n",
       "      <td>Braidwood</td>\n",
       "      <td>10102</td>\n",
       "      <td>Queanbeyan</td>\n",
       "      <td>101</td>\n",
       "      <td>Capital Region</td>\n",
       "      <td>New South Wales</td>\n",
       "      <td>2.3910</td>\n",
       "      <td>POLYGON ((149.77998 -35.44067, 149.77996 -35.4...</td>\n",
       "      <td>POINT (149.78959 -35.43862)</td>\n",
       "    </tr>\n",
       "    <tr>\n",
       "      <th>3</th>\n",
       "      <td>10102100704</td>\n",
       "      <td>101021007</td>\n",
       "      <td>Braidwood</td>\n",
       "      <td>10102</td>\n",
       "      <td>Queanbeyan</td>\n",
       "      <td>101</td>\n",
       "      <td>Capital Region</td>\n",
       "      <td>New South Wales</td>\n",
       "      <td>1.2816</td>\n",
       "      <td>POLYGON ((149.79744 -35.44149, 149.79778 -35.4...</td>\n",
       "      <td>POINT (149.80227 -35.43901)</td>\n",
       "    </tr>\n",
       "    <tr>\n",
       "      <th>4</th>\n",
       "      <td>10102100705</td>\n",
       "      <td>101021007</td>\n",
       "      <td>Braidwood</td>\n",
       "      <td>10102</td>\n",
       "      <td>Queanbeyan</td>\n",
       "      <td>101</td>\n",
       "      <td>Capital Region</td>\n",
       "      <td>New South Wales</td>\n",
       "      <td>1.1978</td>\n",
       "      <td>POLYGON ((149.79498 -35.44902, 149.79517 -35.4...</td>\n",
       "      <td>POINT (149.79680 -35.44997)</td>\n",
       "    </tr>\n",
       "  </tbody>\n",
       "</table>\n",
       "</div>"
      ],
      "text/plain": [
       "    SA1_MAIN16 SA2_MAIN16 SA2_NAME16 SA3_CODE16  SA3_NAME16 SA4_CODE16  \\\n",
       "0  10102100701  101021007  Braidwood      10102  Queanbeyan        101   \n",
       "1  10102100702  101021007  Braidwood      10102  Queanbeyan        101   \n",
       "2  10102100703  101021007  Braidwood      10102  Queanbeyan        101   \n",
       "3  10102100704  101021007  Braidwood      10102  Queanbeyan        101   \n",
       "4  10102100705  101021007  Braidwood      10102  Queanbeyan        101   \n",
       "\n",
       "       SA4_NAME16       STE_NAME16  AREASQKM16  \\\n",
       "0  Capital Region  New South Wales    362.8727   \n",
       "1  Capital Region  New South Wales    229.7459   \n",
       "2  Capital Region  New South Wales      2.3910   \n",
       "3  Capital Region  New South Wales      1.2816   \n",
       "4  Capital Region  New South Wales      1.1978   \n",
       "\n",
       "                                            geometry  \\\n",
       "0  POLYGON ((149.71174 -35.12318, 149.71184 -35.1...   \n",
       "1  POLYGON ((149.73421 -35.36758, 149.74475 -35.3...   \n",
       "2  POLYGON ((149.77998 -35.44067, 149.77996 -35.4...   \n",
       "3  POLYGON ((149.79744 -35.44149, 149.79778 -35.4...   \n",
       "4  POLYGON ((149.79498 -35.44902, 149.79517 -35.4...   \n",
       "\n",
       "                      centroid  \n",
       "0  POINT (149.85770 -35.14610)  \n",
       "1  POINT (149.80306 -35.43468)  \n",
       "2  POINT (149.78959 -35.43862)  \n",
       "3  POINT (149.80227 -35.43901)  \n",
       "4  POINT (149.79680 -35.44997)  "
      ]
     },
     "execution_count": 437,
     "metadata": {},
     "output_type": "execute_result"
    }
   ],
   "source": [
    "gdf_vic.head()"
   ]
  },
  {
   "cell_type": "markdown",
   "id": "appreciated-waters",
   "metadata": {},
   "source": [
    "### Merge OD SA1 centroids to trips dataset"
   ]
  },
  {
   "cell_type": "code",
   "execution_count": 438,
   "id": "toxic-photography",
   "metadata": {},
   "outputs": [
    {
     "data": {
      "text/html": [
       "<div>\n",
       "<style scoped>\n",
       "    .dataframe tbody tr th:only-of-type {\n",
       "        vertical-align: middle;\n",
       "    }\n",
       "\n",
       "    .dataframe tbody tr th {\n",
       "        vertical-align: top;\n",
       "    }\n",
       "\n",
       "    .dataframe thead th {\n",
       "        text-align: right;\n",
       "    }\n",
       "</style>\n",
       "<table border=\"1\" class=\"dataframe\">\n",
       "  <thead>\n",
       "    <tr style=\"text-align: right;\">\n",
       "      <th></th>\n",
       "      <th>TRIPID</th>\n",
       "      <th>PERSID</th>\n",
       "      <th>TRIPNO</th>\n",
       "      <th>TRAVDOW</th>\n",
       "      <th>LINKMODE</th>\n",
       "      <th>TRIPPURP</th>\n",
       "      <th>DESTPURP1</th>\n",
       "      <th>STARTHOUR</th>\n",
       "      <th>STARTIME</th>\n",
       "      <th>ARRHOUR</th>\n",
       "      <th>ARRTIME</th>\n",
       "      <th>TRIPTIME</th>\n",
       "      <th>TRAVTIME</th>\n",
       "      <th>WAITIME</th>\n",
       "      <th>ORIGSA1</th>\n",
       "      <th>ORIGSA3</th>\n",
       "      <th>DESTSA1</th>\n",
       "      <th>DESTSA3</th>\n",
       "      <th>CUMDIST</th>\n",
       "      <th>Mode</th>\n",
       "    </tr>\n",
       "  </thead>\n",
       "  <tbody>\n",
       "    <tr>\n",
       "      <th>0</th>\n",
       "      <td>Y12H0000107P01T01</td>\n",
       "      <td>Y12H0000107P01</td>\n",
       "      <td>1</td>\n",
       "      <td>Sunday</td>\n",
       "      <td>Vehicle Driver</td>\n",
       "      <td>Social</td>\n",
       "      <td>Social</td>\n",
       "      <td>10</td>\n",
       "      <td>630</td>\n",
       "      <td>10</td>\n",
       "      <td>650</td>\n",
       "      <td>20</td>\n",
       "      <td>20</td>\n",
       "      <td>0</td>\n",
       "      <td>20904122028</td>\n",
       "      <td>Whittlesea - Wallan</td>\n",
       "      <td>20904122002</td>\n",
       "      <td>Whittlesea - Wallan</td>\n",
       "      <td>2.60</td>\n",
       "      <td>Car</td>\n",
       "    </tr>\n",
       "    <tr>\n",
       "      <th>1</th>\n",
       "      <td>Y12H0000107P01T02</td>\n",
       "      <td>Y12H0000107P01</td>\n",
       "      <td>2</td>\n",
       "      <td>Sunday</td>\n",
       "      <td>Vehicle Driver</td>\n",
       "      <td>Social</td>\n",
       "      <td>At or Go Home</td>\n",
       "      <td>12</td>\n",
       "      <td>750</td>\n",
       "      <td>12</td>\n",
       "      <td>760</td>\n",
       "      <td>10</td>\n",
       "      <td>10</td>\n",
       "      <td>0</td>\n",
       "      <td>20904122002</td>\n",
       "      <td>Whittlesea - Wallan</td>\n",
       "      <td>20904122028</td>\n",
       "      <td>Whittlesea - Wallan</td>\n",
       "      <td>2.60</td>\n",
       "      <td>Car</td>\n",
       "    </tr>\n",
       "    <tr>\n",
       "      <th>2</th>\n",
       "      <td>Y12H0000107P01T03</td>\n",
       "      <td>Y12H0000107P01</td>\n",
       "      <td>3</td>\n",
       "      <td>Sunday</td>\n",
       "      <td>Walking</td>\n",
       "      <td>Recreational</td>\n",
       "      <td>Recreational</td>\n",
       "      <td>13</td>\n",
       "      <td>810</td>\n",
       "      <td>14</td>\n",
       "      <td>840</td>\n",
       "      <td>30</td>\n",
       "      <td>30</td>\n",
       "      <td>0</td>\n",
       "      <td>20904122028</td>\n",
       "      <td>Whittlesea - Wallan</td>\n",
       "      <td>20904122031</td>\n",
       "      <td>Whittlesea - Wallan</td>\n",
       "      <td>3.23</td>\n",
       "      <td>Walk</td>\n",
       "    </tr>\n",
       "    <tr>\n",
       "      <th>3</th>\n",
       "      <td>Y12H0000107P01T04</td>\n",
       "      <td>Y12H0000107P01</td>\n",
       "      <td>4</td>\n",
       "      <td>Sunday</td>\n",
       "      <td>Walking</td>\n",
       "      <td>Recreational</td>\n",
       "      <td>At or Go Home</td>\n",
       "      <td>14</td>\n",
       "      <td>855</td>\n",
       "      <td>14</td>\n",
       "      <td>885</td>\n",
       "      <td>30</td>\n",
       "      <td>30</td>\n",
       "      <td>0</td>\n",
       "      <td>20904122031</td>\n",
       "      <td>Whittlesea - Wallan</td>\n",
       "      <td>20904122028</td>\n",
       "      <td>Whittlesea - Wallan</td>\n",
       "      <td>3.23</td>\n",
       "      <td>Walk</td>\n",
       "    </tr>\n",
       "    <tr>\n",
       "      <th>4</th>\n",
       "      <td>Y12H0000107P02T01</td>\n",
       "      <td>Y12H0000107P02</td>\n",
       "      <td>1</td>\n",
       "      <td>Sunday</td>\n",
       "      <td>Vehicle Passenger</td>\n",
       "      <td>Social</td>\n",
       "      <td>Social</td>\n",
       "      <td>10</td>\n",
       "      <td>630</td>\n",
       "      <td>10</td>\n",
       "      <td>650</td>\n",
       "      <td>20</td>\n",
       "      <td>20</td>\n",
       "      <td>0</td>\n",
       "      <td>20904122028</td>\n",
       "      <td>Whittlesea - Wallan</td>\n",
       "      <td>20904122002</td>\n",
       "      <td>Whittlesea - Wallan</td>\n",
       "      <td>2.60</td>\n",
       "      <td>Car</td>\n",
       "    </tr>\n",
       "  </tbody>\n",
       "</table>\n",
       "</div>"
      ],
      "text/plain": [
       "              TRIPID          PERSID  TRIPNO TRAVDOW           LINKMODE  \\\n",
       "0  Y12H0000107P01T01  Y12H0000107P01       1  Sunday     Vehicle Driver   \n",
       "1  Y12H0000107P01T02  Y12H0000107P01       2  Sunday     Vehicle Driver   \n",
       "2  Y12H0000107P01T03  Y12H0000107P01       3  Sunday            Walking   \n",
       "3  Y12H0000107P01T04  Y12H0000107P01       4  Sunday            Walking   \n",
       "4  Y12H0000107P02T01  Y12H0000107P02       1  Sunday  Vehicle Passenger   \n",
       "\n",
       "       TRIPPURP      DESTPURP1  STARTHOUR  STARTIME  ARRHOUR  ARRTIME  \\\n",
       "0        Social         Social         10       630       10      650   \n",
       "1        Social  At or Go Home         12       750       12      760   \n",
       "2  Recreational   Recreational         13       810       14      840   \n",
       "3  Recreational  At or Go Home         14       855       14      885   \n",
       "4        Social         Social         10       630       10      650   \n",
       "\n",
       "   TRIPTIME  TRAVTIME  WAITIME      ORIGSA1              ORIGSA3      DESTSA1  \\\n",
       "0        20        20        0  20904122028  Whittlesea - Wallan  20904122002   \n",
       "1        10        10        0  20904122002  Whittlesea - Wallan  20904122028   \n",
       "2        30        30        0  20904122028  Whittlesea - Wallan  20904122031   \n",
       "3        30        30        0  20904122031  Whittlesea - Wallan  20904122028   \n",
       "4        20        20        0  20904122028  Whittlesea - Wallan  20904122002   \n",
       "\n",
       "               DESTSA3  CUMDIST  Mode  \n",
       "0  Whittlesea - Wallan     2.60   Car  \n",
       "1  Whittlesea - Wallan     2.60   Car  \n",
       "2  Whittlesea - Wallan     3.23  Walk  \n",
       "3  Whittlesea - Wallan     3.23  Walk  \n",
       "4  Whittlesea - Wallan     2.60   Car  "
      ]
     },
     "execution_count": 438,
     "metadata": {},
     "output_type": "execute_result"
    }
   ],
   "source": [
    "trips.head()"
   ]
  },
  {
   "cell_type": "code",
   "execution_count": 439,
   "id": "international-constitution",
   "metadata": {},
   "outputs": [],
   "source": [
    "trips = trips.merge(gdf_vic[['SA1_MAIN16','centroid']], how=\"left\", left_on=\"ORIGSA1\", right_on=\"SA1_MAIN16\")\n",
    "trips = trips.rename(columns={\"centroid\":\"ORIG_CENTROID\"})\n",
    "trips = trips.drop(columns=[\"SA1_MAIN16\"], axis=1)"
   ]
  },
  {
   "cell_type": "code",
   "execution_count": 440,
   "id": "skilled-estimate",
   "metadata": {},
   "outputs": [],
   "source": [
    "trips = trips.merge(gdf_vic[['SA1_MAIN16','centroid']], how=\"left\", left_on=\"DESTSA1\", right_on=\"SA1_MAIN16\")\n",
    "trips = trips.rename(columns={\"centroid\":\"DEST_CENTROID\"})\n",
    "trips = trips.drop(columns=[\"SA1_MAIN16\"], axis=1)"
   ]
  },
  {
   "cell_type": "code",
   "execution_count": 441,
   "id": "adverse-bullet",
   "metadata": {},
   "outputs": [
    {
     "data": {
      "text/html": [
       "<div>\n",
       "<style scoped>\n",
       "    .dataframe tbody tr th:only-of-type {\n",
       "        vertical-align: middle;\n",
       "    }\n",
       "\n",
       "    .dataframe tbody tr th {\n",
       "        vertical-align: top;\n",
       "    }\n",
       "\n",
       "    .dataframe thead th {\n",
       "        text-align: right;\n",
       "    }\n",
       "</style>\n",
       "<table border=\"1\" class=\"dataframe\">\n",
       "  <thead>\n",
       "    <tr style=\"text-align: right;\">\n",
       "      <th></th>\n",
       "      <th>TRIPID</th>\n",
       "      <th>PERSID</th>\n",
       "      <th>TRIPNO</th>\n",
       "      <th>TRAVDOW</th>\n",
       "      <th>LINKMODE</th>\n",
       "      <th>TRIPPURP</th>\n",
       "      <th>DESTPURP1</th>\n",
       "      <th>STARTHOUR</th>\n",
       "      <th>STARTIME</th>\n",
       "      <th>ARRHOUR</th>\n",
       "      <th>...</th>\n",
       "      <th>TRAVTIME</th>\n",
       "      <th>WAITIME</th>\n",
       "      <th>ORIGSA1</th>\n",
       "      <th>ORIGSA3</th>\n",
       "      <th>DESTSA1</th>\n",
       "      <th>DESTSA3</th>\n",
       "      <th>CUMDIST</th>\n",
       "      <th>Mode</th>\n",
       "      <th>ORIG_CENTROID</th>\n",
       "      <th>DEST_CENTROID</th>\n",
       "    </tr>\n",
       "  </thead>\n",
       "  <tbody>\n",
       "    <tr>\n",
       "      <th>0</th>\n",
       "      <td>Y12H0000107P01T01</td>\n",
       "      <td>Y12H0000107P01</td>\n",
       "      <td>1</td>\n",
       "      <td>Sunday</td>\n",
       "      <td>Vehicle Driver</td>\n",
       "      <td>Social</td>\n",
       "      <td>Social</td>\n",
       "      <td>10</td>\n",
       "      <td>630</td>\n",
       "      <td>10</td>\n",
       "      <td>...</td>\n",
       "      <td>20</td>\n",
       "      <td>0</td>\n",
       "      <td>20904122028</td>\n",
       "      <td>Whittlesea - Wallan</td>\n",
       "      <td>20904122002</td>\n",
       "      <td>Whittlesea - Wallan</td>\n",
       "      <td>2.60</td>\n",
       "      <td>Car</td>\n",
       "      <td>POINT (145.08730 -37.65974)</td>\n",
       "      <td>POINT (145.07152 -37.65148)</td>\n",
       "    </tr>\n",
       "    <tr>\n",
       "      <th>1</th>\n",
       "      <td>Y12H0000107P01T02</td>\n",
       "      <td>Y12H0000107P01</td>\n",
       "      <td>2</td>\n",
       "      <td>Sunday</td>\n",
       "      <td>Vehicle Driver</td>\n",
       "      <td>Social</td>\n",
       "      <td>At or Go Home</td>\n",
       "      <td>12</td>\n",
       "      <td>750</td>\n",
       "      <td>12</td>\n",
       "      <td>...</td>\n",
       "      <td>10</td>\n",
       "      <td>0</td>\n",
       "      <td>20904122002</td>\n",
       "      <td>Whittlesea - Wallan</td>\n",
       "      <td>20904122028</td>\n",
       "      <td>Whittlesea - Wallan</td>\n",
       "      <td>2.60</td>\n",
       "      <td>Car</td>\n",
       "      <td>POINT (145.07152 -37.65148)</td>\n",
       "      <td>POINT (145.08730 -37.65974)</td>\n",
       "    </tr>\n",
       "    <tr>\n",
       "      <th>2</th>\n",
       "      <td>Y12H0000107P01T03</td>\n",
       "      <td>Y12H0000107P01</td>\n",
       "      <td>3</td>\n",
       "      <td>Sunday</td>\n",
       "      <td>Walking</td>\n",
       "      <td>Recreational</td>\n",
       "      <td>Recreational</td>\n",
       "      <td>13</td>\n",
       "      <td>810</td>\n",
       "      <td>14</td>\n",
       "      <td>...</td>\n",
       "      <td>30</td>\n",
       "      <td>0</td>\n",
       "      <td>20904122028</td>\n",
       "      <td>Whittlesea - Wallan</td>\n",
       "      <td>20904122031</td>\n",
       "      <td>Whittlesea - Wallan</td>\n",
       "      <td>3.23</td>\n",
       "      <td>Walk</td>\n",
       "      <td>POINT (145.08730 -37.65974)</td>\n",
       "      <td>POINT (145.06223 -37.66497)</td>\n",
       "    </tr>\n",
       "    <tr>\n",
       "      <th>3</th>\n",
       "      <td>Y12H0000107P01T04</td>\n",
       "      <td>Y12H0000107P01</td>\n",
       "      <td>4</td>\n",
       "      <td>Sunday</td>\n",
       "      <td>Walking</td>\n",
       "      <td>Recreational</td>\n",
       "      <td>At or Go Home</td>\n",
       "      <td>14</td>\n",
       "      <td>855</td>\n",
       "      <td>14</td>\n",
       "      <td>...</td>\n",
       "      <td>30</td>\n",
       "      <td>0</td>\n",
       "      <td>20904122031</td>\n",
       "      <td>Whittlesea - Wallan</td>\n",
       "      <td>20904122028</td>\n",
       "      <td>Whittlesea - Wallan</td>\n",
       "      <td>3.23</td>\n",
       "      <td>Walk</td>\n",
       "      <td>POINT (145.06223 -37.66497)</td>\n",
       "      <td>POINT (145.08730 -37.65974)</td>\n",
       "    </tr>\n",
       "    <tr>\n",
       "      <th>4</th>\n",
       "      <td>Y12H0000107P02T01</td>\n",
       "      <td>Y12H0000107P02</td>\n",
       "      <td>1</td>\n",
       "      <td>Sunday</td>\n",
       "      <td>Vehicle Passenger</td>\n",
       "      <td>Social</td>\n",
       "      <td>Social</td>\n",
       "      <td>10</td>\n",
       "      <td>630</td>\n",
       "      <td>10</td>\n",
       "      <td>...</td>\n",
       "      <td>20</td>\n",
       "      <td>0</td>\n",
       "      <td>20904122028</td>\n",
       "      <td>Whittlesea - Wallan</td>\n",
       "      <td>20904122002</td>\n",
       "      <td>Whittlesea - Wallan</td>\n",
       "      <td>2.60</td>\n",
       "      <td>Car</td>\n",
       "      <td>POINT (145.08730 -37.65974)</td>\n",
       "      <td>POINT (145.07152 -37.65148)</td>\n",
       "    </tr>\n",
       "  </tbody>\n",
       "</table>\n",
       "<p>5 rows × 22 columns</p>\n",
       "</div>"
      ],
      "text/plain": [
       "              TRIPID          PERSID  TRIPNO TRAVDOW           LINKMODE  \\\n",
       "0  Y12H0000107P01T01  Y12H0000107P01       1  Sunday     Vehicle Driver   \n",
       "1  Y12H0000107P01T02  Y12H0000107P01       2  Sunday     Vehicle Driver   \n",
       "2  Y12H0000107P01T03  Y12H0000107P01       3  Sunday            Walking   \n",
       "3  Y12H0000107P01T04  Y12H0000107P01       4  Sunday            Walking   \n",
       "4  Y12H0000107P02T01  Y12H0000107P02       1  Sunday  Vehicle Passenger   \n",
       "\n",
       "       TRIPPURP      DESTPURP1  STARTHOUR  STARTIME  ARRHOUR  ...  TRAVTIME  \\\n",
       "0        Social         Social         10       630       10  ...        20   \n",
       "1        Social  At or Go Home         12       750       12  ...        10   \n",
       "2  Recreational   Recreational         13       810       14  ...        30   \n",
       "3  Recreational  At or Go Home         14       855       14  ...        30   \n",
       "4        Social         Social         10       630       10  ...        20   \n",
       "\n",
       "   WAITIME      ORIGSA1              ORIGSA3      DESTSA1  \\\n",
       "0        0  20904122028  Whittlesea - Wallan  20904122002   \n",
       "1        0  20904122002  Whittlesea - Wallan  20904122028   \n",
       "2        0  20904122028  Whittlesea - Wallan  20904122031   \n",
       "3        0  20904122031  Whittlesea - Wallan  20904122028   \n",
       "4        0  20904122028  Whittlesea - Wallan  20904122002   \n",
       "\n",
       "               DESTSA3 CUMDIST  Mode                ORIG_CENTROID  \\\n",
       "0  Whittlesea - Wallan    2.60   Car  POINT (145.08730 -37.65974)   \n",
       "1  Whittlesea - Wallan    2.60   Car  POINT (145.07152 -37.65148)   \n",
       "2  Whittlesea - Wallan    3.23  Walk  POINT (145.08730 -37.65974)   \n",
       "3  Whittlesea - Wallan    3.23  Walk  POINT (145.06223 -37.66497)   \n",
       "4  Whittlesea - Wallan    2.60   Car  POINT (145.08730 -37.65974)   \n",
       "\n",
       "                 DEST_CENTROID  \n",
       "0  POINT (145.07152 -37.65148)  \n",
       "1  POINT (145.08730 -37.65974)  \n",
       "2  POINT (145.06223 -37.66497)  \n",
       "3  POINT (145.08730 -37.65974)  \n",
       "4  POINT (145.07152 -37.65148)  \n",
       "\n",
       "[5 rows x 22 columns]"
      ]
     },
     "execution_count": 441,
     "metadata": {},
     "output_type": "execute_result"
    }
   ],
   "source": [
    "trips.head()"
   ]
  },
  {
   "cell_type": "code",
   "execution_count": 442,
   "id": "ea0f14e0-d5f7-436b-b142-e04a3266b172",
   "metadata": {},
   "outputs": [
    {
     "data": {
      "text/plain": [
       "TRIPID              0\n",
       "PERSID              0\n",
       "TRIPNO              0\n",
       "TRAVDOW             0\n",
       "LINKMODE            0\n",
       "TRIPPURP            0\n",
       "DESTPURP1           0\n",
       "STARTHOUR           0\n",
       "STARTIME            0\n",
       "ARRHOUR             0\n",
       "ARRTIME             0\n",
       "TRIPTIME            0\n",
       "TRAVTIME            0\n",
       "WAITIME             0\n",
       "ORIGSA1             0\n",
       "ORIGSA3             0\n",
       "DESTSA1             0\n",
       "DESTSA3             0\n",
       "CUMDIST             0\n",
       "Mode                0\n",
       "ORIG_CENTROID    5246\n",
       "DEST_CENTROID    5237\n",
       "dtype: int64"
      ]
     },
     "execution_count": 442,
     "metadata": {},
     "output_type": "execute_result"
    }
   ],
   "source": [
    "trips.isna().sum()"
   ]
  },
  {
   "cell_type": "code",
   "execution_count": 443,
   "id": "5dd81ac0-4f02-4e48-84ba-2a218d3494da",
   "metadata": {},
   "outputs": [
    {
     "data": {
      "text/plain": [
       "(44319, 22)"
      ]
     },
     "execution_count": 443,
     "metadata": {},
     "output_type": "execute_result"
    }
   ],
   "source": [
    "trips[trips.isna()].shape"
   ]
  },
  {
   "cell_type": "code",
   "execution_count": 444,
   "id": "11b2d81b-1c7d-4f3c-b40e-203b608aa152",
   "metadata": {},
   "outputs": [
    {
     "data": {
      "text/html": [
       "<div>\n",
       "<style scoped>\n",
       "    .dataframe tbody tr th:only-of-type {\n",
       "        vertical-align: middle;\n",
       "    }\n",
       "\n",
       "    .dataframe tbody tr th {\n",
       "        vertical-align: top;\n",
       "    }\n",
       "\n",
       "    .dataframe thead th {\n",
       "        text-align: right;\n",
       "    }\n",
       "</style>\n",
       "<table border=\"1\" class=\"dataframe\">\n",
       "  <thead>\n",
       "    <tr style=\"text-align: right;\">\n",
       "      <th></th>\n",
       "      <th>TRIPID</th>\n",
       "      <th>PERSID</th>\n",
       "      <th>TRIPNO</th>\n",
       "      <th>TRAVDOW</th>\n",
       "      <th>LINKMODE</th>\n",
       "      <th>TRIPPURP</th>\n",
       "      <th>DESTPURP1</th>\n",
       "      <th>STARTHOUR</th>\n",
       "      <th>STARTIME</th>\n",
       "      <th>ARRHOUR</th>\n",
       "      <th>...</th>\n",
       "      <th>TRAVTIME</th>\n",
       "      <th>WAITIME</th>\n",
       "      <th>ORIGSA1</th>\n",
       "      <th>ORIGSA3</th>\n",
       "      <th>DESTSA1</th>\n",
       "      <th>DESTSA3</th>\n",
       "      <th>CUMDIST</th>\n",
       "      <th>Mode</th>\n",
       "      <th>ORIG_CENTROID</th>\n",
       "      <th>DEST_CENTROID</th>\n",
       "    </tr>\n",
       "  </thead>\n",
       "  <tbody>\n",
       "    <tr>\n",
       "      <th>0</th>\n",
       "      <td>NaN</td>\n",
       "      <td>NaN</td>\n",
       "      <td>NaN</td>\n",
       "      <td>NaN</td>\n",
       "      <td>NaN</td>\n",
       "      <td>NaN</td>\n",
       "      <td>NaN</td>\n",
       "      <td>NaN</td>\n",
       "      <td>NaN</td>\n",
       "      <td>NaN</td>\n",
       "      <td>...</td>\n",
       "      <td>NaN</td>\n",
       "      <td>NaN</td>\n",
       "      <td>NaN</td>\n",
       "      <td>NaN</td>\n",
       "      <td>NaN</td>\n",
       "      <td>NaN</td>\n",
       "      <td>NaN</td>\n",
       "      <td>NaN</td>\n",
       "      <td>None</td>\n",
       "      <td>None</td>\n",
       "    </tr>\n",
       "    <tr>\n",
       "      <th>1</th>\n",
       "      <td>NaN</td>\n",
       "      <td>NaN</td>\n",
       "      <td>NaN</td>\n",
       "      <td>NaN</td>\n",
       "      <td>NaN</td>\n",
       "      <td>NaN</td>\n",
       "      <td>NaN</td>\n",
       "      <td>NaN</td>\n",
       "      <td>NaN</td>\n",
       "      <td>NaN</td>\n",
       "      <td>...</td>\n",
       "      <td>NaN</td>\n",
       "      <td>NaN</td>\n",
       "      <td>NaN</td>\n",
       "      <td>NaN</td>\n",
       "      <td>NaN</td>\n",
       "      <td>NaN</td>\n",
       "      <td>NaN</td>\n",
       "      <td>NaN</td>\n",
       "      <td>None</td>\n",
       "      <td>None</td>\n",
       "    </tr>\n",
       "    <tr>\n",
       "      <th>2</th>\n",
       "      <td>NaN</td>\n",
       "      <td>NaN</td>\n",
       "      <td>NaN</td>\n",
       "      <td>NaN</td>\n",
       "      <td>NaN</td>\n",
       "      <td>NaN</td>\n",
       "      <td>NaN</td>\n",
       "      <td>NaN</td>\n",
       "      <td>NaN</td>\n",
       "      <td>NaN</td>\n",
       "      <td>...</td>\n",
       "      <td>NaN</td>\n",
       "      <td>NaN</td>\n",
       "      <td>NaN</td>\n",
       "      <td>NaN</td>\n",
       "      <td>NaN</td>\n",
       "      <td>NaN</td>\n",
       "      <td>NaN</td>\n",
       "      <td>NaN</td>\n",
       "      <td>None</td>\n",
       "      <td>None</td>\n",
       "    </tr>\n",
       "    <tr>\n",
       "      <th>3</th>\n",
       "      <td>NaN</td>\n",
       "      <td>NaN</td>\n",
       "      <td>NaN</td>\n",
       "      <td>NaN</td>\n",
       "      <td>NaN</td>\n",
       "      <td>NaN</td>\n",
       "      <td>NaN</td>\n",
       "      <td>NaN</td>\n",
       "      <td>NaN</td>\n",
       "      <td>NaN</td>\n",
       "      <td>...</td>\n",
       "      <td>NaN</td>\n",
       "      <td>NaN</td>\n",
       "      <td>NaN</td>\n",
       "      <td>NaN</td>\n",
       "      <td>NaN</td>\n",
       "      <td>NaN</td>\n",
       "      <td>NaN</td>\n",
       "      <td>NaN</td>\n",
       "      <td>None</td>\n",
       "      <td>None</td>\n",
       "    </tr>\n",
       "    <tr>\n",
       "      <th>4</th>\n",
       "      <td>NaN</td>\n",
       "      <td>NaN</td>\n",
       "      <td>NaN</td>\n",
       "      <td>NaN</td>\n",
       "      <td>NaN</td>\n",
       "      <td>NaN</td>\n",
       "      <td>NaN</td>\n",
       "      <td>NaN</td>\n",
       "      <td>NaN</td>\n",
       "      <td>NaN</td>\n",
       "      <td>...</td>\n",
       "      <td>NaN</td>\n",
       "      <td>NaN</td>\n",
       "      <td>NaN</td>\n",
       "      <td>NaN</td>\n",
       "      <td>NaN</td>\n",
       "      <td>NaN</td>\n",
       "      <td>NaN</td>\n",
       "      <td>NaN</td>\n",
       "      <td>None</td>\n",
       "      <td>None</td>\n",
       "    </tr>\n",
       "  </tbody>\n",
       "</table>\n",
       "<p>5 rows × 22 columns</p>\n",
       "</div>"
      ],
      "text/plain": [
       "  TRIPID PERSID  TRIPNO TRAVDOW LINKMODE TRIPPURP DESTPURP1  STARTHOUR  \\\n",
       "0    NaN    NaN     NaN     NaN      NaN      NaN       NaN        NaN   \n",
       "1    NaN    NaN     NaN     NaN      NaN      NaN       NaN        NaN   \n",
       "2    NaN    NaN     NaN     NaN      NaN      NaN       NaN        NaN   \n",
       "3    NaN    NaN     NaN     NaN      NaN      NaN       NaN        NaN   \n",
       "4    NaN    NaN     NaN     NaN      NaN      NaN       NaN        NaN   \n",
       "\n",
       "   STARTIME  ARRHOUR  ...  TRAVTIME  WAITIME  ORIGSA1  ORIGSA3 DESTSA1  \\\n",
       "0       NaN      NaN  ...       NaN      NaN      NaN      NaN     NaN   \n",
       "1       NaN      NaN  ...       NaN      NaN      NaN      NaN     NaN   \n",
       "2       NaN      NaN  ...       NaN      NaN      NaN      NaN     NaN   \n",
       "3       NaN      NaN  ...       NaN      NaN      NaN      NaN     NaN   \n",
       "4       NaN      NaN  ...       NaN      NaN      NaN      NaN     NaN   \n",
       "\n",
       "  DESTSA3 CUMDIST Mode  ORIG_CENTROID DEST_CENTROID  \n",
       "0     NaN     NaN  NaN           None          None  \n",
       "1     NaN     NaN  NaN           None          None  \n",
       "2     NaN     NaN  NaN           None          None  \n",
       "3     NaN     NaN  NaN           None          None  \n",
       "4     NaN     NaN  NaN           None          None  \n",
       "\n",
       "[5 rows x 22 columns]"
      ]
     },
     "execution_count": 444,
     "metadata": {},
     "output_type": "execute_result"
    }
   ],
   "source": [
    "trips[trips.isna()].head()"
   ]
  },
  {
   "cell_type": "code",
   "execution_count": 445,
   "id": "f1fa38da-8f87-4555-adaa-8987607fbcbb",
   "metadata": {},
   "outputs": [],
   "source": [
    "trips = trips.dropna()"
   ]
  },
  {
   "cell_type": "markdown",
   "id": "85af4577-7ddb-4ae2-af9e-571b78ca71bd",
   "metadata": {},
   "source": [
    "#### Get trip ORIG_XY and DEST_XY"
   ]
  },
  {
   "cell_type": "code",
   "execution_count": 446,
   "id": "33eae89f-f23c-4891-9f0e-b26e0bf9428a",
   "metadata": {},
   "outputs": [
    {
     "data": {
      "text/plain": [
       "(array('d', [145.08730214277455]), array('d', [-37.65974093958047]))"
      ]
     },
     "execution_count": 446,
     "metadata": {},
     "output_type": "execute_result"
    }
   ],
   "source": [
    "trips.loc[2,].ORIG_CENTROID.xy"
   ]
  },
  {
   "cell_type": "code",
   "execution_count": 447,
   "id": "c2073b3e-8fb1-470e-9539-da4628ea52c2",
   "metadata": {},
   "outputs": [],
   "source": [
    "def get_x(trip, column):\n",
    "    return trip[column].x\n",
    "\n",
    "def get_y(trip, column):\n",
    "    return trip[column].y"
   ]
  },
  {
   "cell_type": "code",
   "execution_count": 448,
   "id": "c8e7790c-72af-4fde-a0ea-742d0cb51957",
   "metadata": {},
   "outputs": [
    {
     "data": {
      "text/plain": [
       "(145.08730214277455, -37.65974093958047)"
      ]
     },
     "execution_count": 448,
     "metadata": {},
     "output_type": "execute_result"
    }
   ],
   "source": [
    "get_xy(trips.loc[0,], 'ORIG_CENTROID')"
   ]
  },
  {
   "cell_type": "code",
   "execution_count": 449,
   "id": "a29abb85-282f-4f66-b8fd-9185b3d133e4",
   "metadata": {},
   "outputs": [],
   "source": [
    "trips['ORIG_X'] = trips.apply(lambda row: get_x(row, 'ORIG_CENTROID'), axis=1)\n",
    "trips['ORIG_Y'] = trips.apply(lambda row: get_y(row, 'ORIG_CENTROID'), axis=1)\n",
    "trips['DEST_X'] = trips.apply(lambda row: get_x(row, 'DEST_CENTROID'), axis=1)\n",
    "trips['DEST_Y'] = trips.apply(lambda row: get_y(row, 'DEST_CENTROID'), axis=1)"
   ]
  },
  {
   "cell_type": "code",
   "execution_count": 450,
   "id": "brilliant-blanket",
   "metadata": {},
   "outputs": [
    {
     "data": {
      "text/plain": [
       "Thursday     5977\n",
       "Wednesday    5665\n",
       "Monday       5609\n",
       "Friday       5571\n",
       "Tuesday      5316\n",
       "Saturday     4297\n",
       "Sunday       3852\n",
       "Name: TRAVDOW, dtype: int64"
      ]
     },
     "execution_count": 450,
     "metadata": {},
     "output_type": "execute_result"
    }
   ],
   "source": [
    "trips.TRAVDOW.value_counts()"
   ]
  },
  {
   "cell_type": "markdown",
   "id": "distinguished-failing",
   "metadata": {},
   "source": [
    "### Saves trips OD locations into CSV"
   ]
  },
  {
   "cell_type": "code",
   "execution_count": 451,
   "id": "political-canadian",
   "metadata": {},
   "outputs": [],
   "source": [
    "trips.to_csv(\"../data/processed/trip_od_locations.csv\", index=False)"
   ]
  },
  {
   "cell_type": "code",
   "execution_count": 452,
   "id": "persistent-earth",
   "metadata": {},
   "outputs": [
    {
     "data": {
      "text/plain": [
       "(36287, 26)"
      ]
     },
     "execution_count": 452,
     "metadata": {},
     "output_type": "execute_result"
    }
   ],
   "source": [
    "trips.shape"
   ]
  },
  {
   "cell_type": "markdown",
   "id": "1b21c8e4-91cc-490a-ba27-8d43f97376f7",
   "metadata": {},
   "source": [
    "### Get person and household main info"
   ]
  },
  {
   "cell_type": "markdown",
   "id": "e360ca8e-4bf6-46db-a1db-a3fbdad8d446",
   "metadata": {},
   "source": [
    "##### Get household info"
   ]
  },
  {
   "cell_type": "code",
   "execution_count": 453,
   "id": "fc844175-e484-46b2-960e-f20b52a29e76",
   "metadata": {},
   "outputs": [
    {
     "name": "stderr",
     "output_type": "stream",
     "text": [
      "/home/danph/.pyenv/versions/3.8.5/envs/.ml/lib/python3.8/site-packages/IPython/core/interactiveshell.py:3169: DtypeWarning: Columns (32) have mixed types.Specify dtype option on import or set low_memory=False.\n",
      "  has_raised = await self.run_ast_nodes(code_ast.body, cell_name,\n"
     ]
    },
    {
     "data": {
      "text/plain": [
       "(18152, 53)"
      ]
     },
     "execution_count": 453,
     "metadata": {},
     "output_type": "execute_result"
    }
   ],
   "source": [
    "hh = pd.read_csv(\"../data/raw/VISTA_2012_16_v1_SA1_CSV/H_VISTA12_16_SA1_V1.csv\")\n",
    "hh.shape"
   ]
  },
  {
   "cell_type": "code",
   "execution_count": 454,
   "id": "904124e7-80e6-4776-94e6-e06674f59ca4",
   "metadata": {},
   "outputs": [],
   "source": [
    "cols = ['HHID', 'HHSIZE', 'VISITORS', 'DWELLTYPE',\n",
    "       'OWNDWELL', 'YEARSLIVED', 'MONTHSLIVED', 'ADULTBIKES', 'KIDSBIKES',\n",
    "       'TOTALBIKES', 'PHONE', 'CARS', 'FOURWDS', 'UTES', 'VANS', 'TRUCKS',\n",
    "       'MBIKES', 'OTHERVEHS', 'TOTALVEHS', 'TRAVDATE', 'TRAVMONTH', 'TRAVYEAR',\n",
    "       'HOMETAZ', 'YOUNGEST', 'AVEAGE', 'OLDEST', 'HHINC']"
   ]
  },
  {
   "cell_type": "code",
   "execution_count": 455,
   "id": "08d301b8-b2ca-46f6-abee-f3fc33984211",
   "metadata": {},
   "outputs": [
    {
     "data": {
      "text/plain": [
       "(18152, 27)"
      ]
     },
     "execution_count": 455,
     "metadata": {},
     "output_type": "execute_result"
    }
   ],
   "source": [
    "hh = hh[cols]\n",
    "hh.shape"
   ]
  },
  {
   "cell_type": "markdown",
   "id": "65356dd4-f431-4486-b09a-feeb15e4af57",
   "metadata": {},
   "source": [
    "##### Get person info"
   ]
  },
  {
   "cell_type": "code",
   "execution_count": 456,
   "id": "344a8794-f272-4478-ba93-e290dcce6bd6",
   "metadata": {},
   "outputs": [
    {
     "data": {
      "text/plain": [
       "(46562, 78)"
      ]
     },
     "execution_count": 456,
     "metadata": {},
     "output_type": "execute_result"
    }
   ],
   "source": [
    "ps = pd.read_csv(\"../data/raw/VISTA_2012_16_v1_SA1_CSV/P_VISTA12_16_SA1_V1.csv\")\n",
    "ps.shape"
   ]
  },
  {
   "cell_type": "code",
   "execution_count": 457,
   "id": "48955c0e-439c-46dc-864e-1cc0ca9df467",
   "metadata": {},
   "outputs": [],
   "source": [
    "cols =['PERSID', 'HHID', 'PERSNO', 'WEEK', 'MONTHOFBIRTH',\n",
    "       'YEAROFBIRTH', 'AGE', 'AGEGROUP', 'SEX', 'RELATIONSHIP', 'CARLICENCE',\n",
    "       'MBIKELICENCE', 'OTHERLICENCE', 'NOLICENCE', 'FULLTIMEWORK',\n",
    "       'PARTTIMEWORK', 'CASUALWORK', 'ANYWORK', 'STUDYING', 'ACTIVITIES',\n",
    "       'MAINACT', 'WORKTYPE', 'EMPTYPE', 'ANZSCO1', 'ANZSIC1',\n",
    "       'STARTPLACE', 'ANYSTOPS', 'NUMSTOPS', 'REASONCODE', 'MRTDOW',\n",
    "       'MRTINT', 'PERSINC', 'WHOFILLED', 'PROXY', 'FILLDOW', 'FILLLAG',\n",
    "       'ADDITIONALTRAVEL', 'NEWSTOP', 'DISABLEDTRANS', 'TAXITRANS',\n",
    "       'WHEELCHAIRTRANS', 'ACCESSTRANS', 'NONETRANS', 'NOTTOSAYTRANS',\n",
    "       'CYCLEDWORK', 'CYCLEDSHOPPING', 'CYCLEDEXERCISE', 'CYCLEDOTHER',\n",
    "       'NOCYCLED', 'HOMESLA', 'HOMELGA', 'HomeSA1', 'HomeSA2', 'HomeSA3',\n",
    "       'HomeSA4', 'HomeRegion_ASGS', 'HomeSubRegion_ASGS', 'AgeGroup_RW', 'STOPS',\n",
    "       'ReportingPeriod']"
   ]
  },
  {
   "cell_type": "code",
   "execution_count": 458,
   "id": "67a61111-a778-445b-879c-02e6db69c121",
   "metadata": {},
   "outputs": [
    {
     "data": {
      "text/plain": [
       "(46562, 60)"
      ]
     },
     "execution_count": 458,
     "metadata": {},
     "output_type": "execute_result"
    }
   ],
   "source": [
    "ps = ps[cols]\n",
    "ps.shape"
   ]
  },
  {
   "cell_type": "markdown",
   "id": "7c07c5b0-9048-4563-bf3f-dc1fadca65fa",
   "metadata": {},
   "source": [
    "##### Merge household info into person table"
   ]
  },
  {
   "cell_type": "code",
   "execution_count": 459,
   "id": "3840cf4e-7f71-4548-a81a-b9184f65c889",
   "metadata": {},
   "outputs": [
    {
     "data": {
      "text/plain": [
       "(46562, 86)"
      ]
     },
     "execution_count": 459,
     "metadata": {},
     "output_type": "execute_result"
    }
   ],
   "source": [
    "ps = ps.merge(hh, how='left', on='HHID')\n",
    "ps.shape"
   ]
  },
  {
   "cell_type": "code",
   "execution_count": 460,
   "id": "76d39f80-8cdf-449f-9511-e6296e892de3",
   "metadata": {},
   "outputs": [],
   "source": [
    "ps.to_csv(\"../data/processed/persons.csv\", index=False)"
   ]
  },
  {
   "cell_type": "markdown",
   "id": "83d84394-03df-468c-9198-0032f69f6e4b",
   "metadata": {},
   "source": [
    "### Merge person info into Trip table"
   ]
  },
  {
   "cell_type": "code",
   "execution_count": 461,
   "id": "72386cf2-32d2-4e95-8aa6-dcf5dde44759",
   "metadata": {},
   "outputs": [
    {
     "data": {
      "text/plain": [
       "(36287, 111)"
      ]
     },
     "execution_count": 461,
     "metadata": {},
     "output_type": "execute_result"
    }
   ],
   "source": [
    "trips = trips.merge(ps, how=\"left\", on='PERSID')\n",
    "trips.shape"
   ]
  },
  {
   "cell_type": "code",
   "execution_count": 462,
   "id": "e2f8bac2-cf4f-4a95-b5a6-d624db584416",
   "metadata": {},
   "outputs": [],
   "source": [
    "trips.to_csv(\"../data/processed/trip_od_full.csv\", index=False)"
   ]
  },
  {
   "cell_type": "code",
   "execution_count": null,
   "id": "9ebe8405-9a62-47ff-9c13-38916bb5df3a",
   "metadata": {},
   "outputs": [],
   "source": []
  }
 ],
 "metadata": {
  "kernelspec": {
   "display_name": "Python 3",
   "language": "python",
   "name": "python3"
  },
  "language_info": {
   "codemirror_mode": {
    "name": "ipython",
    "version": 3
   },
   "file_extension": ".py",
   "mimetype": "text/x-python",
   "name": "python",
   "nbconvert_exporter": "python",
   "pygments_lexer": "ipython3",
   "version": "3.8.5"
  }
 },
 "nbformat": 4,
 "nbformat_minor": 5
}
