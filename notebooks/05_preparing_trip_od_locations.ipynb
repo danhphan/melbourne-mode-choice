{
 "cells": [
  {
   "cell_type": "code",
   "execution_count": 98,
   "id": "ceramic-taylor",
   "metadata": {},
   "outputs": [],
   "source": [
    "import pandas as pd\n",
    "import geopandas as gpd\n",
    "import matplotlib.pyplot as plt\n",
    "import config"
   ]
  },
  {
   "cell_type": "code",
   "execution_count": 99,
   "id": "indoor-fisher",
   "metadata": {},
   "outputs": [
    {
     "data": {
      "text/plain": [
       "(44351, 20)"
      ]
     },
     "execution_count": 99,
     "metadata": {},
     "output_type": "execute_result"
    }
   ],
   "source": [
    "trips = pd.read_csv(config.TRIPS_1216_PRC, low_memory=False)\n",
    "trips.shape"
   ]
  },
  {
   "cell_type": "code",
   "execution_count": 100,
   "id": "necessary-bolivia",
   "metadata": {},
   "outputs": [
    {
     "data": {
      "text/html": [
       "<div>\n",
       "<style scoped>\n",
       "    .dataframe tbody tr th:only-of-type {\n",
       "        vertical-align: middle;\n",
       "    }\n",
       "\n",
       "    .dataframe tbody tr th {\n",
       "        vertical-align: top;\n",
       "    }\n",
       "\n",
       "    .dataframe thead th {\n",
       "        text-align: right;\n",
       "    }\n",
       "</style>\n",
       "<table border=\"1\" class=\"dataframe\">\n",
       "  <thead>\n",
       "    <tr style=\"text-align: right;\">\n",
       "      <th></th>\n",
       "      <th>TRIPID</th>\n",
       "      <th>PERSID</th>\n",
       "      <th>TRIPNO</th>\n",
       "      <th>TRAVDOW</th>\n",
       "      <th>LINKMODE</th>\n",
       "      <th>TRIPPURP</th>\n",
       "      <th>DESTPURP1</th>\n",
       "      <th>STARTHOUR</th>\n",
       "      <th>STARTIME</th>\n",
       "      <th>ARRHOUR</th>\n",
       "      <th>ARRTIME</th>\n",
       "      <th>TRIPTIME</th>\n",
       "      <th>TRAVTIME</th>\n",
       "      <th>WAITIME</th>\n",
       "      <th>ORIGSA1</th>\n",
       "      <th>ORIGSA3</th>\n",
       "      <th>DESTSA1</th>\n",
       "      <th>DESTSA3</th>\n",
       "      <th>CUMDIST</th>\n",
       "      <th>Mode</th>\n",
       "    </tr>\n",
       "  </thead>\n",
       "  <tbody>\n",
       "    <tr>\n",
       "      <th>0</th>\n",
       "      <td>Y12H0000107P01T01</td>\n",
       "      <td>Y12H0000107P01</td>\n",
       "      <td>1</td>\n",
       "      <td>Sunday</td>\n",
       "      <td>Vehicle Driver</td>\n",
       "      <td>Social</td>\n",
       "      <td>Social</td>\n",
       "      <td>10</td>\n",
       "      <td>630</td>\n",
       "      <td>10</td>\n",
       "      <td>650</td>\n",
       "      <td>20</td>\n",
       "      <td>20</td>\n",
       "      <td>0</td>\n",
       "      <td>20904122028</td>\n",
       "      <td>Whittlesea - Wallan</td>\n",
       "      <td>20904122002</td>\n",
       "      <td>Whittlesea - Wallan</td>\n",
       "      <td>2.60</td>\n",
       "      <td>Car</td>\n",
       "    </tr>\n",
       "    <tr>\n",
       "      <th>1</th>\n",
       "      <td>Y12H0000107P01T02</td>\n",
       "      <td>Y12H0000107P01</td>\n",
       "      <td>2</td>\n",
       "      <td>Sunday</td>\n",
       "      <td>Vehicle Driver</td>\n",
       "      <td>Social</td>\n",
       "      <td>At or Go Home</td>\n",
       "      <td>12</td>\n",
       "      <td>750</td>\n",
       "      <td>12</td>\n",
       "      <td>760</td>\n",
       "      <td>10</td>\n",
       "      <td>10</td>\n",
       "      <td>0</td>\n",
       "      <td>20904122002</td>\n",
       "      <td>Whittlesea - Wallan</td>\n",
       "      <td>20904122028</td>\n",
       "      <td>Whittlesea - Wallan</td>\n",
       "      <td>2.60</td>\n",
       "      <td>Car</td>\n",
       "    </tr>\n",
       "    <tr>\n",
       "      <th>2</th>\n",
       "      <td>Y12H0000107P01T03</td>\n",
       "      <td>Y12H0000107P01</td>\n",
       "      <td>3</td>\n",
       "      <td>Sunday</td>\n",
       "      <td>Walking</td>\n",
       "      <td>Recreational</td>\n",
       "      <td>Recreational</td>\n",
       "      <td>13</td>\n",
       "      <td>810</td>\n",
       "      <td>14</td>\n",
       "      <td>840</td>\n",
       "      <td>30</td>\n",
       "      <td>30</td>\n",
       "      <td>0</td>\n",
       "      <td>20904122028</td>\n",
       "      <td>Whittlesea - Wallan</td>\n",
       "      <td>20904122031</td>\n",
       "      <td>Whittlesea - Wallan</td>\n",
       "      <td>3.23</td>\n",
       "      <td>Walk</td>\n",
       "    </tr>\n",
       "    <tr>\n",
       "      <th>3</th>\n",
       "      <td>Y12H0000107P01T04</td>\n",
       "      <td>Y12H0000107P01</td>\n",
       "      <td>4</td>\n",
       "      <td>Sunday</td>\n",
       "      <td>Walking</td>\n",
       "      <td>Recreational</td>\n",
       "      <td>At or Go Home</td>\n",
       "      <td>14</td>\n",
       "      <td>855</td>\n",
       "      <td>14</td>\n",
       "      <td>885</td>\n",
       "      <td>30</td>\n",
       "      <td>30</td>\n",
       "      <td>0</td>\n",
       "      <td>20904122031</td>\n",
       "      <td>Whittlesea - Wallan</td>\n",
       "      <td>20904122028</td>\n",
       "      <td>Whittlesea - Wallan</td>\n",
       "      <td>3.23</td>\n",
       "      <td>Walk</td>\n",
       "    </tr>\n",
       "    <tr>\n",
       "      <th>4</th>\n",
       "      <td>Y12H0000107P02T01</td>\n",
       "      <td>Y12H0000107P02</td>\n",
       "      <td>1</td>\n",
       "      <td>Sunday</td>\n",
       "      <td>Vehicle Passenger</td>\n",
       "      <td>Social</td>\n",
       "      <td>Social</td>\n",
       "      <td>10</td>\n",
       "      <td>630</td>\n",
       "      <td>10</td>\n",
       "      <td>650</td>\n",
       "      <td>20</td>\n",
       "      <td>20</td>\n",
       "      <td>0</td>\n",
       "      <td>20904122028</td>\n",
       "      <td>Whittlesea - Wallan</td>\n",
       "      <td>20904122002</td>\n",
       "      <td>Whittlesea - Wallan</td>\n",
       "      <td>2.60</td>\n",
       "      <td>Car</td>\n",
       "    </tr>\n",
       "  </tbody>\n",
       "</table>\n",
       "</div>"
      ],
      "text/plain": [
       "              TRIPID          PERSID  TRIPNO TRAVDOW           LINKMODE  \\\n",
       "0  Y12H0000107P01T01  Y12H0000107P01       1  Sunday     Vehicle Driver   \n",
       "1  Y12H0000107P01T02  Y12H0000107P01       2  Sunday     Vehicle Driver   \n",
       "2  Y12H0000107P01T03  Y12H0000107P01       3  Sunday            Walking   \n",
       "3  Y12H0000107P01T04  Y12H0000107P01       4  Sunday            Walking   \n",
       "4  Y12H0000107P02T01  Y12H0000107P02       1  Sunday  Vehicle Passenger   \n",
       "\n",
       "       TRIPPURP      DESTPURP1  STARTHOUR  STARTIME  ARRHOUR  ARRTIME  \\\n",
       "0        Social         Social         10       630       10      650   \n",
       "1        Social  At or Go Home         12       750       12      760   \n",
       "2  Recreational   Recreational         13       810       14      840   \n",
       "3  Recreational  At or Go Home         14       855       14      885   \n",
       "4        Social         Social         10       630       10      650   \n",
       "\n",
       "   TRIPTIME  TRAVTIME  WAITIME      ORIGSA1              ORIGSA3      DESTSA1  \\\n",
       "0        20        20        0  20904122028  Whittlesea - Wallan  20904122002   \n",
       "1        10        10        0  20904122002  Whittlesea - Wallan  20904122028   \n",
       "2        30        30        0  20904122028  Whittlesea - Wallan  20904122031   \n",
       "3        30        30        0  20904122031  Whittlesea - Wallan  20904122028   \n",
       "4        20        20        0  20904122028  Whittlesea - Wallan  20904122002   \n",
       "\n",
       "               DESTSA3  CUMDIST  Mode  \n",
       "0  Whittlesea - Wallan     2.60   Car  \n",
       "1  Whittlesea - Wallan     2.60   Car  \n",
       "2  Whittlesea - Wallan     3.23  Walk  \n",
       "3  Whittlesea - Wallan     3.23  Walk  \n",
       "4  Whittlesea - Wallan     2.60   Car  "
      ]
     },
     "execution_count": 100,
     "metadata": {},
     "output_type": "execute_result"
    }
   ],
   "source": [
    "trips.head()"
   ]
  },
  {
   "cell_type": "code",
   "execution_count": 101,
   "id": "affb7536-f168-4b89-8535-fef665870f65",
   "metadata": {},
   "outputs": [
    {
     "data": {
      "text/plain": [
       "Index(['TRIPID', 'PERSID', 'TRIPNO', 'TRAVDOW', 'LINKMODE', 'TRIPPURP',\n",
       "       'DESTPURP1', 'STARTHOUR', 'STARTIME', 'ARRHOUR', 'ARRTIME', 'TRIPTIME',\n",
       "       'TRAVTIME', 'WAITIME', 'ORIGSA1', 'ORIGSA3', 'DESTSA1', 'DESTSA3',\n",
       "       'CUMDIST', 'Mode'],\n",
       "      dtype='object')"
      ]
     },
     "execution_count": 101,
     "metadata": {},
     "output_type": "execute_result"
    }
   ],
   "source": [
    "trips.columns"
   ]
  },
  {
   "cell_type": "markdown",
   "id": "fitted-martin",
   "metadata": {},
   "source": [
    "### Get SA1 shapefile"
   ]
  },
  {
   "cell_type": "code",
   "execution_count": 102,
   "id": "domestic-anthony",
   "metadata": {},
   "outputs": [],
   "source": [
    "shape_file = \"../data/raw/1270055001_sa1_2016_aust_shape.zip\"\n",
    "gdf = gpd.read_file(shape_file)"
   ]
  },
  {
   "cell_type": "code",
   "execution_count": 103,
   "id": "veterinary-donna",
   "metadata": {},
   "outputs": [
    {
     "data": {
      "text/plain": [
       "(57523, 15)"
      ]
     },
     "execution_count": 103,
     "metadata": {},
     "output_type": "execute_result"
    }
   ],
   "source": [
    "gdf.shape"
   ]
  },
  {
   "cell_type": "code",
   "execution_count": 104,
   "id": "hollow-sussex",
   "metadata": {},
   "outputs": [
    {
     "data": {
      "text/html": [
       "<div>\n",
       "<style scoped>\n",
       "    .dataframe tbody tr th:only-of-type {\n",
       "        vertical-align: middle;\n",
       "    }\n",
       "\n",
       "    .dataframe tbody tr th {\n",
       "        vertical-align: top;\n",
       "    }\n",
       "\n",
       "    .dataframe thead th {\n",
       "        text-align: right;\n",
       "    }\n",
       "</style>\n",
       "<table border=\"1\" class=\"dataframe\">\n",
       "  <thead>\n",
       "    <tr style=\"text-align: right;\">\n",
       "      <th></th>\n",
       "      <th>SA1_MAIN16</th>\n",
       "      <th>SA1_7DIG16</th>\n",
       "      <th>SA2_MAIN16</th>\n",
       "      <th>SA2_5DIG16</th>\n",
       "      <th>SA2_NAME16</th>\n",
       "      <th>SA3_CODE16</th>\n",
       "      <th>SA3_NAME16</th>\n",
       "      <th>SA4_CODE16</th>\n",
       "      <th>SA4_NAME16</th>\n",
       "      <th>GCC_CODE16</th>\n",
       "      <th>GCC_NAME16</th>\n",
       "      <th>STE_CODE16</th>\n",
       "      <th>STE_NAME16</th>\n",
       "      <th>AREASQKM16</th>\n",
       "      <th>geometry</th>\n",
       "    </tr>\n",
       "  </thead>\n",
       "  <tbody>\n",
       "    <tr>\n",
       "      <th>0</th>\n",
       "      <td>10102100701</td>\n",
       "      <td>1100701</td>\n",
       "      <td>101021007</td>\n",
       "      <td>11007</td>\n",
       "      <td>Braidwood</td>\n",
       "      <td>10102</td>\n",
       "      <td>Queanbeyan</td>\n",
       "      <td>101</td>\n",
       "      <td>Capital Region</td>\n",
       "      <td>1RNSW</td>\n",
       "      <td>Rest of NSW</td>\n",
       "      <td>1</td>\n",
       "      <td>New South Wales</td>\n",
       "      <td>362.8727</td>\n",
       "      <td>POLYGON ((149.71174 -35.12318, 149.71184 -35.1...</td>\n",
       "    </tr>\n",
       "    <tr>\n",
       "      <th>1</th>\n",
       "      <td>10102100702</td>\n",
       "      <td>1100702</td>\n",
       "      <td>101021007</td>\n",
       "      <td>11007</td>\n",
       "      <td>Braidwood</td>\n",
       "      <td>10102</td>\n",
       "      <td>Queanbeyan</td>\n",
       "      <td>101</td>\n",
       "      <td>Capital Region</td>\n",
       "      <td>1RNSW</td>\n",
       "      <td>Rest of NSW</td>\n",
       "      <td>1</td>\n",
       "      <td>New South Wales</td>\n",
       "      <td>229.7459</td>\n",
       "      <td>POLYGON ((149.73421 -35.36758, 149.74475 -35.3...</td>\n",
       "    </tr>\n",
       "    <tr>\n",
       "      <th>2</th>\n",
       "      <td>10102100703</td>\n",
       "      <td>1100703</td>\n",
       "      <td>101021007</td>\n",
       "      <td>11007</td>\n",
       "      <td>Braidwood</td>\n",
       "      <td>10102</td>\n",
       "      <td>Queanbeyan</td>\n",
       "      <td>101</td>\n",
       "      <td>Capital Region</td>\n",
       "      <td>1RNSW</td>\n",
       "      <td>Rest of NSW</td>\n",
       "      <td>1</td>\n",
       "      <td>New South Wales</td>\n",
       "      <td>2.3910</td>\n",
       "      <td>POLYGON ((149.77998 -35.44067, 149.77996 -35.4...</td>\n",
       "    </tr>\n",
       "    <tr>\n",
       "      <th>3</th>\n",
       "      <td>10102100704</td>\n",
       "      <td>1100704</td>\n",
       "      <td>101021007</td>\n",
       "      <td>11007</td>\n",
       "      <td>Braidwood</td>\n",
       "      <td>10102</td>\n",
       "      <td>Queanbeyan</td>\n",
       "      <td>101</td>\n",
       "      <td>Capital Region</td>\n",
       "      <td>1RNSW</td>\n",
       "      <td>Rest of NSW</td>\n",
       "      <td>1</td>\n",
       "      <td>New South Wales</td>\n",
       "      <td>1.2816</td>\n",
       "      <td>POLYGON ((149.79744 -35.44149, 149.79778 -35.4...</td>\n",
       "    </tr>\n",
       "    <tr>\n",
       "      <th>4</th>\n",
       "      <td>10102100705</td>\n",
       "      <td>1100705</td>\n",
       "      <td>101021007</td>\n",
       "      <td>11007</td>\n",
       "      <td>Braidwood</td>\n",
       "      <td>10102</td>\n",
       "      <td>Queanbeyan</td>\n",
       "      <td>101</td>\n",
       "      <td>Capital Region</td>\n",
       "      <td>1RNSW</td>\n",
       "      <td>Rest of NSW</td>\n",
       "      <td>1</td>\n",
       "      <td>New South Wales</td>\n",
       "      <td>1.1978</td>\n",
       "      <td>POLYGON ((149.79498 -35.44902, 149.79517 -35.4...</td>\n",
       "    </tr>\n",
       "  </tbody>\n",
       "</table>\n",
       "</div>"
      ],
      "text/plain": [
       "    SA1_MAIN16 SA1_7DIG16 SA2_MAIN16 SA2_5DIG16 SA2_NAME16 SA3_CODE16  \\\n",
       "0  10102100701    1100701  101021007      11007  Braidwood      10102   \n",
       "1  10102100702    1100702  101021007      11007  Braidwood      10102   \n",
       "2  10102100703    1100703  101021007      11007  Braidwood      10102   \n",
       "3  10102100704    1100704  101021007      11007  Braidwood      10102   \n",
       "4  10102100705    1100705  101021007      11007  Braidwood      10102   \n",
       "\n",
       "   SA3_NAME16 SA4_CODE16      SA4_NAME16 GCC_CODE16   GCC_NAME16 STE_CODE16  \\\n",
       "0  Queanbeyan        101  Capital Region      1RNSW  Rest of NSW          1   \n",
       "1  Queanbeyan        101  Capital Region      1RNSW  Rest of NSW          1   \n",
       "2  Queanbeyan        101  Capital Region      1RNSW  Rest of NSW          1   \n",
       "3  Queanbeyan        101  Capital Region      1RNSW  Rest of NSW          1   \n",
       "4  Queanbeyan        101  Capital Region      1RNSW  Rest of NSW          1   \n",
       "\n",
       "        STE_NAME16  AREASQKM16  \\\n",
       "0  New South Wales    362.8727   \n",
       "1  New South Wales    229.7459   \n",
       "2  New South Wales      2.3910   \n",
       "3  New South Wales      1.2816   \n",
       "4  New South Wales      1.1978   \n",
       "\n",
       "                                            geometry  \n",
       "0  POLYGON ((149.71174 -35.12318, 149.71184 -35.1...  \n",
       "1  POLYGON ((149.73421 -35.36758, 149.74475 -35.3...  \n",
       "2  POLYGON ((149.77998 -35.44067, 149.77996 -35.4...  \n",
       "3  POLYGON ((149.79744 -35.44149, 149.79778 -35.4...  \n",
       "4  POLYGON ((149.79498 -35.44902, 149.79517 -35.4...  "
      ]
     },
     "execution_count": 104,
     "metadata": {},
     "output_type": "execute_result"
    }
   ],
   "source": [
    "gdf.head()"
   ]
  },
  {
   "cell_type": "code",
   "execution_count": 105,
   "id": "interracial-honduras",
   "metadata": {},
   "outputs": [
    {
     "data": {
      "text/plain": [
       "New South Wales                 18399\n",
       "Victoria                        14073\n",
       "Queensland                      11563\n",
       "Western Australia                5984\n",
       "South Australia                  4245\n",
       "Tasmania                         1464\n",
       "Australian Capital Territory     1147\n",
       "Northern Territory                626\n",
       "Other Territories                  22\n",
       "Name: STE_NAME16, dtype: int64"
      ]
     },
     "execution_count": 105,
     "metadata": {},
     "output_type": "execute_result"
    }
   ],
   "source": [
    "gdf.STE_NAME16.value_counts()"
   ]
  },
  {
   "cell_type": "code",
   "execution_count": 106,
   "id": "bound-employment",
   "metadata": {},
   "outputs": [
    {
     "data": {
      "text/plain": [
       "(14073, 15)"
      ]
     },
     "execution_count": 106,
     "metadata": {},
     "output_type": "execute_result"
    }
   ],
   "source": [
    "# Only using SA1 from Victoria\n",
    "gdf_vic = gdf[gdf.STE_NAME16 == \"Victoria\"]\n",
    "gdf_vic.shape"
   ]
  },
  {
   "cell_type": "code",
   "execution_count": 107,
   "id": "duplicate-appearance",
   "metadata": {},
   "outputs": [
    {
     "data": {
      "text/plain": [
       "Index(['SA1_MAIN16', 'SA1_7DIG16', 'SA2_MAIN16', 'SA2_5DIG16', 'SA2_NAME16',\n",
       "       'SA3_CODE16', 'SA3_NAME16', 'SA4_CODE16', 'SA4_NAME16', 'GCC_CODE16',\n",
       "       'GCC_NAME16', 'STE_CODE16', 'STE_NAME16', 'AREASQKM16', 'geometry'],\n",
       "      dtype='object')"
      ]
     },
     "execution_count": 107,
     "metadata": {},
     "output_type": "execute_result"
    }
   ],
   "source": [
    "gdf_vic.columns"
   ]
  },
  {
   "cell_type": "code",
   "execution_count": 108,
   "id": "incorporate-eligibility",
   "metadata": {},
   "outputs": [
    {
     "name": "stderr",
     "output_type": "stream",
     "text": [
      "<ipython-input-108-11880f43da31>:2: SettingWithCopyWarning: \n",
      "A value is trying to be set on a copy of a slice from a DataFrame\n",
      "\n",
      "See the caveats in the documentation: https://pandas.pydata.org/pandas-docs/stable/user_guide/indexing.html#returning-a-view-versus-a-copy\n",
      "  gdf_vic.dropna(inplace=True)\n"
     ]
    }
   ],
   "source": [
    "# Remove SA1 do not have geometry\n",
    "gdf_vic.dropna(inplace=True)"
   ]
  },
  {
   "cell_type": "code",
   "execution_count": 109,
   "id": "endless-edward",
   "metadata": {},
   "outputs": [
    {
     "data": {
      "text/plain": [
       "SA1_MAIN16    0\n",
       "SA1_7DIG16    0\n",
       "SA2_MAIN16    0\n",
       "SA2_5DIG16    0\n",
       "SA2_NAME16    0\n",
       "SA3_CODE16    0\n",
       "SA3_NAME16    0\n",
       "SA4_CODE16    0\n",
       "SA4_NAME16    0\n",
       "GCC_CODE16    0\n",
       "GCC_NAME16    0\n",
       "STE_CODE16    0\n",
       "STE_NAME16    0\n",
       "AREASQKM16    0\n",
       "geometry      0\n",
       "dtype: int64"
      ]
     },
     "execution_count": 109,
     "metadata": {},
     "output_type": "execute_result"
    }
   ],
   "source": [
    "gdf_vic.isna().sum()"
   ]
  },
  {
   "cell_type": "code",
   "execution_count": 110,
   "id": "broken-hostel",
   "metadata": {},
   "outputs": [
    {
     "data": {
      "text/plain": [
       "(14069, 10)"
      ]
     },
     "execution_count": 110,
     "metadata": {},
     "output_type": "execute_result"
    }
   ],
   "source": [
    "columns = ['SA1_MAIN16', 'SA2_MAIN16', 'SA2_NAME16', \n",
    "           'SA3_CODE16', 'SA3_NAME16', 'SA4_CODE16', 'SA4_NAME16', \n",
    "           'STE_NAME16', 'AREASQKM16', 'geometry']\n",
    "gdf_vic = gdf_vic[columns]\n",
    "gdf_vic.shape"
   ]
  },
  {
   "cell_type": "code",
   "execution_count": 111,
   "id": "ethical-domestic",
   "metadata": {},
   "outputs": [],
   "source": [
    "gdf_vic[\"centroid\"] = gdf_vic.geometry.apply(lambda x: x.centroid)"
   ]
  },
  {
   "cell_type": "code",
   "execution_count": 112,
   "id": "sufficient-soccer",
   "metadata": {},
   "outputs": [
    {
     "data": {
      "text/html": [
       "<div>\n",
       "<style scoped>\n",
       "    .dataframe tbody tr th:only-of-type {\n",
       "        vertical-align: middle;\n",
       "    }\n",
       "\n",
       "    .dataframe tbody tr th {\n",
       "        vertical-align: top;\n",
       "    }\n",
       "\n",
       "    .dataframe thead th {\n",
       "        text-align: right;\n",
       "    }\n",
       "</style>\n",
       "<table border=\"1\" class=\"dataframe\">\n",
       "  <thead>\n",
       "    <tr style=\"text-align: right;\">\n",
       "      <th></th>\n",
       "      <th>SA1_MAIN16</th>\n",
       "      <th>SA2_MAIN16</th>\n",
       "      <th>SA2_NAME16</th>\n",
       "      <th>SA3_CODE16</th>\n",
       "      <th>SA3_NAME16</th>\n",
       "      <th>SA4_CODE16</th>\n",
       "      <th>SA4_NAME16</th>\n",
       "      <th>STE_NAME16</th>\n",
       "      <th>AREASQKM16</th>\n",
       "      <th>geometry</th>\n",
       "      <th>centroid</th>\n",
       "    </tr>\n",
       "  </thead>\n",
       "  <tbody>\n",
       "    <tr>\n",
       "      <th>18399</th>\n",
       "      <td>20101100101</td>\n",
       "      <td>201011001</td>\n",
       "      <td>Alfredton</td>\n",
       "      <td>20101</td>\n",
       "      <td>Ballarat</td>\n",
       "      <td>201</td>\n",
       "      <td>Ballarat</td>\n",
       "      <td>Victoria</td>\n",
       "      <td>0.1805</td>\n",
       "      <td>POLYGON ((143.80089 -37.55384, 143.80039 -37.5...</td>\n",
       "      <td>POINT (143.80268 -37.55164)</td>\n",
       "    </tr>\n",
       "    <tr>\n",
       "      <th>18400</th>\n",
       "      <td>20101100102</td>\n",
       "      <td>201011001</td>\n",
       "      <td>Alfredton</td>\n",
       "      <td>20101</td>\n",
       "      <td>Ballarat</td>\n",
       "      <td>201</td>\n",
       "      <td>Ballarat</td>\n",
       "      <td>Victoria</td>\n",
       "      <td>0.0728</td>\n",
       "      <td>POLYGON ((143.79772 -37.55073, 143.79780 -37.5...</td>\n",
       "      <td>POINT (143.79768 -37.55221)</td>\n",
       "    </tr>\n",
       "    <tr>\n",
       "      <th>18401</th>\n",
       "      <td>20101100105</td>\n",
       "      <td>201011001</td>\n",
       "      <td>Alfredton</td>\n",
       "      <td>20101</td>\n",
       "      <td>Ballarat</td>\n",
       "      <td>201</td>\n",
       "      <td>Ballarat</td>\n",
       "      <td>Victoria</td>\n",
       "      <td>0.6349</td>\n",
       "      <td>POLYGON ((143.81562 -37.55871, 143.81687 -37.5...</td>\n",
       "      <td>POINT (143.81432 -37.56436)</td>\n",
       "    </tr>\n",
       "    <tr>\n",
       "      <th>18402</th>\n",
       "      <td>20101100106</td>\n",
       "      <td>201011001</td>\n",
       "      <td>Alfredton</td>\n",
       "      <td>20101</td>\n",
       "      <td>Ballarat</td>\n",
       "      <td>201</td>\n",
       "      <td>Ballarat</td>\n",
       "      <td>Victoria</td>\n",
       "      <td>0.4161</td>\n",
       "      <td>POLYGON ((143.80094 -37.55384, 143.80239 -37.5...</td>\n",
       "      <td>POINT (143.80248 -37.55616)</td>\n",
       "    </tr>\n",
       "    <tr>\n",
       "      <th>18403</th>\n",
       "      <td>20101100107</td>\n",
       "      <td>201011001</td>\n",
       "      <td>Alfredton</td>\n",
       "      <td>20101</td>\n",
       "      <td>Ballarat</td>\n",
       "      <td>201</td>\n",
       "      <td>Ballarat</td>\n",
       "      <td>Victoria</td>\n",
       "      <td>0.2292</td>\n",
       "      <td>POLYGON ((143.81294 -37.55644, 143.81300 -37.5...</td>\n",
       "      <td>POINT (143.81556 -37.55658)</td>\n",
       "    </tr>\n",
       "  </tbody>\n",
       "</table>\n",
       "</div>"
      ],
      "text/plain": [
       "        SA1_MAIN16 SA2_MAIN16 SA2_NAME16 SA3_CODE16 SA3_NAME16 SA4_CODE16  \\\n",
       "18399  20101100101  201011001  Alfredton      20101   Ballarat        201   \n",
       "18400  20101100102  201011001  Alfredton      20101   Ballarat        201   \n",
       "18401  20101100105  201011001  Alfredton      20101   Ballarat        201   \n",
       "18402  20101100106  201011001  Alfredton      20101   Ballarat        201   \n",
       "18403  20101100107  201011001  Alfredton      20101   Ballarat        201   \n",
       "\n",
       "      SA4_NAME16 STE_NAME16  AREASQKM16  \\\n",
       "18399   Ballarat   Victoria      0.1805   \n",
       "18400   Ballarat   Victoria      0.0728   \n",
       "18401   Ballarat   Victoria      0.6349   \n",
       "18402   Ballarat   Victoria      0.4161   \n",
       "18403   Ballarat   Victoria      0.2292   \n",
       "\n",
       "                                                geometry  \\\n",
       "18399  POLYGON ((143.80089 -37.55384, 143.80039 -37.5...   \n",
       "18400  POLYGON ((143.79772 -37.55073, 143.79780 -37.5...   \n",
       "18401  POLYGON ((143.81562 -37.55871, 143.81687 -37.5...   \n",
       "18402  POLYGON ((143.80094 -37.55384, 143.80239 -37.5...   \n",
       "18403  POLYGON ((143.81294 -37.55644, 143.81300 -37.5...   \n",
       "\n",
       "                          centroid  \n",
       "18399  POINT (143.80268 -37.55164)  \n",
       "18400  POINT (143.79768 -37.55221)  \n",
       "18401  POINT (143.81432 -37.56436)  \n",
       "18402  POINT (143.80248 -37.55616)  \n",
       "18403  POINT (143.81556 -37.55658)  "
      ]
     },
     "execution_count": 112,
     "metadata": {},
     "output_type": "execute_result"
    }
   ],
   "source": [
    "gdf_vic.head()"
   ]
  },
  {
   "cell_type": "markdown",
   "id": "appreciated-waters",
   "metadata": {},
   "source": [
    "### Merge OD SA1 centroids to trips dataset"
   ]
  },
  {
   "cell_type": "code",
   "execution_count": 113,
   "id": "toxic-photography",
   "metadata": {},
   "outputs": [
    {
     "data": {
      "text/html": [
       "<div>\n",
       "<style scoped>\n",
       "    .dataframe tbody tr th:only-of-type {\n",
       "        vertical-align: middle;\n",
       "    }\n",
       "\n",
       "    .dataframe tbody tr th {\n",
       "        vertical-align: top;\n",
       "    }\n",
       "\n",
       "    .dataframe thead th {\n",
       "        text-align: right;\n",
       "    }\n",
       "</style>\n",
       "<table border=\"1\" class=\"dataframe\">\n",
       "  <thead>\n",
       "    <tr style=\"text-align: right;\">\n",
       "      <th></th>\n",
       "      <th>TRIPID</th>\n",
       "      <th>PERSID</th>\n",
       "      <th>TRIPNO</th>\n",
       "      <th>TRAVDOW</th>\n",
       "      <th>LINKMODE</th>\n",
       "      <th>TRIPPURP</th>\n",
       "      <th>DESTPURP1</th>\n",
       "      <th>STARTHOUR</th>\n",
       "      <th>STARTIME</th>\n",
       "      <th>ARRHOUR</th>\n",
       "      <th>ARRTIME</th>\n",
       "      <th>TRIPTIME</th>\n",
       "      <th>TRAVTIME</th>\n",
       "      <th>WAITIME</th>\n",
       "      <th>ORIGSA1</th>\n",
       "      <th>ORIGSA3</th>\n",
       "      <th>DESTSA1</th>\n",
       "      <th>DESTSA3</th>\n",
       "      <th>CUMDIST</th>\n",
       "      <th>Mode</th>\n",
       "    </tr>\n",
       "  </thead>\n",
       "  <tbody>\n",
       "    <tr>\n",
       "      <th>0</th>\n",
       "      <td>Y12H0000107P01T01</td>\n",
       "      <td>Y12H0000107P01</td>\n",
       "      <td>1</td>\n",
       "      <td>Sunday</td>\n",
       "      <td>Vehicle Driver</td>\n",
       "      <td>Social</td>\n",
       "      <td>Social</td>\n",
       "      <td>10</td>\n",
       "      <td>630</td>\n",
       "      <td>10</td>\n",
       "      <td>650</td>\n",
       "      <td>20</td>\n",
       "      <td>20</td>\n",
       "      <td>0</td>\n",
       "      <td>20904122028</td>\n",
       "      <td>Whittlesea - Wallan</td>\n",
       "      <td>20904122002</td>\n",
       "      <td>Whittlesea - Wallan</td>\n",
       "      <td>2.60</td>\n",
       "      <td>Car</td>\n",
       "    </tr>\n",
       "    <tr>\n",
       "      <th>1</th>\n",
       "      <td>Y12H0000107P01T02</td>\n",
       "      <td>Y12H0000107P01</td>\n",
       "      <td>2</td>\n",
       "      <td>Sunday</td>\n",
       "      <td>Vehicle Driver</td>\n",
       "      <td>Social</td>\n",
       "      <td>At or Go Home</td>\n",
       "      <td>12</td>\n",
       "      <td>750</td>\n",
       "      <td>12</td>\n",
       "      <td>760</td>\n",
       "      <td>10</td>\n",
       "      <td>10</td>\n",
       "      <td>0</td>\n",
       "      <td>20904122002</td>\n",
       "      <td>Whittlesea - Wallan</td>\n",
       "      <td>20904122028</td>\n",
       "      <td>Whittlesea - Wallan</td>\n",
       "      <td>2.60</td>\n",
       "      <td>Car</td>\n",
       "    </tr>\n",
       "    <tr>\n",
       "      <th>2</th>\n",
       "      <td>Y12H0000107P01T03</td>\n",
       "      <td>Y12H0000107P01</td>\n",
       "      <td>3</td>\n",
       "      <td>Sunday</td>\n",
       "      <td>Walking</td>\n",
       "      <td>Recreational</td>\n",
       "      <td>Recreational</td>\n",
       "      <td>13</td>\n",
       "      <td>810</td>\n",
       "      <td>14</td>\n",
       "      <td>840</td>\n",
       "      <td>30</td>\n",
       "      <td>30</td>\n",
       "      <td>0</td>\n",
       "      <td>20904122028</td>\n",
       "      <td>Whittlesea - Wallan</td>\n",
       "      <td>20904122031</td>\n",
       "      <td>Whittlesea - Wallan</td>\n",
       "      <td>3.23</td>\n",
       "      <td>Walk</td>\n",
       "    </tr>\n",
       "    <tr>\n",
       "      <th>3</th>\n",
       "      <td>Y12H0000107P01T04</td>\n",
       "      <td>Y12H0000107P01</td>\n",
       "      <td>4</td>\n",
       "      <td>Sunday</td>\n",
       "      <td>Walking</td>\n",
       "      <td>Recreational</td>\n",
       "      <td>At or Go Home</td>\n",
       "      <td>14</td>\n",
       "      <td>855</td>\n",
       "      <td>14</td>\n",
       "      <td>885</td>\n",
       "      <td>30</td>\n",
       "      <td>30</td>\n",
       "      <td>0</td>\n",
       "      <td>20904122031</td>\n",
       "      <td>Whittlesea - Wallan</td>\n",
       "      <td>20904122028</td>\n",
       "      <td>Whittlesea - Wallan</td>\n",
       "      <td>3.23</td>\n",
       "      <td>Walk</td>\n",
       "    </tr>\n",
       "    <tr>\n",
       "      <th>4</th>\n",
       "      <td>Y12H0000107P02T01</td>\n",
       "      <td>Y12H0000107P02</td>\n",
       "      <td>1</td>\n",
       "      <td>Sunday</td>\n",
       "      <td>Vehicle Passenger</td>\n",
       "      <td>Social</td>\n",
       "      <td>Social</td>\n",
       "      <td>10</td>\n",
       "      <td>630</td>\n",
       "      <td>10</td>\n",
       "      <td>650</td>\n",
       "      <td>20</td>\n",
       "      <td>20</td>\n",
       "      <td>0</td>\n",
       "      <td>20904122028</td>\n",
       "      <td>Whittlesea - Wallan</td>\n",
       "      <td>20904122002</td>\n",
       "      <td>Whittlesea - Wallan</td>\n",
       "      <td>2.60</td>\n",
       "      <td>Car</td>\n",
       "    </tr>\n",
       "  </tbody>\n",
       "</table>\n",
       "</div>"
      ],
      "text/plain": [
       "              TRIPID          PERSID  TRIPNO TRAVDOW           LINKMODE  \\\n",
       "0  Y12H0000107P01T01  Y12H0000107P01       1  Sunday     Vehicle Driver   \n",
       "1  Y12H0000107P01T02  Y12H0000107P01       2  Sunday     Vehicle Driver   \n",
       "2  Y12H0000107P01T03  Y12H0000107P01       3  Sunday            Walking   \n",
       "3  Y12H0000107P01T04  Y12H0000107P01       4  Sunday            Walking   \n",
       "4  Y12H0000107P02T01  Y12H0000107P02       1  Sunday  Vehicle Passenger   \n",
       "\n",
       "       TRIPPURP      DESTPURP1  STARTHOUR  STARTIME  ARRHOUR  ARRTIME  \\\n",
       "0        Social         Social         10       630       10      650   \n",
       "1        Social  At or Go Home         12       750       12      760   \n",
       "2  Recreational   Recreational         13       810       14      840   \n",
       "3  Recreational  At or Go Home         14       855       14      885   \n",
       "4        Social         Social         10       630       10      650   \n",
       "\n",
       "   TRIPTIME  TRAVTIME  WAITIME      ORIGSA1              ORIGSA3      DESTSA1  \\\n",
       "0        20        20        0  20904122028  Whittlesea - Wallan  20904122002   \n",
       "1        10        10        0  20904122002  Whittlesea - Wallan  20904122028   \n",
       "2        30        30        0  20904122028  Whittlesea - Wallan  20904122031   \n",
       "3        30        30        0  20904122031  Whittlesea - Wallan  20904122028   \n",
       "4        20        20        0  20904122028  Whittlesea - Wallan  20904122002   \n",
       "\n",
       "               DESTSA3  CUMDIST  Mode  \n",
       "0  Whittlesea - Wallan     2.60   Car  \n",
       "1  Whittlesea - Wallan     2.60   Car  \n",
       "2  Whittlesea - Wallan     3.23  Walk  \n",
       "3  Whittlesea - Wallan     3.23  Walk  \n",
       "4  Whittlesea - Wallan     2.60   Car  "
      ]
     },
     "execution_count": 113,
     "metadata": {},
     "output_type": "execute_result"
    }
   ],
   "source": [
    "trips.head()"
   ]
  },
  {
   "cell_type": "code",
   "execution_count": 114,
   "id": "international-constitution",
   "metadata": {},
   "outputs": [],
   "source": [
    "trips = trips.merge(gdf_vic[['SA1_MAIN16','centroid']], how=\"left\", left_on=\"ORIGSA1\", right_on=\"SA1_MAIN16\")\n",
    "trips = trips.rename(columns={\"centroid\":\"ORIG_CENTROID\"})\n",
    "trips = trips.drop(columns=[\"SA1_MAIN16\"], axis=1)"
   ]
  },
  {
   "cell_type": "code",
   "execution_count": 115,
   "id": "skilled-estimate",
   "metadata": {},
   "outputs": [],
   "source": [
    "trips = trips.merge(gdf_vic[['SA1_MAIN16','centroid']], how=\"left\", left_on=\"DESTSA1\", right_on=\"SA1_MAIN16\")\n",
    "trips = trips.rename(columns={\"centroid\":\"DEST_CENTROID\"})\n",
    "trips = trips.drop(columns=[\"SA1_MAIN16\"], axis=1)"
   ]
  },
  {
   "cell_type": "code",
   "execution_count": 116,
   "id": "adverse-bullet",
   "metadata": {},
   "outputs": [
    {
     "data": {
      "text/html": [
       "<div>\n",
       "<style scoped>\n",
       "    .dataframe tbody tr th:only-of-type {\n",
       "        vertical-align: middle;\n",
       "    }\n",
       "\n",
       "    .dataframe tbody tr th {\n",
       "        vertical-align: top;\n",
       "    }\n",
       "\n",
       "    .dataframe thead th {\n",
       "        text-align: right;\n",
       "    }\n",
       "</style>\n",
       "<table border=\"1\" class=\"dataframe\">\n",
       "  <thead>\n",
       "    <tr style=\"text-align: right;\">\n",
       "      <th></th>\n",
       "      <th>TRIPID</th>\n",
       "      <th>PERSID</th>\n",
       "      <th>TRIPNO</th>\n",
       "      <th>TRAVDOW</th>\n",
       "      <th>LINKMODE</th>\n",
       "      <th>TRIPPURP</th>\n",
       "      <th>DESTPURP1</th>\n",
       "      <th>STARTHOUR</th>\n",
       "      <th>STARTIME</th>\n",
       "      <th>ARRHOUR</th>\n",
       "      <th>...</th>\n",
       "      <th>TRAVTIME</th>\n",
       "      <th>WAITIME</th>\n",
       "      <th>ORIGSA1</th>\n",
       "      <th>ORIGSA3</th>\n",
       "      <th>DESTSA1</th>\n",
       "      <th>DESTSA3</th>\n",
       "      <th>CUMDIST</th>\n",
       "      <th>Mode</th>\n",
       "      <th>ORIG_CENTROID</th>\n",
       "      <th>DEST_CENTROID</th>\n",
       "    </tr>\n",
       "  </thead>\n",
       "  <tbody>\n",
       "    <tr>\n",
       "      <th>0</th>\n",
       "      <td>Y12H0000107P01T01</td>\n",
       "      <td>Y12H0000107P01</td>\n",
       "      <td>1</td>\n",
       "      <td>Sunday</td>\n",
       "      <td>Vehicle Driver</td>\n",
       "      <td>Social</td>\n",
       "      <td>Social</td>\n",
       "      <td>10</td>\n",
       "      <td>630</td>\n",
       "      <td>10</td>\n",
       "      <td>...</td>\n",
       "      <td>20</td>\n",
       "      <td>0</td>\n",
       "      <td>20904122028</td>\n",
       "      <td>Whittlesea - Wallan</td>\n",
       "      <td>20904122002</td>\n",
       "      <td>Whittlesea - Wallan</td>\n",
       "      <td>2.60</td>\n",
       "      <td>Car</td>\n",
       "      <td>POINT (145.08730 -37.65974)</td>\n",
       "      <td>POINT (145.07152 -37.65148)</td>\n",
       "    </tr>\n",
       "    <tr>\n",
       "      <th>1</th>\n",
       "      <td>Y12H0000107P01T02</td>\n",
       "      <td>Y12H0000107P01</td>\n",
       "      <td>2</td>\n",
       "      <td>Sunday</td>\n",
       "      <td>Vehicle Driver</td>\n",
       "      <td>Social</td>\n",
       "      <td>At or Go Home</td>\n",
       "      <td>12</td>\n",
       "      <td>750</td>\n",
       "      <td>12</td>\n",
       "      <td>...</td>\n",
       "      <td>10</td>\n",
       "      <td>0</td>\n",
       "      <td>20904122002</td>\n",
       "      <td>Whittlesea - Wallan</td>\n",
       "      <td>20904122028</td>\n",
       "      <td>Whittlesea - Wallan</td>\n",
       "      <td>2.60</td>\n",
       "      <td>Car</td>\n",
       "      <td>POINT (145.07152 -37.65148)</td>\n",
       "      <td>POINT (145.08730 -37.65974)</td>\n",
       "    </tr>\n",
       "    <tr>\n",
       "      <th>2</th>\n",
       "      <td>Y12H0000107P01T03</td>\n",
       "      <td>Y12H0000107P01</td>\n",
       "      <td>3</td>\n",
       "      <td>Sunday</td>\n",
       "      <td>Walking</td>\n",
       "      <td>Recreational</td>\n",
       "      <td>Recreational</td>\n",
       "      <td>13</td>\n",
       "      <td>810</td>\n",
       "      <td>14</td>\n",
       "      <td>...</td>\n",
       "      <td>30</td>\n",
       "      <td>0</td>\n",
       "      <td>20904122028</td>\n",
       "      <td>Whittlesea - Wallan</td>\n",
       "      <td>20904122031</td>\n",
       "      <td>Whittlesea - Wallan</td>\n",
       "      <td>3.23</td>\n",
       "      <td>Walk</td>\n",
       "      <td>POINT (145.08730 -37.65974)</td>\n",
       "      <td>POINT (145.06223 -37.66497)</td>\n",
       "    </tr>\n",
       "    <tr>\n",
       "      <th>3</th>\n",
       "      <td>Y12H0000107P01T04</td>\n",
       "      <td>Y12H0000107P01</td>\n",
       "      <td>4</td>\n",
       "      <td>Sunday</td>\n",
       "      <td>Walking</td>\n",
       "      <td>Recreational</td>\n",
       "      <td>At or Go Home</td>\n",
       "      <td>14</td>\n",
       "      <td>855</td>\n",
       "      <td>14</td>\n",
       "      <td>...</td>\n",
       "      <td>30</td>\n",
       "      <td>0</td>\n",
       "      <td>20904122031</td>\n",
       "      <td>Whittlesea - Wallan</td>\n",
       "      <td>20904122028</td>\n",
       "      <td>Whittlesea - Wallan</td>\n",
       "      <td>3.23</td>\n",
       "      <td>Walk</td>\n",
       "      <td>POINT (145.06223 -37.66497)</td>\n",
       "      <td>POINT (145.08730 -37.65974)</td>\n",
       "    </tr>\n",
       "    <tr>\n",
       "      <th>4</th>\n",
       "      <td>Y12H0000107P02T01</td>\n",
       "      <td>Y12H0000107P02</td>\n",
       "      <td>1</td>\n",
       "      <td>Sunday</td>\n",
       "      <td>Vehicle Passenger</td>\n",
       "      <td>Social</td>\n",
       "      <td>Social</td>\n",
       "      <td>10</td>\n",
       "      <td>630</td>\n",
       "      <td>10</td>\n",
       "      <td>...</td>\n",
       "      <td>20</td>\n",
       "      <td>0</td>\n",
       "      <td>20904122028</td>\n",
       "      <td>Whittlesea - Wallan</td>\n",
       "      <td>20904122002</td>\n",
       "      <td>Whittlesea - Wallan</td>\n",
       "      <td>2.60</td>\n",
       "      <td>Car</td>\n",
       "      <td>POINT (145.08730 -37.65974)</td>\n",
       "      <td>POINT (145.07152 -37.65148)</td>\n",
       "    </tr>\n",
       "  </tbody>\n",
       "</table>\n",
       "<p>5 rows × 22 columns</p>\n",
       "</div>"
      ],
      "text/plain": [
       "              TRIPID          PERSID  TRIPNO TRAVDOW           LINKMODE  \\\n",
       "0  Y12H0000107P01T01  Y12H0000107P01       1  Sunday     Vehicle Driver   \n",
       "1  Y12H0000107P01T02  Y12H0000107P01       2  Sunday     Vehicle Driver   \n",
       "2  Y12H0000107P01T03  Y12H0000107P01       3  Sunday            Walking   \n",
       "3  Y12H0000107P01T04  Y12H0000107P01       4  Sunday            Walking   \n",
       "4  Y12H0000107P02T01  Y12H0000107P02       1  Sunday  Vehicle Passenger   \n",
       "\n",
       "       TRIPPURP      DESTPURP1  STARTHOUR  STARTIME  ARRHOUR  ...  TRAVTIME  \\\n",
       "0        Social         Social         10       630       10  ...        20   \n",
       "1        Social  At or Go Home         12       750       12  ...        10   \n",
       "2  Recreational   Recreational         13       810       14  ...        30   \n",
       "3  Recreational  At or Go Home         14       855       14  ...        30   \n",
       "4        Social         Social         10       630       10  ...        20   \n",
       "\n",
       "   WAITIME      ORIGSA1              ORIGSA3      DESTSA1  \\\n",
       "0        0  20904122028  Whittlesea - Wallan  20904122002   \n",
       "1        0  20904122002  Whittlesea - Wallan  20904122028   \n",
       "2        0  20904122028  Whittlesea - Wallan  20904122031   \n",
       "3        0  20904122031  Whittlesea - Wallan  20904122028   \n",
       "4        0  20904122028  Whittlesea - Wallan  20904122002   \n",
       "\n",
       "               DESTSA3 CUMDIST  Mode                ORIG_CENTROID  \\\n",
       "0  Whittlesea - Wallan    2.60   Car  POINT (145.08730 -37.65974)   \n",
       "1  Whittlesea - Wallan    2.60   Car  POINT (145.07152 -37.65148)   \n",
       "2  Whittlesea - Wallan    3.23  Walk  POINT (145.08730 -37.65974)   \n",
       "3  Whittlesea - Wallan    3.23  Walk  POINT (145.06223 -37.66497)   \n",
       "4  Whittlesea - Wallan    2.60   Car  POINT (145.08730 -37.65974)   \n",
       "\n",
       "                 DEST_CENTROID  \n",
       "0  POINT (145.07152 -37.65148)  \n",
       "1  POINT (145.08730 -37.65974)  \n",
       "2  POINT (145.06223 -37.66497)  \n",
       "3  POINT (145.08730 -37.65974)  \n",
       "4  POINT (145.07152 -37.65148)  \n",
       "\n",
       "[5 rows x 22 columns]"
      ]
     },
     "execution_count": 116,
     "metadata": {},
     "output_type": "execute_result"
    }
   ],
   "source": [
    "trips.head()"
   ]
  },
  {
   "cell_type": "code",
   "execution_count": 117,
   "id": "brilliant-blanket",
   "metadata": {},
   "outputs": [
    {
     "data": {
      "text/plain": [
       "Thursday     7119\n",
       "Wednesday    7024\n",
       "Friday       6920\n",
       "Monday       6798\n",
       "Tuesday      6529\n",
       "Saturday     5233\n",
       "Sunday       4728\n",
       "Name: TRAVDOW, dtype: int64"
      ]
     },
     "execution_count": 117,
     "metadata": {},
     "output_type": "execute_result"
    }
   ],
   "source": [
    "trips.TRAVDOW.value_counts()"
   ]
  },
  {
   "cell_type": "markdown",
   "id": "distinguished-failing",
   "metadata": {},
   "source": [
    "### Saves trips OD locations into CSV"
   ]
  },
  {
   "cell_type": "code",
   "execution_count": 118,
   "id": "political-canadian",
   "metadata": {},
   "outputs": [],
   "source": [
    "trips.to_csv(\"../data/processed/trip_od_locations.csv\", index=False)"
   ]
  },
  {
   "cell_type": "code",
   "execution_count": 119,
   "id": "persistent-earth",
   "metadata": {},
   "outputs": [
    {
     "data": {
      "text/plain": [
       "(44351, 22)"
      ]
     },
     "execution_count": 119,
     "metadata": {},
     "output_type": "execute_result"
    }
   ],
   "source": [
    "trips.shape"
   ]
  },
  {
   "cell_type": "markdown",
   "id": "1b21c8e4-91cc-490a-ba27-8d43f97376f7",
   "metadata": {},
   "source": [
    "### Get person and household main info"
   ]
  },
  {
   "cell_type": "markdown",
   "id": "e360ca8e-4bf6-46db-a1db-a3fbdad8d446",
   "metadata": {},
   "source": [
    "##### Get household info"
   ]
  },
  {
   "cell_type": "code",
   "execution_count": 120,
   "id": "fc844175-e484-46b2-960e-f20b52a29e76",
   "metadata": {},
   "outputs": [
    {
     "name": "stderr",
     "output_type": "stream",
     "text": [
      "/home/danph/.pyenv/versions/3.8.5/envs/.ml/lib/python3.8/site-packages/IPython/core/interactiveshell.py:3169: DtypeWarning: Columns (32) have mixed types.Specify dtype option on import or set low_memory=False.\n",
      "  has_raised = await self.run_ast_nodes(code_ast.body, cell_name,\n"
     ]
    },
    {
     "data": {
      "text/plain": [
       "(18152, 53)"
      ]
     },
     "execution_count": 120,
     "metadata": {},
     "output_type": "execute_result"
    }
   ],
   "source": [
    "hh = pd.read_csv(\"../data/raw/VISTA_2012_16_v1_SA1_CSV/H_VISTA12_16_SA1_V1.csv\")\n",
    "hh.shape"
   ]
  },
  {
   "cell_type": "code",
   "execution_count": 121,
   "id": "904124e7-80e6-4776-94e6-e06674f59ca4",
   "metadata": {},
   "outputs": [],
   "source": [
    "cols = ['HHID', 'HHSIZE', 'VISITORS', 'DWELLTYPE',\n",
    "       'OWNDWELL', 'YEARSLIVED', 'MONTHSLIVED', 'ADULTBIKES', 'KIDSBIKES',\n",
    "       'TOTALBIKES', 'PHONE', 'CARS', 'FOURWDS', 'UTES', 'VANS', 'TRUCKS',\n",
    "       'MBIKES', 'OTHERVEHS', 'TOTALVEHS', 'TRAVDATE', 'TRAVMONTH', 'TRAVYEAR',\n",
    "       'HOMETAZ', 'YOUNGEST', 'AVEAGE', 'OLDEST', 'HHINC']"
   ]
  },
  {
   "cell_type": "code",
   "execution_count": 122,
   "id": "08d301b8-b2ca-46f6-abee-f3fc33984211",
   "metadata": {},
   "outputs": [
    {
     "data": {
      "text/plain": [
       "(18152, 27)"
      ]
     },
     "execution_count": 122,
     "metadata": {},
     "output_type": "execute_result"
    }
   ],
   "source": [
    "hh = hh[cols]\n",
    "hh.shape"
   ]
  },
  {
   "cell_type": "markdown",
   "id": "65356dd4-f431-4486-b09a-feeb15e4af57",
   "metadata": {},
   "source": [
    "##### Get person info"
   ]
  },
  {
   "cell_type": "code",
   "execution_count": 123,
   "id": "344a8794-f272-4478-ba93-e290dcce6bd6",
   "metadata": {},
   "outputs": [
    {
     "data": {
      "text/plain": [
       "(46562, 78)"
      ]
     },
     "execution_count": 123,
     "metadata": {},
     "output_type": "execute_result"
    }
   ],
   "source": [
    "ps = pd.read_csv(\"../data/raw/VISTA_2012_16_v1_SA1_CSV/P_VISTA12_16_SA1_V1.csv\")\n",
    "ps.shape"
   ]
  },
  {
   "cell_type": "code",
   "execution_count": 124,
   "id": "48955c0e-439c-46dc-864e-1cc0ca9df467",
   "metadata": {},
   "outputs": [],
   "source": [
    "cols =['PERSID', 'HHID', 'PERSNO', 'WEEK', 'MONTHOFBIRTH',\n",
    "       'YEAROFBIRTH', 'AGE', 'AGEGROUP', 'SEX', 'RELATIONSHIP', 'CARLICENCE',\n",
    "       'MBIKELICENCE', 'OTHERLICENCE', 'NOLICENCE', 'FULLTIMEWORK',\n",
    "       'PARTTIMEWORK', 'CASUALWORK', 'ANYWORK', 'STUDYING', 'ACTIVITIES',\n",
    "       'MAINACT', 'WORKTYPE', 'EMPTYPE', 'ANZSCO1', 'ANZSIC1',\n",
    "       'STARTPLACE', 'ANYSTOPS', 'NUMSTOPS', 'REASONCODE', 'MRTDOW',\n",
    "       'MRTINT', 'PERSINC', 'WHOFILLED', 'PROXY', 'FILLDOW', 'FILLLAG',\n",
    "       'ADDITIONALTRAVEL', 'NEWSTOP', 'DISABLEDTRANS', 'TAXITRANS',\n",
    "       'WHEELCHAIRTRANS', 'ACCESSTRANS', 'NONETRANS', 'NOTTOSAYTRANS',\n",
    "       'CYCLEDWORK', 'CYCLEDSHOPPING', 'CYCLEDEXERCISE', 'CYCLEDOTHER',\n",
    "       'NOCYCLED', 'HOMESLA', 'HOMELGA', 'HomeSA1', 'HomeSA2', 'HomeSA3',\n",
    "       'HomeSA4', 'HomeRegion_ASGS', 'HomeSubRegion_ASGS', 'AgeGroup_RW', 'STOPS',\n",
    "       'ReportingPeriod']"
   ]
  },
  {
   "cell_type": "code",
   "execution_count": 125,
   "id": "67a61111-a778-445b-879c-02e6db69c121",
   "metadata": {},
   "outputs": [
    {
     "data": {
      "text/plain": [
       "(46562, 60)"
      ]
     },
     "execution_count": 125,
     "metadata": {},
     "output_type": "execute_result"
    }
   ],
   "source": [
    "ps = ps[cols]\n",
    "ps.shape"
   ]
  },
  {
   "cell_type": "markdown",
   "id": "7c07c5b0-9048-4563-bf3f-dc1fadca65fa",
   "metadata": {},
   "source": [
    "##### Merge household info into person table"
   ]
  },
  {
   "cell_type": "code",
   "execution_count": 126,
   "id": "3840cf4e-7f71-4548-a81a-b9184f65c889",
   "metadata": {},
   "outputs": [
    {
     "data": {
      "text/plain": [
       "(46562, 86)"
      ]
     },
     "execution_count": 126,
     "metadata": {},
     "output_type": "execute_result"
    }
   ],
   "source": [
    "ps = ps.merge(hh, how='left', on='HHID')\n",
    "ps.shape"
   ]
  },
  {
   "cell_type": "code",
   "execution_count": 127,
   "id": "76d39f80-8cdf-449f-9511-e6296e892de3",
   "metadata": {},
   "outputs": [],
   "source": [
    "ps.to_csv(\"../data/processed/persons.csv\", index=False)"
   ]
  },
  {
   "cell_type": "markdown",
   "id": "83d84394-03df-468c-9198-0032f69f6e4b",
   "metadata": {},
   "source": [
    "### Merge person info into Trip table"
   ]
  },
  {
   "cell_type": "code",
   "execution_count": 131,
   "id": "72386cf2-32d2-4e95-8aa6-dcf5dde44759",
   "metadata": {},
   "outputs": [
    {
     "data": {
      "text/plain": [
       "(44351, 107)"
      ]
     },
     "execution_count": 131,
     "metadata": {},
     "output_type": "execute_result"
    }
   ],
   "source": [
    "trips = trips.merge(ps, how=\"left\", on='PERSID')\n",
    "trips.shape"
   ]
  },
  {
   "cell_type": "code",
   "execution_count": 132,
   "id": "e2f8bac2-cf4f-4a95-b5a6-d624db584416",
   "metadata": {},
   "outputs": [],
   "source": [
    "trips.to_csv(\"../data/processed/trip_od_full.csv\", index=False)"
   ]
  },
  {
   "cell_type": "code",
   "execution_count": null,
   "id": "9ebe8405-9a62-47ff-9c13-38916bb5df3a",
   "metadata": {},
   "outputs": [],
   "source": []
  }
 ],
 "metadata": {
  "kernelspec": {
   "display_name": "Python 3",
   "language": "python",
   "name": "python3"
  },
  "language_info": {
   "codemirror_mode": {
    "name": "ipython",
    "version": 3
   },
   "file_extension": ".py",
   "mimetype": "text/x-python",
   "name": "python",
   "nbconvert_exporter": "python",
   "pygments_lexer": "ipython3",
   "version": "3.8.5"
  }
 },
 "nbformat": 4,
 "nbformat_minor": 5
}
