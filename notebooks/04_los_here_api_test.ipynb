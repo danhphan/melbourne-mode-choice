{
 "cells": [
  {
   "cell_type": "markdown",
   "id": "flexible-kenya",
   "metadata": {},
   "source": [
    "## HERE FREE ACCOUNT\n",
    "\n",
    "https://developer.here.com/pricing\n",
    "\n",
    "Free Transactions per month 250K\n",
    "\n",
    "Pay per additional Transactions 1000 / $1"
   ]
  },
  {
   "cell_type": "code",
   "execution_count": 8,
   "id": "figured-constitutional",
   "metadata": {},
   "outputs": [],
   "source": [
    "import json\n",
    "import os\n",
    "\n",
    "from here_location_services import LS\n",
    "from here_location_services.config.routing_config import ROUTING_RETURN"
   ]
  },
  {
   "cell_type": "code",
   "execution_count": 9,
   "id": "destroyed-optimization",
   "metadata": {},
   "outputs": [],
   "source": [
    "LS_API_KEY = os.environ.get(\"HERE_API_KEY\")  # Get API KEY from environment.\n",
    "ls = LS(api_key=LS_API_KEY)"
   ]
  },
  {
   "cell_type": "code",
   "execution_count": 32,
   "id": "referenced-hotel",
   "metadata": {},
   "outputs": [
    {
     "data": {
      "text/plain": [
       "<here_location_services.responses.GeocoderResponse at 0x7f8964d02350>"
      ]
     },
     "execution_count": 32,
     "metadata": {},
     "output_type": "execute_result"
    }
   ],
   "source": [
    "address = \"Monash University, Clayton, Vic\"\n",
    "geo = ls.geocode(query=address)\n",
    "geo"
   ]
  },
  {
   "cell_type": "code",
   "execution_count": 33,
   "id": "ecological-command",
   "metadata": {},
   "outputs": [
    {
     "name": "stdout",
     "output_type": "stream",
     "text": [
      "{\"items\": [{\"access\": [{\"lat\": -37.91315, \"lng\": 145.13562}], \"address\": {\"city\": \"Melbourne\", \"countryCode\": \"AUS\", \"countryName\": \"Australia\", \"district\": \"Clayton\", \"label\": \"Monash University, Scenic Blvd, Clayton VIC 3168, Australia\", \"postalCode\": \"3168\", \"state\": \"Victoria\", \"stateCode\": \"VIC\", \"street\": \"Scenic Blvd\"}, \"categories\": [{\"id\": \"800-8200-0173\", \"name\": \"Higher Education\", \"primary\": true}], \"id\": \"here:pds:place:036r1r0q-860725be724e464aab14f806f8d8ab55\", \"position\": {\"lat\": -37.91319, \"lng\": 145.13569}, \"resultType\": \"place\", \"scoring\": {\"fieldScore\": {\"district\": 1.0, \"placeName\": 1.0, \"state\": 1.0}, \"queryScore\": 1.0}, \"title\": \"Monash University\"}, {\"access\": [{\"lat\": -37.91322, \"lng\": 145.13556}], \"address\": {\"city\": \"Melbourne\", \"countryCode\": \"AUS\", \"countryName\": \"Australia\", \"district\": \"Clayton\", \"label\": \"Monash University, Scenic Blvd, Clayton VIC 3168, Australia\", \"postalCode\": \"3168\", \"state\": \"Victoria\", \"stateCode\": \"VIC\", \"street\": \"Scenic Blvd\"}, \"categories\": [{\"id\": \"800-8200-0173\", \"name\": \"Higher Education\", \"primary\": true}], \"id\": \"here:pds:place:036r1r0q-da61b539d240683538db5be17a42fbde\", \"position\": {\"lat\": -37.91322, \"lng\": 145.13556}, \"resultType\": \"place\", \"scoring\": {\"fieldScore\": {\"district\": 1.0, \"placeName\": 1.0, \"state\": 1.0}, \"queryScore\": 1.0}, \"title\": \"Monash University\"}]}\n"
     ]
    }
   ],
   "source": [
    "print(geo)"
   ]
  },
  {
   "cell_type": "markdown",
   "id": "analyzed-virus",
   "metadata": {},
   "source": [
    "### HERE routing APIs: Car Driving"
   ]
  },
  {
   "cell_type": "code",
   "execution_count": 11,
   "id": "parliamentary-distinction",
   "metadata": {},
   "outputs": [],
   "source": [
    "orig = [-37.89577598106494, 145.09038583978858]\n",
    "dest = [-37.91291561061539, 145.13363175213212]"
   ]
  },
  {
   "cell_type": "code",
   "execution_count": 24,
   "id": "corresponding-saying",
   "metadata": {},
   "outputs": [],
   "source": [
    "result = ls.car_route(\n",
    "    origin=orig,\n",
    "    destination=dest,\n",
    "    return_results=[\n",
    "#         ROUTING_RETURN.polyline,\n",
    "#         ROUTING_RETURN.elevation,\n",
    "#         ROUTING_RETURN.instructions,\n",
    "#         ROUTING_RETURN.actions,\n",
    "        ROUTING_RETURN.summary\n",
    "    ],\n",
    ")"
   ]
  },
  {
   "cell_type": "code",
   "execution_count": 31,
   "id": "ceramic-confidentiality",
   "metadata": {},
   "outputs": [
    {
     "name": "stdout",
     "output_type": "stream",
     "text": [
      "{\"routes\": [{\"id\": \"e081ce19-8ad9-425e-aa60-276cf947c894\", \"sections\": [{\"arrival\": {\"place\": {\"location\": {\"lat\": -37.91358, \"lng\": 145.13297}, \"originalLocation\": {\"lat\": -37.9129156, \"lng\": 145.1336318}, \"type\": \"place\"}, \"time\": \"2021-05-21T19:30:12+10:00\"}, \"departure\": {\"place\": {\"location\": {\"lat\": -37.8957648, \"lng\": 145.0902832}, \"originalLocation\": {\"lat\": -37.8957761, \"lng\": 145.0903858}, \"type\": \"place\"}, \"time\": \"2021-05-21T19:21:56+10:00\"}, \"id\": \"aece1250-204a-40ec-8979-62f0fc4eace9\", \"summary\": {\"baseDuration\": 430, \"duration\": 496, \"length\": 5727}, \"transport\": {\"mode\": \"car\"}, \"type\": \"vehicle\"}]}]}\n"
     ]
    }
   ],
   "source": [
    "print(result)"
   ]
  },
  {
   "cell_type": "code",
   "execution_count": 28,
   "id": "widespread-reverse",
   "metadata": {},
   "outputs": [
    {
     "name": "stdout",
     "output_type": "stream",
     "text": [
      "<bound method RoutingResponse.to_geojson of <here_location_services.responses.RoutingResponse object at 0x7f8964d1bc50>>\n"
     ]
    }
   ],
   "source": [
    "print(result.to_geojson)"
   ]
  },
  {
   "cell_type": "code",
   "execution_count": 18,
   "id": "unlikely-giving",
   "metadata": {},
   "outputs": [
    {
     "data": {
      "text/plain": [
       "['__class__',\n",
       " '__delattr__',\n",
       " '__dict__',\n",
       " '__dir__',\n",
       " '__doc__',\n",
       " '__eq__',\n",
       " '__format__',\n",
       " '__ge__',\n",
       " '__getattribute__',\n",
       " '__gt__',\n",
       " '__hash__',\n",
       " '__init__',\n",
       " '__init_subclass__',\n",
       " '__le__',\n",
       " '__lt__',\n",
       " '__module__',\n",
       " '__ne__',\n",
       " '__new__',\n",
       " '__reduce__',\n",
       " '__reduce_ex__',\n",
       " '__repr__',\n",
       " '__setattr__',\n",
       " '__sizeof__',\n",
       " '__str__',\n",
       " '__subclasshook__',\n",
       " '__weakref__',\n",
       " '_filters',\n",
       " 'as_json_string',\n",
       " 'new',\n",
       " 'response',\n",
       " 'routes',\n",
       " 'to_geojson']"
      ]
     },
     "execution_count": 18,
     "metadata": {},
     "output_type": "execute_result"
    }
   ],
   "source": [
    "dir(result)"
   ]
  },
  {
   "cell_type": "code",
   "execution_count": null,
   "id": "moved-letters",
   "metadata": {},
   "outputs": [],
   "source": []
  }
 ],
 "metadata": {
  "kernelspec": {
   "display_name": "Python 3",
   "language": "python",
   "name": "python3"
  },
  "language_info": {
   "codemirror_mode": {
    "name": "ipython",
    "version": 3
   },
   "file_extension": ".py",
   "mimetype": "text/x-python",
   "name": "python",
   "nbconvert_exporter": "python",
   "pygments_lexer": "ipython3",
   "version": "3.7.10"
  }
 },
 "nbformat": 4,
 "nbformat_minor": 5
}
