{
 "cells": [
  {
   "cell_type": "code",
   "execution_count": 15,
   "id": "9e7101b8-9e21-41a8-95e6-61be576b3080",
   "metadata": {},
   "outputs": [
    {
     "name": "stdout",
     "output_type": "stream",
     "text": [
      "The autoreload extension is already loaded. To reload it, use:\n",
      "  %reload_ext autoreload\n"
     ]
    }
   ],
   "source": [
    "%load_ext autoreload\n",
    "%autoreload 2"
   ]
  },
  {
   "cell_type": "code",
   "execution_count": 16,
   "id": "6ef54e57-243e-4c7b-8f50-07c209528ef9",
   "metadata": {},
   "outputs": [],
   "source": [
    "import json\n",
    "import os\n",
    "import time\n",
    "import numpy as np\n",
    "import pandas as pd\n",
    "from datetime import datetime\n",
    "from here_location_services import LS\n",
    "from here_location_services.config.routing_config import ROUTING_RETURN\n",
    "from here_los_utils import *"
   ]
  },
  {
   "cell_type": "code",
   "execution_count": 17,
   "id": "11354f42-519d-462f-92d4-2a57e42704b4",
   "metadata": {},
   "outputs": [],
   "source": [
    "LS_API_KEY = os.environ.get(\"HERE_API_KEY\")  # Get API KEY from environment.\n",
    "ls = LS(api_key=LS_API_KEY)"
   ]
  },
  {
   "cell_type": "markdown",
   "id": "325f8610-16af-4dd4-9535-8f65826b7785",
   "metadata": {},
   "source": [
    "### Load trips data"
   ]
  },
  {
   "cell_type": "code",
   "execution_count": 18,
   "id": "65c26f2d-b303-4556-be3f-d6ef3272ed3f",
   "metadata": {},
   "outputs": [
    {
     "data": {
      "text/plain": [
       "(36287, 111)"
      ]
     },
     "execution_count": 18,
     "metadata": {},
     "output_type": "execute_result"
    }
   ],
   "source": [
    "trips = pd.read_csv(\"../data/processed/trip_od_full.csv\", low_memory=False)\n",
    "trips.shape"
   ]
  },
  {
   "cell_type": "code",
   "execution_count": 19,
   "id": "7f9e3592-a13c-422d-9479-3dc8f4caa129",
   "metadata": {},
   "outputs": [
    {
     "data": {
      "text/plain": [
       "(36287, 21)"
      ]
     },
     "execution_count": 19,
     "metadata": {},
     "output_type": "execute_result"
    }
   ],
   "source": [
    "# Use relavent columns\n",
    "cols = ['TRIPID', 'Mode', 'LINKMODE', 'TRIPPURP', 'DESTPURP1', 'TRIPTIME', 'TRAVTIME',\n",
    "        'TRAVDOW', 'TRAVDATE', 'TRAVMONTH', 'TRAVYEAR', 'STARTHOUR', 'STARTIME', \n",
    "        'HomeSA1', 'CUMDIST','ORIGSA1', 'DESTSA1', 'ORIG_X', 'ORIG_Y', 'DEST_X', 'DEST_Y']\n",
    "trips = trips[cols]\n",
    "trips.shape"
   ]
  },
  {
   "cell_type": "markdown",
   "id": "49ac5598-5f09-474f-b7e5-10e0c483ed96",
   "metadata": {},
   "source": [
    "### Get trips departure time"
   ]
  },
  {
   "cell_type": "code",
   "execution_count": 20,
   "id": "519599c0-5fa4-4b19-91a5-38f3bb4da033",
   "metadata": {},
   "outputs": [],
   "source": [
    "# Get detailed start time of trips\n",
    "trips['STARTMIN'] = trips['STARTIME'] % 60\n",
    "trips['START_DETAIL_TIME'] = (trips['TRAVDATE'].astype(str) + \" \" + trips['STARTHOUR'].astype(str) \n",
    "                              + \":\" + trips['STARTMIN'].astype(str))"
   ]
  },
  {
   "cell_type": "code",
   "execution_count": 21,
   "id": "3f849b2e-d54d-407f-a881-44862c14f16a",
   "metadata": {},
   "outputs": [
    {
     "data": {
      "text/html": [
       "<div>\n",
       "<style scoped>\n",
       "    .dataframe tbody tr th:only-of-type {\n",
       "        vertical-align: middle;\n",
       "    }\n",
       "\n",
       "    .dataframe tbody tr th {\n",
       "        vertical-align: top;\n",
       "    }\n",
       "\n",
       "    .dataframe thead th {\n",
       "        text-align: right;\n",
       "    }\n",
       "</style>\n",
       "<table border=\"1\" class=\"dataframe\">\n",
       "  <thead>\n",
       "    <tr style=\"text-align: right;\">\n",
       "      <th></th>\n",
       "      <th>0</th>\n",
       "      <th>1</th>\n",
       "      <th>2</th>\n",
       "      <th>3</th>\n",
       "      <th>4</th>\n",
       "    </tr>\n",
       "  </thead>\n",
       "  <tbody>\n",
       "    <tr>\n",
       "      <th>TRIPID</th>\n",
       "      <td>Y12H0000107P01T01</td>\n",
       "      <td>Y12H0000107P01T02</td>\n",
       "      <td>Y12H0000107P01T03</td>\n",
       "      <td>Y12H0000107P01T04</td>\n",
       "      <td>Y12H0000107P02T01</td>\n",
       "    </tr>\n",
       "    <tr>\n",
       "      <th>Mode</th>\n",
       "      <td>Car</td>\n",
       "      <td>Car</td>\n",
       "      <td>Walk</td>\n",
       "      <td>Walk</td>\n",
       "      <td>Car</td>\n",
       "    </tr>\n",
       "    <tr>\n",
       "      <th>LINKMODE</th>\n",
       "      <td>Vehicle Driver</td>\n",
       "      <td>Vehicle Driver</td>\n",
       "      <td>Walking</td>\n",
       "      <td>Walking</td>\n",
       "      <td>Vehicle Passenger</td>\n",
       "    </tr>\n",
       "    <tr>\n",
       "      <th>TRIPPURP</th>\n",
       "      <td>Social</td>\n",
       "      <td>Social</td>\n",
       "      <td>Recreational</td>\n",
       "      <td>Recreational</td>\n",
       "      <td>Social</td>\n",
       "    </tr>\n",
       "    <tr>\n",
       "      <th>DESTPURP1</th>\n",
       "      <td>Social</td>\n",
       "      <td>At or Go Home</td>\n",
       "      <td>Recreational</td>\n",
       "      <td>At or Go Home</td>\n",
       "      <td>Social</td>\n",
       "    </tr>\n",
       "    <tr>\n",
       "      <th>TRIPTIME</th>\n",
       "      <td>20</td>\n",
       "      <td>10</td>\n",
       "      <td>30</td>\n",
       "      <td>30</td>\n",
       "      <td>20</td>\n",
       "    </tr>\n",
       "    <tr>\n",
       "      <th>TRAVTIME</th>\n",
       "      <td>20</td>\n",
       "      <td>10</td>\n",
       "      <td>30</td>\n",
       "      <td>30</td>\n",
       "      <td>20</td>\n",
       "    </tr>\n",
       "    <tr>\n",
       "      <th>TRAVDOW</th>\n",
       "      <td>Sunday</td>\n",
       "      <td>Sunday</td>\n",
       "      <td>Sunday</td>\n",
       "      <td>Sunday</td>\n",
       "      <td>Sunday</td>\n",
       "    </tr>\n",
       "    <tr>\n",
       "      <th>TRAVDATE</th>\n",
       "      <td>27/05/2012</td>\n",
       "      <td>27/05/2012</td>\n",
       "      <td>27/05/2012</td>\n",
       "      <td>27/05/2012</td>\n",
       "      <td>27/05/2012</td>\n",
       "    </tr>\n",
       "    <tr>\n",
       "      <th>TRAVMONTH</th>\n",
       "      <td>May</td>\n",
       "      <td>May</td>\n",
       "      <td>May</td>\n",
       "      <td>May</td>\n",
       "      <td>May</td>\n",
       "    </tr>\n",
       "    <tr>\n",
       "      <th>TRAVYEAR</th>\n",
       "      <td>2012</td>\n",
       "      <td>2012</td>\n",
       "      <td>2012</td>\n",
       "      <td>2012</td>\n",
       "      <td>2012</td>\n",
       "    </tr>\n",
       "    <tr>\n",
       "      <th>STARTHOUR</th>\n",
       "      <td>10</td>\n",
       "      <td>12</td>\n",
       "      <td>13</td>\n",
       "      <td>14</td>\n",
       "      <td>10</td>\n",
       "    </tr>\n",
       "    <tr>\n",
       "      <th>STARTIME</th>\n",
       "      <td>630</td>\n",
       "      <td>750</td>\n",
       "      <td>810</td>\n",
       "      <td>855</td>\n",
       "      <td>630</td>\n",
       "    </tr>\n",
       "    <tr>\n",
       "      <th>HomeSA1</th>\n",
       "      <td>20904122028</td>\n",
       "      <td>20904122028</td>\n",
       "      <td>20904122028</td>\n",
       "      <td>20904122028</td>\n",
       "      <td>20904122028</td>\n",
       "    </tr>\n",
       "    <tr>\n",
       "      <th>CUMDIST</th>\n",
       "      <td>2.6</td>\n",
       "      <td>2.6</td>\n",
       "      <td>3.23</td>\n",
       "      <td>3.23</td>\n",
       "      <td>2.6</td>\n",
       "    </tr>\n",
       "    <tr>\n",
       "      <th>ORIGSA1</th>\n",
       "      <td>20904122028</td>\n",
       "      <td>20904122002</td>\n",
       "      <td>20904122028</td>\n",
       "      <td>20904122031</td>\n",
       "      <td>20904122028</td>\n",
       "    </tr>\n",
       "    <tr>\n",
       "      <th>DESTSA1</th>\n",
       "      <td>20904122002</td>\n",
       "      <td>20904122028</td>\n",
       "      <td>20904122031</td>\n",
       "      <td>20904122028</td>\n",
       "      <td>20904122002</td>\n",
       "    </tr>\n",
       "    <tr>\n",
       "      <th>ORIG_X</th>\n",
       "      <td>145.087</td>\n",
       "      <td>145.072</td>\n",
       "      <td>145.087</td>\n",
       "      <td>145.062</td>\n",
       "      <td>145.087</td>\n",
       "    </tr>\n",
       "    <tr>\n",
       "      <th>ORIG_Y</th>\n",
       "      <td>-37.6597</td>\n",
       "      <td>-37.6515</td>\n",
       "      <td>-37.6597</td>\n",
       "      <td>-37.665</td>\n",
       "      <td>-37.6597</td>\n",
       "    </tr>\n",
       "    <tr>\n",
       "      <th>DEST_X</th>\n",
       "      <td>145.072</td>\n",
       "      <td>145.087</td>\n",
       "      <td>145.062</td>\n",
       "      <td>145.087</td>\n",
       "      <td>145.072</td>\n",
       "    </tr>\n",
       "    <tr>\n",
       "      <th>DEST_Y</th>\n",
       "      <td>-37.6515</td>\n",
       "      <td>-37.6597</td>\n",
       "      <td>-37.665</td>\n",
       "      <td>-37.6597</td>\n",
       "      <td>-37.6515</td>\n",
       "    </tr>\n",
       "    <tr>\n",
       "      <th>STARTMIN</th>\n",
       "      <td>30</td>\n",
       "      <td>30</td>\n",
       "      <td>30</td>\n",
       "      <td>15</td>\n",
       "      <td>30</td>\n",
       "    </tr>\n",
       "    <tr>\n",
       "      <th>START_DETAIL_TIME</th>\n",
       "      <td>27/05/2012 10:30</td>\n",
       "      <td>27/05/2012 12:30</td>\n",
       "      <td>27/05/2012 13:30</td>\n",
       "      <td>27/05/2012 14:15</td>\n",
       "      <td>27/05/2012 10:30</td>\n",
       "    </tr>\n",
       "  </tbody>\n",
       "</table>\n",
       "</div>"
      ],
      "text/plain": [
       "                                   0                  1                  2  \\\n",
       "TRIPID             Y12H0000107P01T01  Y12H0000107P01T02  Y12H0000107P01T03   \n",
       "Mode                             Car                Car               Walk   \n",
       "LINKMODE              Vehicle Driver     Vehicle Driver            Walking   \n",
       "TRIPPURP                      Social             Social       Recreational   \n",
       "DESTPURP1                     Social      At or Go Home       Recreational   \n",
       "TRIPTIME                          20                 10                 30   \n",
       "TRAVTIME                          20                 10                 30   \n",
       "TRAVDOW                       Sunday             Sunday             Sunday   \n",
       "TRAVDATE                  27/05/2012         27/05/2012         27/05/2012   \n",
       "TRAVMONTH                        May                May                May   \n",
       "TRAVYEAR                        2012               2012               2012   \n",
       "STARTHOUR                         10                 12                 13   \n",
       "STARTIME                         630                750                810   \n",
       "HomeSA1                  20904122028        20904122028        20904122028   \n",
       "CUMDIST                          2.6                2.6               3.23   \n",
       "ORIGSA1                  20904122028        20904122002        20904122028   \n",
       "DESTSA1                  20904122002        20904122028        20904122031   \n",
       "ORIG_X                       145.087            145.072            145.087   \n",
       "ORIG_Y                      -37.6597           -37.6515           -37.6597   \n",
       "DEST_X                       145.072            145.087            145.062   \n",
       "DEST_Y                      -37.6515           -37.6597            -37.665   \n",
       "STARTMIN                          30                 30                 30   \n",
       "START_DETAIL_TIME   27/05/2012 10:30   27/05/2012 12:30   27/05/2012 13:30   \n",
       "\n",
       "                                   3                  4  \n",
       "TRIPID             Y12H0000107P01T04  Y12H0000107P02T01  \n",
       "Mode                            Walk                Car  \n",
       "LINKMODE                     Walking  Vehicle Passenger  \n",
       "TRIPPURP                Recreational             Social  \n",
       "DESTPURP1              At or Go Home             Social  \n",
       "TRIPTIME                          30                 20  \n",
       "TRAVTIME                          30                 20  \n",
       "TRAVDOW                       Sunday             Sunday  \n",
       "TRAVDATE                  27/05/2012         27/05/2012  \n",
       "TRAVMONTH                        May                May  \n",
       "TRAVYEAR                        2012               2012  \n",
       "STARTHOUR                         14                 10  \n",
       "STARTIME                         855                630  \n",
       "HomeSA1                  20904122028        20904122028  \n",
       "CUMDIST                         3.23                2.6  \n",
       "ORIGSA1                  20904122031        20904122028  \n",
       "DESTSA1                  20904122028        20904122002  \n",
       "ORIG_X                       145.062            145.087  \n",
       "ORIG_Y                       -37.665           -37.6597  \n",
       "DEST_X                       145.087            145.072  \n",
       "DEST_Y                      -37.6597           -37.6515  \n",
       "STARTMIN                          15                 30  \n",
       "START_DETAIL_TIME   27/05/2012 14:15   27/05/2012 10:30  "
      ]
     },
     "execution_count": 21,
     "metadata": {},
     "output_type": "execute_result"
    }
   ],
   "source": [
    "trips.head().T"
   ]
  },
  {
   "cell_type": "markdown",
   "id": "f6896aae-9ed7-49b4-9435-f367da738e94",
   "metadata": {},
   "source": [
    "### Collect Level of Service from HERE APIs"
   ]
  },
  {
   "cell_type": "code",
   "execution_count": 22,
   "id": "894a7c5c-d7f1-434f-983b-065e8c4826ea",
   "metadata": {},
   "outputs": [
    {
     "name": "stdout",
     "output_type": "stream",
     "text": [
      "2012-05-27 23:30:00\n"
     ]
    }
   ],
   "source": [
    "def get_datetime(str_time):\n",
    "    return datetime.strptime(str_time,'%d/%m/%Y %H:%M')\n",
    "\n",
    "# Test\n",
    "print(get_datetime(\"27/05/2012 23:30\"))\n",
    "\n",
    "def get_trip_los(trip):\n",
    "    time.sleep(0.3)\n",
    "    start_time = get_datetime(trip['START_DETAIL_TIME'])\n",
    "    orig = [trip.ORIG_Y, trip.ORIG_X]\n",
    "    dest = [trip.DEST_Y, trip.DEST_X]\n",
    "    (trip['CAR_TIME'], trip['CAR_LEN'], trip['CYCLE_TIME'], trip['CYCLE_LEN'], \n",
    "     trip['WALK_TIME'], trip['WALK_LEN']) = collect_here_los(ls, orig, dest, start_time)\n",
    "    return trip"
   ]
  },
  {
   "cell_type": "code",
   "execution_count": 23,
   "id": "306688ae-adae-44e8-90a9-9983793392e7",
   "metadata": {},
   "outputs": [
    {
     "data": {
      "text/plain": [
       "Walk     17115\n",
       "Car      15764\n",
       "Train     1704\n",
       "Cycle     1704\n",
       "Name: Mode, dtype: int64"
      ]
     },
     "execution_count": 23,
     "metadata": {},
     "output_type": "execute_result"
    }
   ],
   "source": [
    "trips.Mode.value_counts()"
   ]
  },
  {
   "cell_type": "code",
   "execution_count": 24,
   "id": "092102b0-031e-4646-b62a-b513c5529f5e",
   "metadata": {
    "tags": []
   },
   "outputs": [
    {
     "data": {
      "text/plain": [
       "((17115, 23), (15764, 23), (1704, 23), (1704, 23), (36287, 23))"
      ]
     },
     "execution_count": 24,
     "metadata": {},
     "output_type": "execute_result"
    }
   ],
   "source": [
    "# Divide data into walk_trips and not_walk_trips for smaller APIs number of queries\n",
    "car_trips = trips[trips.Mode.isin(['Car'])]\n",
    "walk_trips = trips[trips.Mode.isin(['Walk'])]\n",
    "train_trips = trips[trips.Mode.isin(['Train'])]\n",
    "cycle_trips = trips[trips.Mode.isin(['Cycle'])]\n",
    "assert len(trips) == len(car_trips) + len(walk_trips) + len(train_trips) + len(cycle_trips)\n",
    "walk_trips.shape, car_trips.shape, train_trips.shape, cycle_trips.shape, trips.shape"
   ]
  },
  {
   "cell_type": "code",
   "execution_count": 25,
   "id": "f835cfc2-e78c-4130-ab08-611b3469876b",
   "metadata": {},
   "outputs": [],
   "source": [
    "# Use batch processing as limitation of HERE service\n",
    "# ApiError: 429, Too Many Requests, {\"error\":\"Too Many Requests\",\"error_description\":\"Rate limit for this service has been reached\"}\n",
    "\n",
    "def process_trips_los(trips_df, batch_size, save_path, df_name):\n",
    "    \"\"\"\n",
    "    Process trips and get los from HERE APIs\n",
    "    Parameters\n",
    "        trips_df: trips dataframe\n",
    "        batch_size: process in batch due to quota limitation of HERE APIs\n",
    "        save_path: where to save collected batch files\n",
    "    \"\"\"\n",
    "    batch_idxs = np.arange(len(trips_df)) // batch_size\n",
    "    for gr, df in trips_df.groupby(batch_idxs):        \n",
    "        trip_los = df.apply(lambda x: get_trip_los(x), axis=1)\n",
    "        trip_los.to_csv(f\"{save_path}/{df_name}_{gr}.csv\")\n",
    "        print(f\"Finished batch {gr+1}\", df.shape, trip_los.shape)\n",
    "        time.sleep(5)"
   ]
  },
  {
   "cell_type": "code",
   "execution_count": 14,
   "id": "bd84a084-778a-4f34-9dab-f990d9376a7b",
   "metadata": {},
   "outputs": [
    {
     "name": "stdout",
     "output_type": "stream",
     "text": [
      "Finished batch 1 (200, 23) (200, 29)\n",
      "Finished batch 2 (200, 23) (200, 29)\n",
      "Finished batch 3 (200, 23) (200, 29)\n",
      "Finished batch 4 (200, 23) (200, 29)\n",
      "Finished batch 5 (200, 23) (200, 29)\n",
      "Finished batch 6 (200, 23) (200, 29)\n",
      "Finished batch 7 (200, 23) (200, 29)\n",
      "Finished batch 8 (200, 23) (200, 29)\n",
      "Finished batch 9 (104, 23) (104, 29)\n",
      "CPU times: user 2min 36s, sys: 3.58 s, total: 2min 39s\n",
      "Wall time: 47min 3s\n"
     ]
    }
   ],
   "source": [
    "%%time\n",
    "# RUN ONCE\n",
    "save_path = \"../data/los_here\"\n",
    "# batch_size = 100\n",
    "# process_trips_los(train_trips, batch_size, save_path, \"train_trips_los\")\n",
    "batch_size = 200\n",
    "process_trips_los(cycle_trips, batch_size, save_path, \"cycle_trips_los\")"
   ]
  },
  {
   "cell_type": "code",
   "execution_count": 26,
   "id": "61b91e4e-239b-47d2-9956-c0079badb42c",
   "metadata": {},
   "outputs": [
    {
     "name": "stdout",
     "output_type": "stream",
     "text": [
      "Finished batch 1 (200, 23) (200, 29)\n",
      "Finished batch 2 (200, 23) (200, 29)\n",
      "Finished batch 3 (200, 23) (200, 29)\n",
      "Finished batch 4 (200, 23) (200, 29)\n",
      "Finished batch 5 (200, 23) (200, 29)\n",
      "Finished batch 6 (200, 23) (200, 29)\n",
      "Finished batch 7 (200, 23) (200, 29)\n",
      "Finished batch 8 (200, 23) (200, 29)\n",
      "Finished batch 9 (200, 23) (200, 29)\n",
      "Finished batch 10 (200, 23) (200, 29)\n",
      "Finished batch 11 (200, 23) (200, 29)\n",
      "Finished batch 12 (200, 23) (200, 29)\n",
      "Finished batch 13 (200, 23) (200, 29)\n",
      "Finished batch 14 (200, 23) (200, 29)\n",
      "Finished batch 15 (200, 23) (200, 29)\n",
      "Finished batch 16 (200, 23) (200, 29)\n",
      "Finished batch 17 (200, 23) (200, 29)\n",
      "Finished batch 18 (200, 23) (200, 29)\n",
      "Finished batch 19 (200, 23) (200, 29)\n",
      "Finished batch 20 (200, 23) (200, 29)\n",
      "Finished batch 21 (200, 23) (200, 29)\n",
      "Finished batch 22 (200, 23) (200, 29)\n",
      "Finished batch 23 (200, 23) (200, 29)\n",
      "Finished batch 24 (200, 23) (200, 29)\n",
      "Finished batch 25 (200, 23) (200, 29)\n",
      "Finished batch 26 (200, 23) (200, 29)\n",
      "Finished batch 27 (200, 23) (200, 29)\n",
      "Finished batch 28 (200, 23) (200, 29)\n",
      "Finished batch 29 (200, 23) (200, 29)\n",
      "Finished batch 30 (200, 23) (200, 29)\n",
      "Finished batch 31 (200, 23) (200, 29)\n",
      "Finished batch 32 (200, 23) (200, 29)\n",
      "Finished batch 33 (200, 23) (200, 29)\n",
      "Finished batch 34 (200, 23) (200, 29)\n",
      "Finished batch 35 (200, 23) (200, 29)\n",
      "Finished batch 36 (200, 23) (200, 29)\n",
      "Finished batch 37 (200, 23) (200, 29)\n",
      "Finished batch 38 (200, 23) (200, 29)\n",
      "Finished batch 39 (200, 23) (200, 29)\n",
      "Finished batch 40 (200, 23) (200, 29)\n",
      "Finished batch 41 (200, 23) (200, 29)\n",
      "Finished batch 42 (200, 23) (200, 29)\n",
      "Finished batch 43 (200, 23) (200, 29)\n",
      "Finished batch 44 (200, 23) (200, 29)\n",
      "Finished batch 45 (200, 23) (200, 29)\n",
      "Finished batch 46 (200, 23) (200, 29)\n",
      "Finished batch 47 (200, 23) (200, 29)\n",
      "Finished batch 48 (200, 23) (200, 29)\n",
      "Finished batch 49 (200, 23) (200, 29)\n",
      "Finished batch 50 (200, 23) (200, 29)\n",
      "Finished batch 51 (200, 23) (200, 29)\n",
      "Finished batch 52 (200, 23) (200, 29)\n",
      "Finished batch 53 (200, 23) (200, 29)\n",
      "Finished batch 54 (200, 23) (200, 29)\n",
      "Finished batch 55 (200, 23) (200, 29)\n",
      "Finished batch 56 (200, 23) (200, 29)\n",
      "Finished batch 57 (200, 23) (200, 29)\n",
      "Finished batch 58 (200, 23) (200, 29)\n",
      "Finished batch 59 (200, 23) (200, 29)\n",
      "Finished batch 60 (200, 23) (200, 29)\n",
      "Finished batch 61 (200, 23) (200, 29)\n",
      "Finished batch 62 (200, 23) (200, 29)\n",
      "Finished batch 63 (200, 23) (200, 29)\n",
      "Finished batch 64 (200, 23) (200, 29)\n",
      "Finished batch 65 (200, 23) (200, 29)\n",
      "Finished batch 66 (200, 23) (200, 29)\n",
      "Finished batch 67 (200, 23) (200, 29)\n",
      "Finished batch 68 (200, 23) (200, 29)\n",
      "Finished batch 69 (200, 23) (200, 29)\n",
      "Finished batch 70 (200, 23) (200, 29)\n",
      "Finished batch 71 (200, 23) (200, 29)\n",
      "Finished batch 72 (200, 23) (200, 29)\n",
      "Finished batch 73 (200, 23) (200, 29)\n",
      "Finished batch 74 (200, 23) (200, 29)\n",
      "Finished batch 75 (200, 23) (200, 29)\n",
      "Finished batch 76 (200, 23) (200, 29)\n",
      "Finished batch 77 (200, 23) (200, 29)\n",
      "Finished batch 78 (200, 23) (200, 29)\n",
      "Finished batch 79 (164, 23) (164, 29)\n",
      "CPU times: user 24min 50s, sys: 33.7 s, total: 25min 24s\n",
      "Wall time: 7h 15min 7s\n"
     ]
    }
   ],
   "source": [
    "%%time\n",
    "# RUN ONCE\n",
    "save_path = \"../data/los_here\"\n",
    "batch_size = 200\n",
    "process_trips_los(car_trips, batch_size, save_path, \"car_trips_los\")"
   ]
  },
  {
   "cell_type": "code",
   "execution_count": 27,
   "id": "217666b3-d9b3-410a-b915-3d113943bc29",
   "metadata": {},
   "outputs": [
    {
     "data": {
      "text/plain": [
       "(17115, 23)"
      ]
     },
     "execution_count": 27,
     "metadata": {},
     "output_type": "execute_result"
    }
   ],
   "source": [
    "walk_trips.shape"
   ]
  },
  {
   "cell_type": "code",
   "execution_count": null,
   "id": "30300fb4-ac11-4597-93b4-6002bbf1b79b",
   "metadata": {},
   "outputs": [],
   "source": [
    "%%time\n",
    "# RUN ONCE\n",
    "save_path = \"../data/los_here\"\n",
    "batch_size = 200\n",
    "process_trips_los(walk_trips, batch_size, save_path, \"walk_trips_los\")"
   ]
  },
  {
   "cell_type": "code",
   "execution_count": 75,
   "id": "8569446f-b894-4848-b6ce-9964d8cfd5c5",
   "metadata": {},
   "outputs": [],
   "source": [
    "# THIS WILL RETURN ERROR\n",
    "# # ApiError: 429, Too Many Requests, {\"error\":\"Too Many Requests\",\"error_description\":\"Rate limit for this service has been reached\"}\n",
    "# trip_los = trips.apply(lambda x: get_trip_los(x), axis=1)\n",
    "# trip_los.shape"
   ]
  }
 ],
 "metadata": {
  "kernelspec": {
   "display_name": "Python 3",
   "language": "python",
   "name": "python3"
  },
  "language_info": {
   "codemirror_mode": {
    "name": "ipython",
    "version": 3
   },
   "file_extension": ".py",
   "mimetype": "text/x-python",
   "name": "python",
   "nbconvert_exporter": "python",
   "pygments_lexer": "ipython3",
   "version": "3.8.5"
  }
 },
 "nbformat": 4,
 "nbformat_minor": 5
}
