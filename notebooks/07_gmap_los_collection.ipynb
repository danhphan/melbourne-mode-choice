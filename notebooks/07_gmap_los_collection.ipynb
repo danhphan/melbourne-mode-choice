{
 "cells": [
  {
   "cell_type": "markdown",
   "id": "c7debf7d-5e42-4ea3-95d1-9448c01b310b",
   "metadata": {},
   "source": [
    "### README: This notebook uses Google Map Direction APIs to collect the level of service for vista trips with following travel modes:\n",
    "* transit\n",
    "\n",
    "Note that we can also collect for other modes, but due to quote limitation, we only collect for `transit`. For other modes, we will use HERE APIs"
   ]
  },
  {
   "cell_type": "code",
   "execution_count": 1,
   "id": "9e7101b8-9e21-41a8-95e6-61be576b3080",
   "metadata": {},
   "outputs": [],
   "source": [
    "%load_ext autoreload\n",
    "%autoreload 2"
   ]
  },
  {
   "cell_type": "code",
   "execution_count": 27,
   "id": "6ef54e57-243e-4c7b-8f50-07c209528ef9",
   "metadata": {},
   "outputs": [],
   "source": [
    "import json, os, time\n",
    "import numpy as np\n",
    "import pandas as pd\n",
    "import googlemaps\n",
    "from datetime import datetime, timedelta"
   ]
  },
  {
   "cell_type": "code",
   "execution_count": 3,
   "id": "11354f42-519d-462f-92d4-2a57e42704b4",
   "metadata": {},
   "outputs": [],
   "source": [
    "# Setup google api key\n",
    "GCP_MAP_KEY = os.environ.get('GCP_ELEVATION_API')\n",
    "gmaps = googlemaps.Client(key=GCP_MAP_KEY)"
   ]
  },
  {
   "cell_type": "markdown",
   "id": "325f8610-16af-4dd4-9535-8f65826b7785",
   "metadata": {},
   "source": [
    "### Load trips data"
   ]
  },
  {
   "cell_type": "code",
   "execution_count": 4,
   "id": "65c26f2d-b303-4556-be3f-d6ef3272ed3f",
   "metadata": {},
   "outputs": [
    {
     "data": {
      "text/plain": [
       "(36287, 111)"
      ]
     },
     "execution_count": 4,
     "metadata": {},
     "output_type": "execute_result"
    }
   ],
   "source": [
    "trips = pd.read_csv(\"../data/processed/trip_od_full.csv\", low_memory=False)\n",
    "trips.shape"
   ]
  },
  {
   "cell_type": "code",
   "execution_count": 5,
   "id": "7f9e3592-a13c-422d-9479-3dc8f4caa129",
   "metadata": {},
   "outputs": [
    {
     "data": {
      "text/plain": [
       "(36287, 21)"
      ]
     },
     "execution_count": 5,
     "metadata": {},
     "output_type": "execute_result"
    }
   ],
   "source": [
    "# Use relavent columns\n",
    "cols = ['TRIPID', 'Mode', 'LINKMODE', 'TRIPPURP', 'DESTPURP1', 'TRIPTIME', 'TRAVTIME',\n",
    "        'TRAVDOW', 'TRAVDATE', 'TRAVMONTH', 'TRAVYEAR', 'STARTHOUR', 'STARTIME', \n",
    "        'HomeSA1', 'CUMDIST','ORIGSA1', 'DESTSA1', 'ORIG_X', 'ORIG_Y', 'DEST_X', 'DEST_Y']\n",
    "trips = trips[cols]\n",
    "trips.shape"
   ]
  },
  {
   "cell_type": "markdown",
   "id": "49ac5598-5f09-474f-b7e5-10e0c483ed96",
   "metadata": {},
   "source": [
    "### Get trips departure time"
   ]
  },
  {
   "cell_type": "code",
   "execution_count": 6,
   "id": "519599c0-5fa4-4b19-91a5-38f3bb4da033",
   "metadata": {},
   "outputs": [],
   "source": [
    "# Get detailed start time of trips\n",
    "trips['STARTMIN'] = trips['STARTIME'] % 60\n",
    "trips['START_DETAIL_TIME'] = (trips['TRAVDATE'].astype(str) + \" \" + trips['STARTHOUR'].astype(str) \n",
    "                              + \":\" + trips['STARTMIN'].astype(str))"
   ]
  },
  {
   "cell_type": "code",
   "execution_count": 7,
   "id": "3f849b2e-d54d-407f-a881-44862c14f16a",
   "metadata": {},
   "outputs": [
    {
     "data": {
      "text/html": [
       "<div>\n",
       "<style scoped>\n",
       "    .dataframe tbody tr th:only-of-type {\n",
       "        vertical-align: middle;\n",
       "    }\n",
       "\n",
       "    .dataframe tbody tr th {\n",
       "        vertical-align: top;\n",
       "    }\n",
       "\n",
       "    .dataframe thead th {\n",
       "        text-align: right;\n",
       "    }\n",
       "</style>\n",
       "<table border=\"1\" class=\"dataframe\">\n",
       "  <thead>\n",
       "    <tr style=\"text-align: right;\">\n",
       "      <th></th>\n",
       "      <th>0</th>\n",
       "      <th>1</th>\n",
       "      <th>2</th>\n",
       "      <th>3</th>\n",
       "      <th>4</th>\n",
       "    </tr>\n",
       "  </thead>\n",
       "  <tbody>\n",
       "    <tr>\n",
       "      <th>TRIPID</th>\n",
       "      <td>Y12H0000107P01T01</td>\n",
       "      <td>Y12H0000107P01T02</td>\n",
       "      <td>Y12H0000107P01T03</td>\n",
       "      <td>Y12H0000107P01T04</td>\n",
       "      <td>Y12H0000107P02T01</td>\n",
       "    </tr>\n",
       "    <tr>\n",
       "      <th>Mode</th>\n",
       "      <td>Car</td>\n",
       "      <td>Car</td>\n",
       "      <td>Walk</td>\n",
       "      <td>Walk</td>\n",
       "      <td>Car</td>\n",
       "    </tr>\n",
       "    <tr>\n",
       "      <th>LINKMODE</th>\n",
       "      <td>Vehicle Driver</td>\n",
       "      <td>Vehicle Driver</td>\n",
       "      <td>Walking</td>\n",
       "      <td>Walking</td>\n",
       "      <td>Vehicle Passenger</td>\n",
       "    </tr>\n",
       "    <tr>\n",
       "      <th>TRIPPURP</th>\n",
       "      <td>Social</td>\n",
       "      <td>Social</td>\n",
       "      <td>Recreational</td>\n",
       "      <td>Recreational</td>\n",
       "      <td>Social</td>\n",
       "    </tr>\n",
       "    <tr>\n",
       "      <th>DESTPURP1</th>\n",
       "      <td>Social</td>\n",
       "      <td>At or Go Home</td>\n",
       "      <td>Recreational</td>\n",
       "      <td>At or Go Home</td>\n",
       "      <td>Social</td>\n",
       "    </tr>\n",
       "    <tr>\n",
       "      <th>TRIPTIME</th>\n",
       "      <td>20</td>\n",
       "      <td>10</td>\n",
       "      <td>30</td>\n",
       "      <td>30</td>\n",
       "      <td>20</td>\n",
       "    </tr>\n",
       "    <tr>\n",
       "      <th>TRAVTIME</th>\n",
       "      <td>20</td>\n",
       "      <td>10</td>\n",
       "      <td>30</td>\n",
       "      <td>30</td>\n",
       "      <td>20</td>\n",
       "    </tr>\n",
       "    <tr>\n",
       "      <th>TRAVDOW</th>\n",
       "      <td>Sunday</td>\n",
       "      <td>Sunday</td>\n",
       "      <td>Sunday</td>\n",
       "      <td>Sunday</td>\n",
       "      <td>Sunday</td>\n",
       "    </tr>\n",
       "    <tr>\n",
       "      <th>TRAVDATE</th>\n",
       "      <td>27/05/2012</td>\n",
       "      <td>27/05/2012</td>\n",
       "      <td>27/05/2012</td>\n",
       "      <td>27/05/2012</td>\n",
       "      <td>27/05/2012</td>\n",
       "    </tr>\n",
       "    <tr>\n",
       "      <th>TRAVMONTH</th>\n",
       "      <td>May</td>\n",
       "      <td>May</td>\n",
       "      <td>May</td>\n",
       "      <td>May</td>\n",
       "      <td>May</td>\n",
       "    </tr>\n",
       "    <tr>\n",
       "      <th>TRAVYEAR</th>\n",
       "      <td>2012</td>\n",
       "      <td>2012</td>\n",
       "      <td>2012</td>\n",
       "      <td>2012</td>\n",
       "      <td>2012</td>\n",
       "    </tr>\n",
       "    <tr>\n",
       "      <th>STARTHOUR</th>\n",
       "      <td>10</td>\n",
       "      <td>12</td>\n",
       "      <td>13</td>\n",
       "      <td>14</td>\n",
       "      <td>10</td>\n",
       "    </tr>\n",
       "    <tr>\n",
       "      <th>STARTIME</th>\n",
       "      <td>630</td>\n",
       "      <td>750</td>\n",
       "      <td>810</td>\n",
       "      <td>855</td>\n",
       "      <td>630</td>\n",
       "    </tr>\n",
       "    <tr>\n",
       "      <th>HomeSA1</th>\n",
       "      <td>20904122028</td>\n",
       "      <td>20904122028</td>\n",
       "      <td>20904122028</td>\n",
       "      <td>20904122028</td>\n",
       "      <td>20904122028</td>\n",
       "    </tr>\n",
       "    <tr>\n",
       "      <th>CUMDIST</th>\n",
       "      <td>2.6</td>\n",
       "      <td>2.6</td>\n",
       "      <td>3.23</td>\n",
       "      <td>3.23</td>\n",
       "      <td>2.6</td>\n",
       "    </tr>\n",
       "    <tr>\n",
       "      <th>ORIGSA1</th>\n",
       "      <td>20904122028</td>\n",
       "      <td>20904122002</td>\n",
       "      <td>20904122028</td>\n",
       "      <td>20904122031</td>\n",
       "      <td>20904122028</td>\n",
       "    </tr>\n",
       "    <tr>\n",
       "      <th>DESTSA1</th>\n",
       "      <td>20904122002</td>\n",
       "      <td>20904122028</td>\n",
       "      <td>20904122031</td>\n",
       "      <td>20904122028</td>\n",
       "      <td>20904122002</td>\n",
       "    </tr>\n",
       "    <tr>\n",
       "      <th>ORIG_X</th>\n",
       "      <td>145.087</td>\n",
       "      <td>145.072</td>\n",
       "      <td>145.087</td>\n",
       "      <td>145.062</td>\n",
       "      <td>145.087</td>\n",
       "    </tr>\n",
       "    <tr>\n",
       "      <th>ORIG_Y</th>\n",
       "      <td>-37.6597</td>\n",
       "      <td>-37.6515</td>\n",
       "      <td>-37.6597</td>\n",
       "      <td>-37.665</td>\n",
       "      <td>-37.6597</td>\n",
       "    </tr>\n",
       "    <tr>\n",
       "      <th>DEST_X</th>\n",
       "      <td>145.072</td>\n",
       "      <td>145.087</td>\n",
       "      <td>145.062</td>\n",
       "      <td>145.087</td>\n",
       "      <td>145.072</td>\n",
       "    </tr>\n",
       "    <tr>\n",
       "      <th>DEST_Y</th>\n",
       "      <td>-37.6515</td>\n",
       "      <td>-37.6597</td>\n",
       "      <td>-37.665</td>\n",
       "      <td>-37.6597</td>\n",
       "      <td>-37.6515</td>\n",
       "    </tr>\n",
       "    <tr>\n",
       "      <th>STARTMIN</th>\n",
       "      <td>30</td>\n",
       "      <td>30</td>\n",
       "      <td>30</td>\n",
       "      <td>15</td>\n",
       "      <td>30</td>\n",
       "    </tr>\n",
       "    <tr>\n",
       "      <th>START_DETAIL_TIME</th>\n",
       "      <td>27/05/2012 10:30</td>\n",
       "      <td>27/05/2012 12:30</td>\n",
       "      <td>27/05/2012 13:30</td>\n",
       "      <td>27/05/2012 14:15</td>\n",
       "      <td>27/05/2012 10:30</td>\n",
       "    </tr>\n",
       "  </tbody>\n",
       "</table>\n",
       "</div>"
      ],
      "text/plain": [
       "                                   0                  1                  2  \\\n",
       "TRIPID             Y12H0000107P01T01  Y12H0000107P01T02  Y12H0000107P01T03   \n",
       "Mode                             Car                Car               Walk   \n",
       "LINKMODE              Vehicle Driver     Vehicle Driver            Walking   \n",
       "TRIPPURP                      Social             Social       Recreational   \n",
       "DESTPURP1                     Social      At or Go Home       Recreational   \n",
       "TRIPTIME                          20                 10                 30   \n",
       "TRAVTIME                          20                 10                 30   \n",
       "TRAVDOW                       Sunday             Sunday             Sunday   \n",
       "TRAVDATE                  27/05/2012         27/05/2012         27/05/2012   \n",
       "TRAVMONTH                        May                May                May   \n",
       "TRAVYEAR                        2012               2012               2012   \n",
       "STARTHOUR                         10                 12                 13   \n",
       "STARTIME                         630                750                810   \n",
       "HomeSA1                  20904122028        20904122028        20904122028   \n",
       "CUMDIST                          2.6                2.6               3.23   \n",
       "ORIGSA1                  20904122028        20904122002        20904122028   \n",
       "DESTSA1                  20904122002        20904122028        20904122031   \n",
       "ORIG_X                       145.087            145.072            145.087   \n",
       "ORIG_Y                      -37.6597           -37.6515           -37.6597   \n",
       "DEST_X                       145.072            145.087            145.062   \n",
       "DEST_Y                      -37.6515           -37.6597            -37.665   \n",
       "STARTMIN                          30                 30                 30   \n",
       "START_DETAIL_TIME   27/05/2012 10:30   27/05/2012 12:30   27/05/2012 13:30   \n",
       "\n",
       "                                   3                  4  \n",
       "TRIPID             Y12H0000107P01T04  Y12H0000107P02T01  \n",
       "Mode                            Walk                Car  \n",
       "LINKMODE                     Walking  Vehicle Passenger  \n",
       "TRIPPURP                Recreational             Social  \n",
       "DESTPURP1              At or Go Home             Social  \n",
       "TRIPTIME                          30                 20  \n",
       "TRAVTIME                          30                 20  \n",
       "TRAVDOW                       Sunday             Sunday  \n",
       "TRAVDATE                  27/05/2012         27/05/2012  \n",
       "TRAVMONTH                        May                May  \n",
       "TRAVYEAR                        2012               2012  \n",
       "STARTHOUR                         14                 10  \n",
       "STARTIME                         855                630  \n",
       "HomeSA1                  20904122028        20904122028  \n",
       "CUMDIST                         3.23                2.6  \n",
       "ORIGSA1                  20904122031        20904122028  \n",
       "DESTSA1                  20904122028        20904122002  \n",
       "ORIG_X                       145.062            145.087  \n",
       "ORIG_Y                       -37.665           -37.6597  \n",
       "DEST_X                       145.087            145.072  \n",
       "DEST_Y                      -37.6597           -37.6515  \n",
       "STARTMIN                          15                 30  \n",
       "START_DETAIL_TIME   27/05/2012 14:15   27/05/2012 10:30  "
      ]
     },
     "execution_count": 7,
     "metadata": {},
     "output_type": "execute_result"
    }
   ],
   "source": [
    "trips.head().T"
   ]
  },
  {
   "cell_type": "code",
   "execution_count": null,
   "id": "944afba4-fd5e-42e8-98b4-be919614fc25",
   "metadata": {},
   "outputs": [],
   "source": []
  },
  {
   "cell_type": "markdown",
   "id": "f6896aae-9ed7-49b4-9435-f367da738e94",
   "metadata": {},
   "source": [
    "### Collect Level of Service from Google APIs"
   ]
  },
  {
   "cell_type": "code",
   "execution_count": 91,
   "id": "e6947ccb-2f7b-411e-8b68-486ce69e48d2",
   "metadata": {},
   "outputs": [
    {
     "name": "stdout",
     "output_type": "stream",
     "text": [
      "2012-05-27 23:30:00\n"
     ]
    }
   ],
   "source": [
    "def get_datetime(str_time):\n",
    "    return datetime.strptime(str_time,'%d/%m/%Y %H:%M')\n",
    "\n",
    "# Test\n",
    "print(get_datetime(\"27/05/2012 23:30\"))"
   ]
  },
  {
   "cell_type": "code",
   "execution_count": 92,
   "id": "ba72c314-6d90-4ef1-a0bb-700f96a54837",
   "metadata": {},
   "outputs": [],
   "source": [
    "def get_transit_future_departure_time(departure_time):\n",
    "    \"\"\"\n",
    "    This function will get the transit future time for the same date of week of trip departure time,\n",
    "    but in 2 weeks in futures.\n",
    "    \"\"\"\n",
    "    tripday = get_datetime(departure_time)\n",
    "    today = datetime.now()\n",
    "    monday = today - timedelta(days=today.weekday())\n",
    "    # Get same week day of the trip date\n",
    "    sameday_thisweek = monday + timedelta(tripday.weekday())\n",
    "    sameday_thisweek = sameday_thisweek.replace(hour=tripday.hour, minute=tripday.minute, second=tripday.second)\n",
    "    # Get same day but in 2 weeks in future\n",
    "    sameday_next2week = sameday_thisweek + timedelta(days=2*7) # Next 2 weeks \n",
    "    return sameday_next2week"
   ]
  },
  {
   "cell_type": "code",
   "execution_count": 96,
   "id": "e0d4a2d3-f4ab-4763-8235-cf92d8b21a81",
   "metadata": {},
   "outputs": [
    {
     "data": {
      "text/plain": [
       "datetime.datetime(2021, 9, 2, 23, 30, 0, 155056)"
      ]
     },
     "execution_count": 96,
     "metadata": {},
     "output_type": "execute_result"
    }
   ],
   "source": [
    "# Test\n",
    "dep_time = \"06/08/2015 23:30\"\n",
    "get_transit_future_departure_time(dep_time)"
   ]
  },
  {
   "cell_type": "code",
   "execution_count": 97,
   "id": "58d66398-5674-4606-877b-2575b3792f32",
   "metadata": {},
   "outputs": [
    {
     "data": {
      "text/plain": [
       "0    2021-09-05 10:30:00.426789\n",
       "1    2021-09-05 12:30:00.426812\n",
       "2    2021-09-05 13:30:00.426826\n",
       "3    2021-09-05 14:15:00.426839\n",
       "4    2021-09-05 10:30:00.426851\n",
       "5    2021-09-05 12:30:00.426863\n",
       "6    2021-09-05 13:30:00.426875\n",
       "7    2021-09-05 14:15:00.426887\n",
       "8    2021-09-05 10:30:00.426898\n",
       "9    2021-09-05 12:30:00.426910\n",
       "10   2021-09-05 13:30:00.426921\n",
       "11   2021-09-05 14:15:00.426933\n",
       "12   2021-09-02 05:45:00.426945\n",
       "13   2021-09-02 14:40:00.426956\n",
       "14   2021-09-02 15:31:00.426968\n",
       "15   2021-09-02 16:00:00.426979\n",
       "16   2021-09-02 16:35:00.426991\n",
       "17   2021-08-31 09:45:00.427003\n",
       "18   2021-08-31 13:00:00.427015\n",
       "19   2021-08-31 15:00:00.427026\n",
       "Name: START_DETAIL_TIME, dtype: datetime64[ns]"
      ]
     },
     "execution_count": 97,
     "metadata": {},
     "output_type": "execute_result"
    }
   ],
   "source": [
    "# Test with trips dataframe\n",
    "trips.head(20).START_DETAIL_TIME.apply(lambda x: get_transit_future_departure_time(x))"
   ]
  },
  {
   "cell_type": "code",
   "execution_count": null,
   "id": "36ec5730-8047-481e-ae3a-72ce5e0ddd26",
   "metadata": {},
   "outputs": [],
   "source": []
  },
  {
   "cell_type": "code",
   "execution_count": 22,
   "id": "894a7c5c-d7f1-434f-983b-065e8c4826ea",
   "metadata": {},
   "outputs": [
    {
     "name": "stdout",
     "output_type": "stream",
     "text": [
      "2012-05-27 23:30:00\n"
     ]
    }
   ],
   "source": [
    "def get_trip_los(trip):\n",
    "    time.sleep(0.3)\n",
    "    start_time = get_datetime(trip['START_DETAIL_TIME'])\n",
    "    orig = [trip.ORIG_Y, trip.ORIG_X]\n",
    "    dest = [trip.DEST_Y, trip.DEST_X]\n",
    "    (trip['TRANSIT_TIME'], trip['TRANSIT_LEN']) = collect_gmap_los(ls, orig, dest, start_time)\n",
    "    return trip"
   ]
  },
  {
   "cell_type": "code",
   "execution_count": 23,
   "id": "306688ae-adae-44e8-90a9-9983793392e7",
   "metadata": {},
   "outputs": [
    {
     "data": {
      "text/plain": [
       "Walk     17115\n",
       "Car      15764\n",
       "Train     1704\n",
       "Cycle     1704\n",
       "Name: Mode, dtype: int64"
      ]
     },
     "execution_count": 23,
     "metadata": {},
     "output_type": "execute_result"
    }
   ],
   "source": [
    "trips.Mode.value_counts()"
   ]
  },
  {
   "cell_type": "code",
   "execution_count": 24,
   "id": "092102b0-031e-4646-b62a-b513c5529f5e",
   "metadata": {
    "tags": []
   },
   "outputs": [
    {
     "data": {
      "text/plain": [
       "((17115, 23), (15764, 23), (1704, 23), (1704, 23), (36287, 23))"
      ]
     },
     "execution_count": 24,
     "metadata": {},
     "output_type": "execute_result"
    }
   ],
   "source": [
    "# Divide data into walk_trips and not_walk_trips for smaller APIs number of queries\n",
    "car_trips = trips[trips.Mode.isin(['Car'])]\n",
    "walk_trips = trips[trips.Mode.isin(['Walk'])]\n",
    "train_trips = trips[trips.Mode.isin(['Train'])]\n",
    "cycle_trips = trips[trips.Mode.isin(['Cycle'])]\n",
    "assert len(trips) == len(car_trips) + len(walk_trips) + len(train_trips) + len(cycle_trips)\n",
    "walk_trips.shape, car_trips.shape, train_trips.shape, cycle_trips.shape, trips.shape"
   ]
  },
  {
   "cell_type": "code",
   "execution_count": 36,
   "id": "f835cfc2-e78c-4130-ab08-611b3469876b",
   "metadata": {},
   "outputs": [],
   "source": [
    "# Use batch processing as limitation of HERE service\n",
    "# ApiError: 429, Too Many Requests, {\"error\":\"Too Many Requests\",\"error_description\":\"Rate limit for this service has been reached\"}\n",
    "\n",
    "def process_trips_los(trips_df, batch_size, save_path, df_name):\n",
    "    \"\"\"\n",
    "    Process trips and get los from HERE APIs\n",
    "    Parameters\n",
    "        trips_df: trips dataframe\n",
    "        batch_size: process in batch due to quota limitation of HERE APIs\n",
    "        save_path: where to save collected batch files\n",
    "    \"\"\"\n",
    "    batch_idxs = np.arange(len(trips_df)) // batch_size\n",
    "    for gr, df in trips_df.groupby(batch_idxs):        \n",
    "        trip_los = df.apply(lambda x: get_trip_los(x), axis=1)\n",
    "        trip_los.to_csv(f\"{save_path}/{df_name}_{gr}.csv\")\n",
    "        print(f\"Finished batch {gr+1}\", df.shape, trip_los.shape)\n",
    "        time.sleep(5)\n",
    "        \n",
    "        \n",
    "def join_trips_los(trips_len, batch_size, save_path, df_name):\n",
    "    batch_idxs = np.arange(trips_len // batch_size + 1)\n",
    "    trips = []\n",
    "    for idx in batch_idxs:\n",
    "        trip_los = pd.read_csv(f\"{save_path}/{df_name}_{idx}.csv\")\n",
    "        trips.append(trip_los)\n",
    "    return pd.concat(trips)"
   ]
  },
  {
   "cell_type": "code",
   "execution_count": 29,
   "id": "27dcbed1-331a-4a8a-8799-241e81dd4eda",
   "metadata": {},
   "outputs": [
    {
     "name": "stdout",
     "output_type": "stream",
     "text": [
      "Finished batch 1 (200, 23) (200, 29)\n",
      "Finished batch 2 (200, 23) (200, 29)\n",
      "Finished batch 3 (200, 23) (200, 29)\n",
      "Finished batch 4 (200, 23) (200, 29)\n",
      "Finished batch 5 (200, 23) (200, 29)\n",
      "Finished batch 6 (200, 23) (200, 29)\n",
      "Finished batch 7 (200, 23) (200, 29)\n",
      "Finished batch 8 (200, 23) (200, 29)\n",
      "Finished batch 9 (104, 23) (104, 29)\n",
      "CPU times: user 2min 23s, sys: 3.82 s, total: 2min 27s\n",
      "Wall time: 48min 7s\n"
     ]
    }
   ],
   "source": [
    "%%time\n",
    "# RUN ONCE\n",
    "save_path = \"../data/los_here\"\n",
    "batch_size = 200\n",
    "process_trips_los(train_trips, batch_size, save_path, \"train_trips_los\")"
   ]
  },
  {
   "cell_type": "code",
   "execution_count": 14,
   "id": "bd84a084-778a-4f34-9dab-f990d9376a7b",
   "metadata": {},
   "outputs": [
    {
     "name": "stdout",
     "output_type": "stream",
     "text": [
      "Finished batch 1 (200, 23) (200, 29)\n",
      "Finished batch 2 (200, 23) (200, 29)\n",
      "Finished batch 3 (200, 23) (200, 29)\n",
      "Finished batch 4 (200, 23) (200, 29)\n",
      "Finished batch 5 (200, 23) (200, 29)\n",
      "Finished batch 6 (200, 23) (200, 29)\n",
      "Finished batch 7 (200, 23) (200, 29)\n",
      "Finished batch 8 (200, 23) (200, 29)\n",
      "Finished batch 9 (104, 23) (104, 29)\n",
      "CPU times: user 2min 36s, sys: 3.58 s, total: 2min 39s\n",
      "Wall time: 47min 3s\n"
     ]
    }
   ],
   "source": [
    "%%time\n",
    "# RUN ONCE\n",
    "save_path = \"../data/los_here\"\n",
    "batch_size = 200\n",
    "process_trips_los(cycle_trips, batch_size, save_path, \"cycle_trips_los\")"
   ]
  },
  {
   "cell_type": "code",
   "execution_count": 27,
   "id": "217666b3-d9b3-410a-b915-3d113943bc29",
   "metadata": {},
   "outputs": [
    {
     "data": {
      "text/plain": [
       "(17115, 23)"
      ]
     },
     "execution_count": 27,
     "metadata": {},
     "output_type": "execute_result"
    }
   ],
   "source": [
    "walk_trips.shape"
   ]
  },
  {
   "cell_type": "code",
   "execution_count": 75,
   "id": "8569446f-b894-4848-b6ce-9964d8cfd5c5",
   "metadata": {},
   "outputs": [],
   "source": [
    "# THIS WILL RETURN ERROR\n",
    "# # ApiError: 429, Too Many Requests, {\"error\":\"Too Many Requests\",\"error_description\":\"Rate limit for this service has been reached\"}\n",
    "# trip_los = trips.apply(lambda x: get_trip_los(x), axis=1)\n",
    "# trip_los.shapefull_trips_los"
   ]
  },
  {
   "cell_type": "markdown",
   "id": "a4acabe5-279a-4113-8041-c81e94227376",
   "metadata": {},
   "source": [
    "### Join batch files together"
   ]
  },
  {
   "cell_type": "code",
   "execution_count": 39,
   "id": "e8a96cf0-5fc4-4de9-aa6d-aa9f276828a0",
   "metadata": {},
   "outputs": [
    {
     "data": {
      "text/plain": [
       "((1704, 30), (15764, 30), (17115, 30), (1704, 30))"
      ]
     },
     "execution_count": 39,
     "metadata": {},
     "output_type": "execute_result"
    }
   ],
   "source": [
    "save_path = \"../data/los_here\"\n",
    "batch_size = 200\n",
    "train_trips_los = join_trips_los(len(train_trips), batch_size, save_path, \"train_trips_los\")\n",
    "car_trips_los = join_trips_los(len(car_trips), batch_size, save_path, \"car_trips_los\")\n",
    "walk_trips_los = join_trips_los(len(walk_trips), batch_size, save_path, \"walk_trips_los\")\n",
    "cycle_trips_los = join_trips_los(len(cycle_trips), batch_size, save_path, \"cycle_trips_los\")\n",
    "train_trips_los.shape, car_trips_los.shape, walk_trips_los.shape, cycle_trips_los.shape"
   ]
  },
  {
   "cell_type": "code",
   "execution_count": 69,
   "id": "5767a8b4-c0df-412a-8b1c-6787b0d43bd9",
   "metadata": {},
   "outputs": [
    {
     "data": {
      "text/plain": [
       "(36287, 30)"
      ]
     },
     "execution_count": 69,
     "metadata": {},
     "output_type": "execute_result"
    }
   ],
   "source": [
    "full_trips_los = pd.concat([train_trips_los, car_trips_los, walk_trips_los, cycle_trips_los])\n",
    "full_trips_los.shape"
   ]
  },
  {
   "cell_type": "code",
   "execution_count": 70,
   "id": "b4fc09fc-927e-47bd-a5d8-23255c4688a6",
   "metadata": {},
   "outputs": [
    {
     "data": {
      "text/plain": [
       "(32904, 29)"
      ]
     },
     "execution_count": 70,
     "metadata": {},
     "output_type": "execute_result"
    }
   ],
   "source": [
    "# Remove trips with CAR_TIME == 0\n",
    "full_trips_los = full_trips_los[(full_trips_los.CAR_TIME != 0) & (full_trips_los.WALK_TIME != 0)]\n",
    "full_trips_los.drop(columns=[\"Unnamed: 0\"], inplace=True)\n",
    "full_trips_los.shape"
   ]
  },
  {
   "cell_type": "code",
   "execution_count": 71,
   "id": "05025b69-303b-459e-a8f9-00e134f020f0",
   "metadata": {},
   "outputs": [
    {
     "data": {
      "text/plain": [
       "Car      15448\n",
       "Walk     14115\n",
       "Train     1695\n",
       "Cycle     1646\n",
       "Name: Mode, dtype: int64"
      ]
     },
     "execution_count": 71,
     "metadata": {},
     "output_type": "execute_result"
    }
   ],
   "source": [
    "full_trips_los.Mode.value_counts()"
   ]
  },
  {
   "cell_type": "code",
   "execution_count": 72,
   "id": "a1f7d60c-5e36-44c1-9d6f-7e5988f877a1",
   "metadata": {},
   "outputs": [
    {
     "data": {
      "text/html": [
       "<div>\n",
       "<style scoped>\n",
       "    .dataframe tbody tr th:only-of-type {\n",
       "        vertical-align: middle;\n",
       "    }\n",
       "\n",
       "    .dataframe tbody tr th {\n",
       "        vertical-align: top;\n",
       "    }\n",
       "\n",
       "    .dataframe thead th {\n",
       "        text-align: right;\n",
       "    }\n",
       "</style>\n",
       "<table border=\"1\" class=\"dataframe\">\n",
       "  <thead>\n",
       "    <tr style=\"text-align: right;\">\n",
       "      <th></th>\n",
       "      <th>TRIPID</th>\n",
       "      <th>Mode</th>\n",
       "      <th>LINKMODE</th>\n",
       "      <th>TRIPPURP</th>\n",
       "      <th>DESTPURP1</th>\n",
       "      <th>TRIPTIME</th>\n",
       "      <th>TRAVTIME</th>\n",
       "      <th>TRAVDOW</th>\n",
       "      <th>TRAVDATE</th>\n",
       "      <th>TRAVMONTH</th>\n",
       "      <th>...</th>\n",
       "      <th>DEST_X</th>\n",
       "      <th>DEST_Y</th>\n",
       "      <th>STARTMIN</th>\n",
       "      <th>START_DETAIL_TIME</th>\n",
       "      <th>CAR_TIME</th>\n",
       "      <th>CAR_LEN</th>\n",
       "      <th>CYCLE_TIME</th>\n",
       "      <th>CYCLE_LEN</th>\n",
       "      <th>WALK_TIME</th>\n",
       "      <th>WALK_LEN</th>\n",
       "    </tr>\n",
       "  </thead>\n",
       "  <tbody>\n",
       "    <tr>\n",
       "      <th>0</th>\n",
       "      <td>Y12H0000303P01T01</td>\n",
       "      <td>Train</td>\n",
       "      <td>Train</td>\n",
       "      <td>Work</td>\n",
       "      <td>Work Related</td>\n",
       "      <td>30</td>\n",
       "      <td>30</td>\n",
       "      <td>Wednesday</td>\n",
       "      <td>23/05/2012</td>\n",
       "      <td>May</td>\n",
       "      <td>...</td>\n",
       "      <td>144.997645</td>\n",
       "      <td>-37.831626</td>\n",
       "      <td>10</td>\n",
       "      <td>23/05/2012 7:10</td>\n",
       "      <td>747</td>\n",
       "      <td>9336</td>\n",
       "      <td>2295</td>\n",
       "      <td>9205</td>\n",
       "      <td>8867</td>\n",
       "      <td>8733</td>\n",
       "    </tr>\n",
       "    <tr>\n",
       "      <th>1</th>\n",
       "      <td>Y12H0000303P01T02</td>\n",
       "      <td>Train</td>\n",
       "      <td>Train</td>\n",
       "      <td>Work</td>\n",
       "      <td>At or Go Home</td>\n",
       "      <td>40</td>\n",
       "      <td>35</td>\n",
       "      <td>Wednesday</td>\n",
       "      <td>23/05/2012</td>\n",
       "      <td>May</td>\n",
       "      <td>...</td>\n",
       "      <td>145.061520</td>\n",
       "      <td>-37.872402</td>\n",
       "      <td>0</td>\n",
       "      <td>23/05/2012 14:0</td>\n",
       "      <td>686</td>\n",
       "      <td>10328</td>\n",
       "      <td>2330</td>\n",
       "      <td>9192</td>\n",
       "      <td>8869</td>\n",
       "      <td>8782</td>\n",
       "    </tr>\n",
       "    <tr>\n",
       "      <th>2</th>\n",
       "      <td>Y12H0000312P01T01</td>\n",
       "      <td>Train</td>\n",
       "      <td>Train</td>\n",
       "      <td>Work</td>\n",
       "      <td>Work Related</td>\n",
       "      <td>55</td>\n",
       "      <td>47</td>\n",
       "      <td>Friday</td>\n",
       "      <td>25/05/2012</td>\n",
       "      <td>May</td>\n",
       "      <td>...</td>\n",
       "      <td>144.963048</td>\n",
       "      <td>-37.817061</td>\n",
       "      <td>0</td>\n",
       "      <td>25/05/2012 8:0</td>\n",
       "      <td>846</td>\n",
       "      <td>13118</td>\n",
       "      <td>3174</td>\n",
       "      <td>12544</td>\n",
       "      <td>12363</td>\n",
       "      <td>12250</td>\n",
       "    </tr>\n",
       "    <tr>\n",
       "      <th>3</th>\n",
       "      <td>Y12H0000312P01T04</td>\n",
       "      <td>Train</td>\n",
       "      <td>Train</td>\n",
       "      <td>Work</td>\n",
       "      <td>At or Go Home</td>\n",
       "      <td>65</td>\n",
       "      <td>55</td>\n",
       "      <td>Friday</td>\n",
       "      <td>25/05/2012</td>\n",
       "      <td>May</td>\n",
       "      <td>...</td>\n",
       "      <td>145.061520</td>\n",
       "      <td>-37.872402</td>\n",
       "      <td>15</td>\n",
       "      <td>25/05/2012 18:15</td>\n",
       "      <td>871</td>\n",
       "      <td>13612</td>\n",
       "      <td>87</td>\n",
       "      <td>57</td>\n",
       "      <td>12388</td>\n",
       "      <td>12250</td>\n",
       "    </tr>\n",
       "    <tr>\n",
       "      <th>4</th>\n",
       "      <td>Y12H0000326P03T01</td>\n",
       "      <td>Train</td>\n",
       "      <td>Train</td>\n",
       "      <td>Work</td>\n",
       "      <td>Work Related</td>\n",
       "      <td>55</td>\n",
       "      <td>48</td>\n",
       "      <td>Friday</td>\n",
       "      <td>25/05/2012</td>\n",
       "      <td>May</td>\n",
       "      <td>...</td>\n",
       "      <td>144.970239</td>\n",
       "      <td>-37.814414</td>\n",
       "      <td>10</td>\n",
       "      <td>25/05/2012 8:10</td>\n",
       "      <td>984</td>\n",
       "      <td>15354</td>\n",
       "      <td>3724</td>\n",
       "      <td>15021</td>\n",
       "      <td>14415</td>\n",
       "      <td>14272</td>\n",
       "    </tr>\n",
       "  </tbody>\n",
       "</table>\n",
       "<p>5 rows × 29 columns</p>\n",
       "</div>"
      ],
      "text/plain": [
       "              TRIPID   Mode LINKMODE TRIPPURP      DESTPURP1  TRIPTIME  \\\n",
       "0  Y12H0000303P01T01  Train    Train     Work   Work Related        30   \n",
       "1  Y12H0000303P01T02  Train    Train     Work  At or Go Home        40   \n",
       "2  Y12H0000312P01T01  Train    Train     Work   Work Related        55   \n",
       "3  Y12H0000312P01T04  Train    Train     Work  At or Go Home        65   \n",
       "4  Y12H0000326P03T01  Train    Train     Work   Work Related        55   \n",
       "\n",
       "   TRAVTIME    TRAVDOW    TRAVDATE TRAVMONTH  ...      DEST_X     DEST_Y  \\\n",
       "0        30  Wednesday  23/05/2012       May  ...  144.997645 -37.831626   \n",
       "1        35  Wednesday  23/05/2012       May  ...  145.061520 -37.872402   \n",
       "2        47     Friday  25/05/2012       May  ...  144.963048 -37.817061   \n",
       "3        55     Friday  25/05/2012       May  ...  145.061520 -37.872402   \n",
       "4        48     Friday  25/05/2012       May  ...  144.970239 -37.814414   \n",
       "\n",
       "   STARTMIN  START_DETAIL_TIME  CAR_TIME  CAR_LEN  CYCLE_TIME  CYCLE_LEN  \\\n",
       "0        10    23/05/2012 7:10       747     9336        2295       9205   \n",
       "1         0    23/05/2012 14:0       686    10328        2330       9192   \n",
       "2         0     25/05/2012 8:0       846    13118        3174      12544   \n",
       "3        15   25/05/2012 18:15       871    13612          87         57   \n",
       "4        10    25/05/2012 8:10       984    15354        3724      15021   \n",
       "\n",
       "   WALK_TIME  WALK_LEN  \n",
       "0       8867      8733  \n",
       "1       8869      8782  \n",
       "2      12363     12250  \n",
       "3      12388     12250  \n",
       "4      14415     14272  \n",
       "\n",
       "[5 rows x 29 columns]"
      ]
     },
     "execution_count": 72,
     "metadata": {},
     "output_type": "execute_result"
    }
   ],
   "source": [
    "full_trips_los.head()"
   ]
  },
  {
   "cell_type": "markdown",
   "id": "cd9fed53-c121-4315-967f-b251d181b87a",
   "metadata": {},
   "source": [
    "### Merge with trips_od to get full trip info"
   ]
  },
  {
   "cell_type": "code",
   "execution_count": 73,
   "id": "21f99e2c-3080-4dbd-af7e-233cebcb4ab4",
   "metadata": {},
   "outputs": [],
   "source": [
    "trips_od = pd.read_csv(\"../data/processed/trip_od_full.csv\", low_memory=False)\n",
    "cols = ['Mode', 'LINKMODE', 'TRIPPURP', 'DESTPURP1', 'TRIPTIME', 'TRAVTIME',\n",
    "        'TRAVDOW', 'TRAVDATE', 'TRAVMONTH', 'TRAVYEAR', 'STARTHOUR', 'STARTIME', \n",
    "        'HomeSA1', 'CUMDIST','ORIGSA1', 'DESTSA1', 'ORIG_X', 'ORIG_Y', 'DEST_X', 'DEST_Y']\n",
    "trips_od = trips_od.drop(columns=cols)"
   ]
  },
  {
   "cell_type": "code",
   "execution_count": 74,
   "id": "8c8158c3-6189-4573-9cd8-92e28547bc9f",
   "metadata": {},
   "outputs": [],
   "source": [
    "full_trips_los = full_trips_los.merge(trips_od, how='left', on='TRIPID')"
   ]
  },
  {
   "cell_type": "code",
   "execution_count": 78,
   "id": "217e099a-7e1b-43dd-ae28-8901935c75d8",
   "metadata": {},
   "outputs": [],
   "source": [
    "# Save trips with LoS for further analysis\n",
    "full_trips_los.to_csv(\"../data/processed/trip_here_los.csv\", index=False)"
   ]
  },
  {
   "cell_type": "code",
   "execution_count": 79,
   "id": "8d95e593-35bd-4b69-b99f-6d0619dff99d",
   "metadata": {},
   "outputs": [
    {
     "data": {
      "text/plain": [
       "['TRIPID',\n",
       " 'Mode',\n",
       " 'LINKMODE',\n",
       " 'TRIPPURP',\n",
       " 'DESTPURP1',\n",
       " 'TRIPTIME',\n",
       " 'TRAVTIME',\n",
       " 'TRAVDOW',\n",
       " 'TRAVDATE',\n",
       " 'TRAVMONTH',\n",
       " 'TRAVYEAR',\n",
       " 'STARTHOUR',\n",
       " 'STARTIME',\n",
       " 'HomeSA1',\n",
       " 'CUMDIST',\n",
       " 'ORIGSA1',\n",
       " 'DESTSA1',\n",
       " 'ORIG_X',\n",
       " 'ORIG_Y',\n",
       " 'DEST_X',\n",
       " 'DEST_Y',\n",
       " 'STARTMIN',\n",
       " 'START_DETAIL_TIME',\n",
       " 'CAR_TIME',\n",
       " 'CAR_LEN',\n",
       " 'CYCLE_TIME',\n",
       " 'CYCLE_LEN',\n",
       " 'WALK_TIME',\n",
       " 'WALK_LEN',\n",
       " 'PERSID',\n",
       " 'TRIPNO',\n",
       " 'ARRHOUR',\n",
       " 'ARRTIME',\n",
       " 'WAITIME',\n",
       " 'ORIGSA3',\n",
       " 'DESTSA3',\n",
       " 'ORIG_CENTROID',\n",
       " 'DEST_CENTROID',\n",
       " 'HHID',\n",
       " 'PERSNO',\n",
       " 'WEEK',\n",
       " 'MONTHOFBIRTH',\n",
       " 'YEAROFBIRTH',\n",
       " 'AGE',\n",
       " 'AGEGROUP',\n",
       " 'SEX',\n",
       " 'RELATIONSHIP',\n",
       " 'CARLICENCE',\n",
       " 'MBIKELICENCE',\n",
       " 'OTHERLICENCE',\n",
       " 'NOLICENCE',\n",
       " 'FULLTIMEWORK',\n",
       " 'PARTTIMEWORK',\n",
       " 'CASUALWORK',\n",
       " 'ANYWORK',\n",
       " 'STUDYING',\n",
       " 'ACTIVITIES',\n",
       " 'MAINACT',\n",
       " 'WORKTYPE',\n",
       " 'EMPTYPE',\n",
       " 'ANZSCO1',\n",
       " 'ANZSIC1',\n",
       " 'STARTPLACE',\n",
       " 'ANYSTOPS',\n",
       " 'NUMSTOPS',\n",
       " 'REASONCODE',\n",
       " 'MRTDOW',\n",
       " 'MRTINT',\n",
       " 'PERSINC',\n",
       " 'WHOFILLED',\n",
       " 'PROXY',\n",
       " 'FILLDOW',\n",
       " 'FILLLAG',\n",
       " 'ADDITIONALTRAVEL',\n",
       " 'NEWSTOP',\n",
       " 'DISABLEDTRANS',\n",
       " 'TAXITRANS',\n",
       " 'WHEELCHAIRTRANS',\n",
       " 'ACCESSTRANS',\n",
       " 'NONETRANS',\n",
       " 'NOTTOSAYTRANS',\n",
       " 'CYCLEDWORK',\n",
       " 'CYCLEDSHOPPING',\n",
       " 'CYCLEDEXERCISE',\n",
       " 'CYCLEDOTHER',\n",
       " 'NOCYCLED',\n",
       " 'HOMESLA',\n",
       " 'HOMELGA',\n",
       " 'HomeSA2',\n",
       " 'HomeSA3',\n",
       " 'HomeSA4',\n",
       " 'HomeRegion_ASGS',\n",
       " 'HomeSubRegion_ASGS',\n",
       " 'AgeGroup_RW',\n",
       " 'STOPS',\n",
       " 'ReportingPeriod',\n",
       " 'HHSIZE',\n",
       " 'VISITORS',\n",
       " 'DWELLTYPE',\n",
       " 'OWNDWELL',\n",
       " 'YEARSLIVED',\n",
       " 'MONTHSLIVED',\n",
       " 'ADULTBIKES',\n",
       " 'KIDSBIKES',\n",
       " 'TOTALBIKES',\n",
       " 'PHONE',\n",
       " 'CARS',\n",
       " 'FOURWDS',\n",
       " 'UTES',\n",
       " 'VANS',\n",
       " 'TRUCKS',\n",
       " 'MBIKES',\n",
       " 'OTHERVEHS',\n",
       " 'TOTALVEHS',\n",
       " 'HOMETAZ',\n",
       " 'YOUNGEST',\n",
       " 'AVEAGE',\n",
       " 'OLDEST',\n",
       " 'HHINC']"
      ]
     },
     "execution_count": 79,
     "metadata": {},
     "output_type": "execute_result"
    }
   ],
   "source": [
    "list(full_trips_los.columns)"
   ]
  },
  {
   "cell_type": "code",
   "execution_count": null,
   "id": "d506237b-d609-4edb-934d-4a5efcc5f702",
   "metadata": {},
   "outputs": [],
   "source": []
  }
 ],
 "metadata": {
  "kernelspec": {
   "display_name": "Python 3",
   "language": "python",
   "name": "python3"
  },
  "language_info": {
   "codemirror_mode": {
    "name": "ipython",
    "version": 3
   },
   "file_extension": ".py",
   "mimetype": "text/x-python",
   "name": "python",
   "nbconvert_exporter": "python",
   "pygments_lexer": "ipython3",
   "version": "3.8.5"
  }
 },
 "nbformat": 4,
 "nbformat_minor": 5
}
