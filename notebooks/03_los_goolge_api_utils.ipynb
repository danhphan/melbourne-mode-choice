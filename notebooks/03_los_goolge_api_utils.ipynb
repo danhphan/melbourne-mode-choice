{
 "cells": [
  {
   "cell_type": "markdown",
   "id": "structural-roberts",
   "metadata": {},
   "source": [
    "## OD Level of sevice from Google API\n",
    "This notebook download trip travel time for different mode (car, public transport, cycling, walking) using Google API\n",
    "\n",
    "https://cloud.google.com/maps-platform/pricing\n",
    "\n",
    "Get USD 200.00 in free usage for Maps, Routes, and Places every month => CAN GET AROUND 30k request/month FOR FREE\n",
    "\n",
    "\n",
    "* TIER 1: AUD 6.44525/1K requests FOR 0 - 100K requests/month\n",
    "* TIER 2: AUD 5.1562/1K requests  FOR 100K+ requests/month"
   ]
  },
  {
   "cell_type": "code",
   "execution_count": 1,
   "id": "stunning-payroll",
   "metadata": {},
   "outputs": [],
   "source": [
    "#export\n",
    "import os\n",
    "import googlemaps\n",
    "from datetime import datetime"
   ]
  },
  {
   "cell_type": "code",
   "execution_count": 2,
   "id": "suffering-rachel",
   "metadata": {},
   "outputs": [],
   "source": [
    "#export\n",
    "# Setup google elevation api key\n",
    "GCP_MAP_KEY = os.environ.get('GCP_ELEVATION_API')\n",
    "gmaps = googlemaps.Client(key=GCP_MAP_KEY)"
   ]
  },
  {
   "cell_type": "markdown",
   "id": "be80656e-c393-4e4c-b9d8-a5441b9569de",
   "metadata": {},
   "source": [
    "### Transit mode example"
   ]
  },
  {
   "cell_type": "code",
   "execution_count": 11,
   "id": "classical-dealing",
   "metadata": {},
   "outputs": [],
   "source": [
    "# Request directions via public transit\n",
    "now = datetime.now()\n",
    "directions_result = gmaps.directions(\"Monash University, Clayton, Vic\",\n",
    "                                     \"Melbourne Museum, Vic\",\n",
    "                                     mode=\"transit\",\n",
    "                                     departure_time=now)"
   ]
  },
  {
   "cell_type": "code",
   "execution_count": 13,
   "id": "787a8a5d-58fa-4dbc-8627-26f57476c8bb",
   "metadata": {},
   "outputs": [],
   "source": [
    "# get_direction_info(directions_result) => RETURN total distance and total duration INCLUDE walking travel.\n",
    "#    'distance': {'text': '22.1 km', 'value': 22148},\n",
    "#    'duration': {'text': '1 hour 0 mins', 'value': 3602},"
   ]
  },
  {
   "cell_type": "code",
   "execution_count": 4,
   "id": "fifty-newspaper",
   "metadata": {},
   "outputs": [
    {
     "data": {
      "text/plain": [
       "{'bounds': {'northeast': {'lat': -37.8045064, 'lng': 145.1349772},\n",
       "  'southwest': {'lat': -37.9152562, 'lng': 144.972734}},\n",
       " 'copyrights': 'Map data ©2021',\n",
       " 'legs': [{'arrival_time': {'text': '6:15am',\n",
       "    'time_zone': 'Australia/Melbourne',\n",
       "    'value': 1633893330},\n",
       "   'departure_time': {'text': '5:15am',\n",
       "    'time_zone': 'Australia/Melbourne',\n",
       "    'value': 1633889728},\n",
       "   'distance': {'text': '22.1 km', 'value': 22148},\n",
       "   'duration': {'text': '1 hour 0 mins', 'value': 3602},\n",
       "   'end_address': '11 Nicholson St, Carlton VIC 3053, Australia',\n",
       "   'end_location': {'lat': -37.8045064, 'lng': 144.9737031},\n",
       "   'start_address': 'Wellington Rd, Clayton VIC 3800, Australia',\n",
       "   'start_location': {'lat': -37.9145896, 'lng': 145.1349772},\n",
       "   'steps': [{'distance': {'text': '0.5 km', 'value': 508},\n",
       "     'duration': {'text': '6 mins', 'value': 379},\n",
       "     'end_location': {'lat': -37.9137247, 'lng': 145.1312974},\n",
       "     'html_instructions': 'Walk to Monash University',\n",
       "     'polyline': {'points': 'delfFstytZ?@?@A@?@?@A??@?@A??@A??@A??@A??@A?C@C?C@E`@GTG`AQbCQt@WjAmBg@IAG@?@A?ABSbAEPQ~@ZTDDDD@@@B?@?D[pCJBHFVNHAJAXG'},\n",
       "     'start_location': {'lat': -37.9145896, 'lng': 145.1349772},\n",
       "     'steps': [{'distance': {'text': '20 m', 'value': 20},\n",
       "       'duration': {'text': '1 min', 'value': 16},\n",
       "       'end_location': {'lat': -37.9144606, 'lng': 145.1348547},\n",
       "       'html_instructions': 'Head <b>northwest</b> toward <b>Scenic Blvd</b>',\n",
       "       'polyline': {'points': 'delfFstytZ?@?@A@?@?@A??@?@A??@A??@A??@A??@A?C@C?C@'},\n",
       "       'start_location': {'lat': -37.9145896, 'lng': 145.1349772},\n",
       "       'travel_mode': 'WALKING'},\n",
       "      {'distance': {'text': '0.1 km', 'value': 114},\n",
       "       'duration': {'text': '2 mins', 'value': 91},\n",
       "       'end_location': {'lat': -37.9142554, 'lng': 145.1335824},\n",
       "       'html_instructions': 'Exit the roundabout onto <b>Ancora Imparo Wy</b>',\n",
       "       'polyline': {'points': 'jdlfFysytZE`@GTG`AQbC'},\n",
       "       'start_location': {'lat': -37.9144606, 'lng': 145.1348547},\n",
       "       'travel_mode': 'WALKING'},\n",
       "      {'distance': {'text': '62 m', 'value': 62},\n",
       "       'duration': {'text': '1 min', 'value': 49},\n",
       "       'end_location': {'lat': -37.9140452, 'lng': 145.132934},\n",
       "       'html_instructions': 'Continue onto <b>Exhibition Walk</b>',\n",
       "       'polyline': {'points': 'bclfF{kytZQt@WjA'},\n",
       "       'start_location': {'lat': -37.9142554, 'lng': 145.1335824},\n",
       "       'travel_mode': 'WALKING'},\n",
       "      {'distance': {'text': '0.1 km', 'value': 146},\n",
       "       'duration': {'text': '2 mins', 'value': 105},\n",
       "       'end_location': {'lat': -37.9131738, 'lng': 145.1323515},\n",
       "       'html_instructions': 'Turn <b>right</b> to stay on <b>Exhibition Walk</b>',\n",
       "       'maneuver': 'turn-right',\n",
       "       'polyline': {'points': 'xalfFygytZmBg@IAG@?@A?ABSbAEPQ~@'},\n",
       "       'start_location': {'lat': -37.9140452, 'lng': 145.132934},\n",
       "       'travel_mode': 'WALKING'},\n",
       "      {'distance': {'text': '0.1 km', 'value': 100},\n",
       "       'duration': {'text': '1 min', 'value': 71},\n",
       "       'end_location': {'lat': -37.9132538, 'lng': 145.131375},\n",
       "       'html_instructions': 'Turn <b>left</b>',\n",
       "       'maneuver': 'turn-left',\n",
       "       'polyline': {'points': 'h|kfFedytZZTDDDD@@@B?@?D[pC'},\n",
       "       'start_location': {'lat': -37.9131738, 'lng': 145.1323515},\n",
       "       'travel_mode': 'WALKING'},\n",
       "      {'distance': {'text': '56 m', 'value': 56},\n",
       "       'duration': {'text': '1 min', 'value': 40},\n",
       "       'end_location': {'lat': -37.9137247, 'lng': 145.1312974},\n",
       "       'html_instructions': 'Turn <b>left</b> at <b>Rainforest Walk</b>',\n",
       "       'maneuver': 'turn-left',\n",
       "       'polyline': {'points': 'x|kfFc~xtZJBHFVNHAJAXG'},\n",
       "       'start_location': {'lat': -37.9132538, 'lng': 145.131375},\n",
       "       'travel_mode': 'WALKING'},\n",
       "      {'distance': {'text': '10 m', 'value': 10},\n",
       "       'duration': {'text': '1 min', 'value': 7},\n",
       "       'end_location': {'lat': -37.9137247, 'lng': 145.1312974},\n",
       "       'html_instructions': 'Turn <b>left</b>',\n",
       "       'maneuver': 'turn-left',\n",
       "       'polyline': {'points': 'v_lfFs}xtZ'},\n",
       "       'start_location': {'lat': -37.9137247, 'lng': 145.1312974},\n",
       "       'travel_mode': 'WALKING'}],\n",
       "     'travel_mode': 'WALKING'},\n",
       "    {'distance': {'text': '5.7 km', 'value': 5673},\n",
       "     'duration': {'text': '11 mins', 'value': 660},\n",
       "     'end_location': {'lat': -37.8996436, 'lng': 145.0878377},\n",
       "     'html_instructions': 'Bus towards Caulfield',\n",
       "     'polyline': {'points': '~`lfFw`ytZI`A~Dj@`@QD_@?Cg@G?EHcAyBSxBRIbA?Df@F?BE^r@Hm@`J}@pIQjB]dDK`AGxBE`CIpBaAbNGhA_@lG[lEQhCSnDALSdDUnDMzBCZCV_@~FIlAIfBC`@C^i@rIShDEj@Cb@ARAHEx@KpACd@En@B^Ex@OfC?PAF?H?T@N@N@LFPDNFNBHDDDBFHBDBHBBBBBDBFBJDJ@N@PAJ?DAD?DAHELGNKVCFUr@?BSh@Ob@MVMTYf@GJ{@lAEDIF?@QDGBE?E?C?SA?f@oA`Bk@q@JObAuA_@GoC[aHw@mBUa@CcHy@qAO{@MoCY}BYA?@?GAM?w@KkAMMvAAFEx@Cl@ObC@J?@AXAD?D?@@??@?@?@?@?@?@?@A??@?@A?A@@DABCb@A@CDO~BQhC?L?T?@?F@??@?@?@@??@?@?@A??@?@?@A??@A??@A?ARAPABA@CDCp@UzDMnBA^E`A?t@?@@@?@?@@@?@?@A@?@?@A@?@A??@A?A?AB?BCLEZa@~GBHAJ?LAD?FAF?DAH?DADADCFEDCBC@A@CBCBA@ABABAB?B?BARE`@@??@?@AL?@A?Mn@Eh@KnAQvBCl@@@?@@@?@?@@??@?@?@?@A??@?@A@?@A??@A?CJCVAHCDCVCH?DKfAMlA@N?JAFAJ?F@FBL@??@@??@@@?@@@?@?@?@@@?@?@A??@?@?@?@A@?@A@?@A@A??@A??@A?CRCT?BEZITIxACLCJINgDvEw@lAW`@ABELGDCDABGP@@?@?@?@?@?@?@?@?@A@?@?@A??@A??@A??@A?A??@A?A?GJCFC@KHUZUZSXFH'},\n",
       "     'start_location': {'lat': -37.9139184, 'lng': 145.1317951},\n",
       "     'transit_details': {'arrival_stop': {'location': {'lat': -37.8996436,\n",
       "        'lng': 145.0878377},\n",
       "       'name': 'Oakleigh Station/Portman St'},\n",
       "      'arrival_time': {'text': '5:33am',\n",
       "       'time_zone': 'Australia/Melbourne',\n",
       "       'value': 1633890780},\n",
       "      'departure_stop': {'location': {'lat': -37.9139184, 'lng': 145.1317951},\n",
       "       'name': 'Monash University'},\n",
       "      'departure_time': {'text': '5:22am',\n",
       "       'time_zone': 'Australia/Melbourne',\n",
       "       'value': 1633890120},\n",
       "      'headsign': 'Caulfield',\n",
       "      'line': {'agencies': [{'name': 'PTV',\n",
       "         'url': 'http://www.ptv.vic.gov.au/'}],\n",
       "       'color': '#f27b00',\n",
       "       'name': 'Caulfield - Stud Park SC (Rowville)',\n",
       "       'short_name': '900',\n",
       "       'text_color': '#ffffff',\n",
       "       'vehicle': {'icon': '//maps.gstatic.com/mapfiles/transit/iw2/6/bus2.png',\n",
       "        'name': 'Bus',\n",
       "        'type': 'BUS'}},\n",
       "      'num_stops': 6},\n",
       "     'travel_mode': 'TRANSIT'},\n",
       "    {'distance': {'text': '0.1 km', 'value': 122},\n",
       "     'duration': {'text': '2 mins', 'value': 104},\n",
       "     'end_location': {'lat': -37.90049279999999, 'lng': 145.0883462},\n",
       "     'html_instructions': 'Walk to Oakleigh Station',\n",
       "     'polyline': {'points': 'ngifFinptZRYT[HHD@H@@A@A@A@AFSBEBGDIBGBC@ABA@C@A@A?CP?h@Z'},\n",
       "     'start_location': {'lat': -37.8996034, 'lng': 145.0878879},\n",
       "     'steps': [{'distance': {'text': '33 m', 'value': 33},\n",
       "       'duration': {'text': '1 min', 'value': 25},\n",
       "       'end_location': {'lat': -37.8998123, 'lng': 145.0881562},\n",
       "       'html_instructions': 'Head <b>southeast</b> on <b>Portman St</b>',\n",
       "       'polyline': {'points': 'ngifFinptZRYT['},\n",
       "       'start_location': {'lat': -37.8996034, 'lng': 145.0878879},\n",
       "       'travel_mode': 'WALKING'},\n",
       "      {'distance': {'text': '31 m', 'value': 31},\n",
       "       'duration': {'text': '1 min', 'value': 28},\n",
       "       'end_location': {'lat': -37.9000235, 'lng': 145.0882252},\n",
       "       'html_instructions': 'Turn <b>right</b> toward <b>Djerring Trl</b>',\n",
       "       'maneuver': 'turn-right',\n",
       "       'polyline': {'points': 'xhifF_pptZHHD@H@@A@A@A@AFS'},\n",
       "       'start_location': {'lat': -37.8998123, 'lng': 145.0881562},\n",
       "       'travel_mode': 'WALKING'},\n",
       "      {'distance': {'text': '31 m', 'value': 31},\n",
       "       'duration': {'text': '1 min', 'value': 23},\n",
       "       'end_location': {'lat': -37.90019119999999, 'lng': 145.0884872},\n",
       "       'html_instructions': 'Continue straight onto <b>Djerring Trl</b><div style=\"font-size:0.9em\">Destination will be on the right</div>',\n",
       "       'maneuver': 'straight',\n",
       "       'polyline': {'points': 'bjifFmpptZBEBGDIBGBC@ABA@C@A@A?C'},\n",
       "       'start_location': {'lat': -37.9000235, 'lng': 145.0882252},\n",
       "       'travel_mode': 'WALKING'},\n",
       "      {'distance': {'text': '27 m', 'value': 27},\n",
       "       'duration': {'text': '1 min', 'value': 28},\n",
       "       'end_location': {'lat': -37.90049279999999, 'lng': 145.0883462},\n",
       "       'html_instructions': 'Take entrance <span class=\"location\">Portman St (Platform 2)</span>',\n",
       "       'polyline': {'points': 'vkifFarptZh@Z'},\n",
       "       'start_location': {'lat': -37.900279, 'lng': 145.088494},\n",
       "       'travel_mode': 'WALKING'}],\n",
       "     'travel_mode': 'WALKING'},\n",
       "    {'distance': {'text': '15.2 km', 'value': 15189},\n",
       "     'duration': {'text': '23 mins', 'value': 1380},\n",
       "     'end_location': {'lat': -37.81034090000001, 'lng': 144.9728712},\n",
       "     'html_instructions': 'Train towards City (Flinders Street)',\n",
       "     'polyline': {'points': '`mifFeqptZGIKNMREDSZW^W\\\\OTUZMRMPk@x@GJMNSXQXSVU\\\\W`@MROVGLINIPIRKX]~@CBADABA@AB?@IPGRWv@g@xAe@pA]`A[|@KZYv@]`A[|@a@nAa@fAc@nAYx@Wv@g@rAQh@Yz@Yx@e@pA_@dAOb@Yx@ITo@jBELKXIRITITIRK\\\\CFs@pBEPCDQf@Qd@Qf@KZGNCHABCFENM\\\\Qd@[~@KXIVM^KXGNEJGPGRKXSh@Qf@Wt@CHQf@Yz@Wn@Yz@CHUp@Wp@Yz@Yv@]`AUn@Sn@[|@Yv@ADYz@]bAg@pAGRABWr@Sl@Ob@IRAD]dAMZENITSh@O`@Of@Sh@M\\\\Ob@Qd@M^ITM^IVKTIXITM^Qb@M`@Qf@GPKTM^KZO`@Qd@Wt@Od@ABWv@Sf@Qh@Qh@Wn@Sp@Yt@Ur@M^GNEJYx@a@jA[|@ABITc@nAUp@IVMZIXO^Sh@Od@Sj@Un@Up@_@dA_@jA[x@a@hAKZITABSh@[~@Un@Un@Qj@Sj@]|@Up@Up@Wt@Qb@O^Sf@MZUh@Sb@MZO\\\\OZMVMXSb@MVMXOZS`@KVUb@eA|BCDWh@u@xAkBfDcBvC}AnCGJo@bA_AzACDi@t@SXEHORSX_@j@kApByAhCINk@dAe@bASh@eAjBQXm@`AKVMR}@jAo@x@STsA~Aa@d@u@z@cBlBwAbBsAxA}@fAm@p@_AfAcAlA{@`AIHWZiAnAiArAqAxAIJa@d@c@f@q@v@cAhAm@r@u@|@y@|@EDQTSTKLC@IJIJMN[\\\\c@j@s@x@]`@Y^MRoAnBi@v@Y`@SVo@p@]^WTKH]Xk@d@SPQNg@h@ML}@bA{CjDsB|BEDm@p@y@~@c@d@eAjAc@d@m@n@iAdAiAfAEBqAnA}@x@q@p@o@l@}@x@}@|@}@x@A@_A|@uAnA{@z@o@l@ONa@`@u@x@[ZQRYVo@l@ONc@b@YVk@d@g@b@i@b@]Z_A|@sApAoAlAOLkAhAs@p@{@x@a@^_@^WTUVUTWVWZWZg@l@o@t@]b@UXUV[\\\\UR[XYX_@XIHQLq@f@c@ZYV[Ve@b@a@`@EDWXa@h@_@d@]f@IJW`@_@n@U`@MVQ\\\\a@z@Uj@]~@Qd@Of@]hAy@|C{@|CSt@YdAqAbFe@lBSr@Kd@_@tAc@dBGRQn@c@bBENCJ]pAK\\\\Yx@o@rBIZWt@e@vAo@hBK\\\\c@pAc@lAQd@K\\\\KZa@hAg@vAo@jB_@hAq@tB}@lDQt@S|@k@xB]lAM`@Sf@]j@]b@[\\\\IFML_@Xi@XEBc@Pg@Ni@Jc@Fo@BE?S@]AO?WCYCs@K{@KUCeAQyC_@{@Kc@GC?wASq@Ge@GmAGYCo@Eg@Eu@Im@Ii@G_BSKCc@Ea@Gk@IoAOcAMC?s@KQCk@GmAO}@KaAKG?g@G[EoAMo@Gq@Iw@GOAm@Ci@?C?gABy@Jo@NE?YJ[Hg@Tk@Vk@`@g@`@GHMLMLQRcApAg@t@Yd@W`@Yh@CFg@~@?@i@bA]t@M\\\\ENKZUfAm@dDEZQGKj@g@rC_@dCYhBG`@GXETETGVGVI\\\\{@rDg@nBK`@K^M^KZQf@Qb@Wj@_@v@_B`Dy@zAk@bAu@pA_A~AeAhB_A`B{FnJyB|CcB|BmAtAmA`As@j@u@\\\\qAl@g@Py@VcEzAu@TyDlAaDhAwCv@{CbAIBAE'},\n",
       "     'start_location': {'lat': -37.90049279999999, 'lng': 145.0883462},\n",
       "     'transit_details': {'arrival_stop': {'location': {'lat': -37.81034090000001,\n",
       "        'lng': 144.9728712},\n",
       "       'name': 'Parliament'},\n",
       "      'arrival_time': {'text': '6:06am',\n",
       "       'time_zone': 'Australia/Melbourne',\n",
       "       'value': 1633892760},\n",
       "      'departure_stop': {'location': {'lat': -37.90049279999999,\n",
       "        'lng': 145.0883462},\n",
       "       'name': 'Oakleigh Station'},\n",
       "      'departure_time': {'text': '5:43am',\n",
       "       'time_zone': 'Australia/Melbourne',\n",
       "       'value': 1633891380},\n",
       "      'headsign': 'City (Flinders Street)',\n",
       "      'line': {'agencies': [{'name': 'PTV',\n",
       "         'url': 'http://www.ptv.vic.gov.au/'}],\n",
       "       'color': '#3470d4',\n",
       "       'name': 'City (Flinders Street) - Cranbourne',\n",
       "       'short_name': 'Cranbourne',\n",
       "       'text_color': '#ffffff',\n",
       "       'vehicle': {'icon': '//maps.gstatic.com/mapfiles/transit/iw2/6/rail2.png',\n",
       "        'name': 'Train',\n",
       "        'type': 'HEAVY_RAIL'}},\n",
       "      'num_stops': 7},\n",
       "     'travel_mode': 'TRANSIT'},\n",
       "    {'distance': {'text': '0.7 km', 'value': 656},\n",
       "     'duration': {'text': '10 mins', 'value': 570},\n",
       "     'end_location': {'lat': -37.8045064, 'lng': 144.9737031},\n",
       "     'html_instructions': 'Walk to 11 Nicholson St, Carlton VIC 3053, Australia',\n",
       "     'polyline': {'points': 'ryweFm_zsZoDZBUOCSCWCq@Im@Gy@I{@Gg@Ee@E[Ec@EyAOe@GsAMiCSWC_@GmAM}AO'},\n",
       "     'start_location': {'lat': -37.81034090000001, 'lng': 144.9728712},\n",
       "     'steps': [{'distance': {'text': '0.1 km', 'value': 98},\n",
       "       'duration': {'text': '2 mins', 'value': 99},\n",
       "       'end_location': {'lat': -37.809463, 'lng': 144.972734},\n",
       "       'html_instructions': 'Take exit <span class=\"location\">Lonsdale St / Nicholson St</span>',\n",
       "       'polyline': {'points': 'ryweFm_zsZoDZ'},\n",
       "       'start_location': {'lat': -37.81034090000001, 'lng': 144.9728712},\n",
       "       'travel_mode': 'WALKING'},\n",
       "      {'distance': {'text': '0.6 km', 'value': 558},\n",
       "       'duration': {'text': '8 mins', 'value': 471},\n",
       "       'end_location': {'lat': -37.8045064, 'lng': 144.9737031},\n",
       "       'html_instructions': 'Head <b>north</b> on <b>Nicholson St</b> toward <b>Lonsdale St</b><div style=\"font-size:0.9em\">Destination will be on the left</div>',\n",
       "       'polyline': {'points': 'ftweFg_zsZOCSCWCq@Im@Gy@I{@Gg@Ee@E[Ec@EyAOe@GsAMiCSWC_@GmAM}AO'},\n",
       "       'start_location': {'lat': -37.8094761, 'lng': 144.97284},\n",
       "       'travel_mode': 'WALKING'}],\n",
       "     'travel_mode': 'WALKING'}],\n",
       "   'traffic_speed_entry': [],\n",
       "   'via_waypoint': []}],\n",
       " 'overview_polyline': {'points': 'delfFstytZCJGFIBC@Mv@YdEi@`CwBi@GB]xAQ~@ZTJJBL[pCJB`@VTCXGf@cBI`A~Dj@`@QD_@?Cg@GHiAyBSxBRIhAf@F?BE^r@Hm@`J}@pIo@pGK`AGxBE`CIpBiAlPaBtWy@~Mq@`K{@|Nw@hMEn@B^U`EAx@B^H^Vn@LLFNNTHVB`@C\\\\GVGNe@vAc@lA[l@a@r@aArAIHYHO?SA?f@oA`Bk@q@nAeBoDc@uUkC{KqAUAcCYO~AIfBObC@JAZAJ?@@@?BAFABA@Cl@EFa@hG?l@@@@DAHCBA?Eh@EFYlFOnCEvB?@@@@FEJA@GTg@zHBHAXIv@QRKJENGx@@@ANA@Mn@QxBUdD@@@B?B@@?@ADADA@WtAKlAMlA@NARARFV@@BH?FEPEBMhAITIxAGXqDfFoAnBGPKJIT@B?B?DAFGFMLGHa@d@i@t@FHGIh@u@NJLA\\\\w@JKBCPCh@ZGIYb@iA~AwCfEsApBo@hAgAnCwCpIiMv^kFjOiLp\\\\iQpg@_FlNqHhTwHrTuChIiDrJkApC{@lBcChFwCfGuHzMoB~Cm@z@}@pAkB|CcBxCqAhCSh@eAjB_AzAYj@uEzFsOnQqK~LsMfOoCfD}AbCcAxAcAhAu@t@iBzAeCjCcI`JgEvEgE`EmL|KaGvFcCfCkBhBqCdC{EnE_FvEuCnC{A`BmCbD}AbB_BvAaChBiBbBwBpCwA~BwA|Co@dBm@pBcDvLuFjTkApE_BfF_FxNeChHqA~DoAbF_AvDk@nBq@rAy@`AWTiAr@i@TqAZc@Fo@BY@_BIkEm@}Fs@iC[sBOiAI}AOcEi@aEg@eIaAmCYiFg@kBEgABy@Ju@Nu@TsAl@sAbAUV_@`@kBfCoAxBoBzDSl@a@bBs@`EQGKj@gAxGa@jC[|AuBxIq@|Bc@jAw@bByC|FaBtCeChE{HpM}EzGmAtAmA`As@j@u@\\\\yB~@}FrBoFbBaDhAwCv@eDfAAEoDZBUOCk@G_BQcE]_Ec@uGm@kD]'},\n",
       " 'summary': '',\n",
       " 'warnings': ['Walking directions are in beta. Use caution – This route may be missing sidewalks or pedestrian paths.'],\n",
       " 'waypoint_order': []}"
      ]
     },
     "execution_count": 4,
     "metadata": {},
     "output_type": "execute_result"
    }
   ],
   "source": [
    "directions_result[0]"
   ]
  },
  {
   "cell_type": "markdown",
   "id": "political-assistant",
   "metadata": {},
   "source": [
    "### Gmap direction APIs: Driving"
   ]
  },
  {
   "cell_type": "code",
   "execution_count": 5,
   "id": "collaborative-panel",
   "metadata": {},
   "outputs": [
    {
     "data": {
      "text/plain": [
       "datetime.datetime(2021, 10, 10, 23, 2, 5, 701710)"
      ]
     },
     "execution_count": 5,
     "metadata": {},
     "output_type": "execute_result"
    }
   ],
   "source": [
    "now = datetime.now()\n",
    "now"
   ]
  },
  {
   "cell_type": "code",
   "execution_count": 6,
   "id": "pharmaceutical-script",
   "metadata": {},
   "outputs": [],
   "source": [
    "orig = [-37.89577598106494, 145.09038583978858]\n",
    "dest = [-37.91291561061539, 145.13363175213212]\n",
    "modes = [\"driving\", \"walking\", \"bicycling\", \"transit\"]\n",
    "mode = \"driving\""
   ]
  },
  {
   "cell_type": "code",
   "execution_count": 7,
   "id": "funded-payday",
   "metadata": {},
   "outputs": [],
   "source": [
    "distance = gmaps.directions(orig, dest,mode=mode, departure_time=now)"
   ]
  },
  {
   "cell_type": "code",
   "execution_count": 8,
   "id": "golden-aircraft",
   "metadata": {},
   "outputs": [
    {
     "data": {
      "text/plain": [
       "list"
      ]
     },
     "execution_count": 8,
     "metadata": {},
     "output_type": "execute_result"
    }
   ],
   "source": [
    "direction = distance\n",
    "type(direction)"
   ]
  },
  {
   "cell_type": "code",
   "execution_count": 9,
   "id": "direct-substance",
   "metadata": {},
   "outputs": [
    {
     "data": {
      "text/plain": [
       "[{'bounds': {'northeast': {'lat': -37.8957642, 'lng': 145.1360445},\n",
       "   'southwest': {'lat': -37.9153484, 'lng': 145.0901649}},\n",
       "  'copyrights': 'Map data ©2021',\n",
       "  'legs': [{'distance': {'text': '5.3 km', 'value': 5321},\n",
       "    'duration': {'text': '10 mins', 'value': 622},\n",
       "    'duration_in_traffic': {'text': '8 mins', 'value': 486},\n",
       "    'end_address': 'Rotunda Building, Clayton VIC 3168, Australia',\n",
       "    'end_location': {'lat': -37.9121225, 'lng': 145.1346595},\n",
       "    'start_address': '132 Drummond St, Oakleigh VIC 3166, Australia',\n",
       "    'start_location': {'lat': -37.8957642, 'lng': 145.0902904},\n",
       "    'steps': [{'distance': {'text': '71 m', 'value': 71},\n",
       "      'duration': {'text': '1 min', 'value': 9},\n",
       "      'end_location': {'lat': -37.8963981, 'lng': 145.0901649},\n",
       "      'html_instructions': 'Head <b>south</b> on <b>Drummond St</b> toward <b>Palmer St</b>',\n",
       "      'polyline': {'points': 'nohfFi}ptZpANl@H'},\n",
       "      'start_location': {'lat': -37.8957642, 'lng': 145.0902904},\n",
       "      'travel_mode': 'DRIVING'},\n",
       "     {'distance': {'text': '0.2 km', 'value': 235},\n",
       "      'duration': {'text': '1 min', 'value': 36},\n",
       "      'end_location': {'lat': -37.896701, 'lng': 145.092821},\n",
       "      'html_instructions': 'Turn <b>left</b> onto <b>Palmer St</b>',\n",
       "      'maneuver': 'turn-left',\n",
       "      'polyline': {'points': 'nshfFo|ptZL_CT{DVwE'},\n",
       "      'start_location': {'lat': -37.8963981, 'lng': 145.0901649},\n",
       "      'travel_mode': 'DRIVING'},\n",
       "     {'distance': {'text': '0.3 km', 'value': 264},\n",
       "      'duration': {'text': '1 min', 'value': 40},\n",
       "      'end_location': {'lat': -37.8990419, 'lng': 145.0923464},\n",
       "      'html_instructions': 'Turn <b>right</b> onto <b>Atkinson St</b>',\n",
       "      'maneuver': 'turn-right',\n",
       "      'polyline': {'points': 'juhfFcmqtZvANTBnBR`BRZBVDNBnAR'},\n",
       "      'start_location': {'lat': -37.896701, 'lng': 145.092821},\n",
       "      'travel_mode': 'DRIVING'},\n",
       "     {'distance': {'text': '1.2 km', 'value': 1166},\n",
       "      'duration': {'text': '3 mins', 'value': 152},\n",
       "      'end_location': {'lat': -37.900851, 'lng': 145.1054282},\n",
       "      'html_instructions': 'Turn <b>left</b> onto <b>Atherton Rd</b>',\n",
       "      'maneuver': 'turn-left',\n",
       "      'polyline': {'points': '~cifFejqtZFw@RkB@SFs@NkBPqB?EH{@HcANoBJeBLsAPcC@W@MDk@B[JqA@MF_AFs@Bc@Di@PcCDg@Bg@VeD?EDc@Bc@NyB?AB_@De@@IDq@F_ADa@@]P}BDc@?EHe@Du@?GBwA'},\n",
       "      'start_location': {'lat': -37.8990419, 'lng': 145.0923464},\n",
       "      'travel_mode': 'DRIVING'},\n",
       "     {'distance': {'text': '2.4 km', 'value': 2375},\n",
       "      'duration': {'text': '3 mins', 'value': 185},\n",
       "      'end_location': {'lat': -37.9138799, 'lng': 145.1264492},\n",
       "      'html_instructions': 'Turn <b>right</b> onto <b>National Route Alt 1</b>',\n",
       "      'maneuver': 'turn-right',\n",
       "      'polyline': {'points': 'hoifF}{stZa@AZk@j@gAFIvBcE|C}Fv@yANYh@aAt@wAnCiFjA{BLShA}BPYvBaEhAyBr@oAFIXi@PYTe@x@_BJSDGPYLUHOh@_AvAkCbCoEr@mAbAiB^u@f@_AxAmCNYHQ|@cB@ADGx@{Ad@w@l@gAl@eA|@eBRc@f@{@`FiJzAgC^q@b@y@LU'},\n",
       "      'start_location': {'lat': -37.900851, 'lng': 145.1054282},\n",
       "      'travel_mode': 'DRIVING'},\n",
       "     {'distance': {'text': '0.7 km', 'value': 696},\n",
       "      'duration': {'text': '1 min', 'value': 61},\n",
       "      'end_location': {'lat': -37.9153484, 'lng': 145.1340488},\n",
       "      'html_instructions': 'Slight <b>left</b> onto <b>Wellington Rd</b>/<wbr/><b>State Route 18</b>',\n",
       "      'maneuver': 'turn-slight-left',\n",
       "      'polyline': {'points': 'v`lfFi_xtZD[BK@KBKFODKl@sAL[BGDKDKDMZs@J_A@[@GN_B@QBWBY@G?IBm@@Y@K@OFy@@a@LqC@c@@M?ODc@D_@B_@HuAB[B[LyBVgD'},\n",
       "      'start_location': {'lat': -37.9138799, 'lng': 145.1264492},\n",
       "      'travel_mode': 'DRIVING'},\n",
       "     {'distance': {'text': '0.4 km', 'value': 387},\n",
       "      'duration': {'text': '1 min', 'value': 66},\n",
       "      'end_location': {'lat': -37.9124686, 'lng': 145.1360445},\n",
       "      'html_instructions': 'Turn <b>left</b> onto <b>Scenic Blvd</b><div style=\"font-size:0.9em\">Go through 1 roundabout</div>',\n",
       "      'maneuver': 'turn-left',\n",
       "      'polyline': {'points': '|ilfFynytZEe@AOCMCKOe@oAa@MCKAEAG?QAA?A?A@AAA?A?A??AA?A??AA??AA??AA?{Ak@KEEAe@O]OGEMGCAIGGCQOCKGG]WWQUKYK[M'},\n",
       "      'start_location': {'lat': -37.9153484, 'lng': 145.1340488},\n",
       "      'travel_mode': 'DRIVING'},\n",
       "     {'distance': {'text': '0.1 km', 'value': 127},\n",
       "      'duration': {'text': '1 min', 'value': 73},\n",
       "      'end_location': {'lat': -37.9121225, 'lng': 145.1346595},\n",
       "      'html_instructions': 'Turn <b>left</b> onto <b>Administration Rd</b>',\n",
       "      'maneuver': 'turn-left',\n",
       "      'polyline': {'points': '|wkfFg{ytZQfAAFYbBCLSpA'},\n",
       "      'start_location': {'lat': -37.9124686, 'lng': 145.1360445},\n",
       "      'travel_mode': 'DRIVING'}],\n",
       "    'traffic_speed_entry': [],\n",
       "    'via_waypoint': []}],\n",
       "  'overview_polyline': {'points': 'nohfFi}ptZ~BXb@{HVwEvANdCVdD`@nARFw@T_Ch@wGn@uIz@eLrBuYTqDVaDHk@D}@BwAa@AfAsB~BmEnGsL~GqM|GsMfB}C`BaDrA_CrIsOpD}GjGaLpAiChGeLlDiGN_AhAkCTm@Zs@J_ABc@XcDFyA^kIfAsOOoAOe@oAa@YE_@CE@ICGEsCcAw@_@QKQOCKe@_@m@]u@YSnAq@bE'},\n",
       "  'summary': 'National Route Alt 1',\n",
       "  'warnings': [],\n",
       "  'waypoint_order': []}]"
      ]
     },
     "execution_count": 9,
     "metadata": {},
     "output_type": "execute_result"
    }
   ],
   "source": [
    "direction"
   ]
  },
  {
   "cell_type": "code",
   "execution_count": 28,
   "id": "auburn-collaboration",
   "metadata": {},
   "outputs": [
    {
     "data": {
      "text/plain": [
       "(5412, {'text': '10 mins', 'value': 592})"
      ]
     },
     "execution_count": 28,
     "metadata": {},
     "output_type": "execute_result"
    }
   ],
   "source": [
    "direction[0]['legs'][0]['distance']['value'], direction[0]['legs'][0]['duration']"
   ]
  },
  {
   "cell_type": "markdown",
   "id": "ccc91257-4683-4d05-91ec-f725ee626e0d",
   "metadata": {},
   "source": [
    "### Get LoS from Google Direction APIs"
   ]
  },
  {
   "cell_type": "code",
   "execution_count": 10,
   "id": "0bb11c38-ef1d-4b27-b551-b2acf7504972",
   "metadata": {},
   "outputs": [],
   "source": [
    "#export\n",
    "\n",
    "def get_direction_info(direction):\n",
    "    try:\n",
    "        travel_dur = direction[0]['legs'][0]['duration']['value']\n",
    "        travel_len = direction[0]['legs'][0]['distance']['value']\n",
    "        return [travel_dur, travel_len]\n",
    "    except:\n",
    "        return [0, 0]\n",
    "\n",
    "def collect_google_los(gmap, orig, dest, mode, departure_time=None):\n",
    "    \"\"\"\n",
    "    This function collect level of service (travel time) from HERE APIs\n",
    "    \n",
    "    Parameters\n",
    "        gmap: googlemaps Client object\n",
    "        orig: origin location as a [lattitue, longtitude] list\n",
    "        dest: destination location as a [lattitue, longtitude] list\n",
    "        mode: travel mode like 'transit', 'driving', 'walking', 'bicycling'\n",
    "        departure_time: the trip's departure time in datetime format\n",
    "    Return\n",
    "        duration (senconds), len (meter)\n",
    "    \"\"\"    \n",
    "    direction = gmap.directions(orig, dest, mode=mode, departure_time=departure_time)\n",
    "    res = get_direction_info(direction)\n",
    "    return res"
   ]
  },
  {
   "cell_type": "code",
   "execution_count": 30,
   "id": "b9ff353b-97a9-4846-9757-a580d9535edc",
   "metadata": {},
   "outputs": [],
   "source": [
    "# Testing\n",
    "orig = [-37.89577598106494, 145.09038583978858]\n",
    "dest = [-37.91291561061539, 145.13363175213212]\n",
    "mode = \"transit\"\n",
    "departure_time = datetime.strptime(\"27/08/2021 23:30\",'%d/%m/%Y %H:%M')\n",
    "travel_info = collect_google_los(gmaps, orig, dest, mode, departure_time)"
   ]
  },
  {
   "cell_type": "code",
   "execution_count": 31,
   "id": "b569142d-9e66-474c-93eb-b8fdeb3827aa",
   "metadata": {},
   "outputs": [
    {
     "data": {
      "text/plain": [
       "[1631, 5840]"
      ]
     },
     "execution_count": 31,
     "metadata": {},
     "output_type": "execute_result"
    }
   ],
   "source": [
    "travel_info"
   ]
  },
  {
   "cell_type": "markdown",
   "id": "e92b40bb-0da4-4e68-8fd0-c404f3cd7590",
   "metadata": {},
   "source": [
    "### Convert notebook to python file"
   ]
  },
  {
   "cell_type": "code",
   "execution_count": 4,
   "id": "be284965-568a-4837-8dd7-f064bee6f20a",
   "metadata": {},
   "outputs": [
    {
     "name": "stdout",
     "output_type": "stream",
     "text": [
      "03_los_goolge_api_utils.ipynb\n",
      "Converted 03_los_goolge_api_utils.ipynb to 03_los_goolge_api_utils.py\n"
     ]
    }
   ],
   "source": [
    "!python nb2scripts.py 03_los_goolge_api_utils.ipynb"
   ]
  },
  {
   "cell_type": "code",
   "execution_count": null,
   "id": "337e8619-9614-44c7-b76f-3f46ffec9ddf",
   "metadata": {},
   "outputs": [],
   "source": []
  }
 ],
 "metadata": {
  "kernelspec": {
   "display_name": "Python 3",
   "language": "python",
   "name": "python3"
  },
  "language_info": {
   "codemirror_mode": {
    "name": "ipython",
    "version": 3
   },
   "file_extension": ".py",
   "mimetype": "text/x-python",
   "name": "python",
   "nbconvert_exporter": "python",
   "pygments_lexer": "ipython3",
   "version": "3.8.5"
  }
 },
 "nbformat": 4,
 "nbformat_minor": 5
}
