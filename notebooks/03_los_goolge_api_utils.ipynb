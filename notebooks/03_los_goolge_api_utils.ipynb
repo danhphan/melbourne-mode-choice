{
 "cells": [
  {
   "cell_type": "markdown",
   "id": "structural-roberts",
   "metadata": {},
   "source": [
    "## OD Level of sevice from Google API\n",
    "This notebook download trip travel time for different mode (car, public transport, cycling, walking) using Google API\n",
    "\n",
    "https://cloud.google.com/maps-platform/pricing\n",
    "\n",
    "Get USD 200.00 in free usage for Maps, Routes, and Places every month => CAN GET AROUND 30k request/month FOR FREE\n",
    "\n",
    "\n",
    "* TIER 1: AUD 6.44525/1K requests FOR 0 - 100K requests/month\n",
    "* TIER 2: AUD 5.1562/1K requests  FOR 100K+ requests/month"
   ]
  },
  {
   "cell_type": "code",
   "execution_count": 3,
   "id": "stunning-payroll",
   "metadata": {},
   "outputs": [],
   "source": [
    "#export\n",
    "import os\n",
    "import googlemaps\n",
    "from datetime import datetime"
   ]
  },
  {
   "cell_type": "code",
   "execution_count": 4,
   "id": "suffering-rachel",
   "metadata": {},
   "outputs": [],
   "source": [
    "#export\n",
    "# Setup google elevation api key\n",
    "GCP_MAP_KEY = os.environ.get('GCP_ELEVATION_API')\n",
    "gmaps = googlemaps.Client(key=GCP_MAP_KEY)"
   ]
  },
  {
   "cell_type": "markdown",
   "id": "be80656e-c393-4e4c-b9d8-a5441b9569de",
   "metadata": {},
   "source": [
    "### Transit mode example"
   ]
  },
  {
   "cell_type": "code",
   "execution_count": 5,
   "id": "classical-dealing",
   "metadata": {},
   "outputs": [],
   "source": [
    "# Request directions via public transit\n",
    "now = datetime.now()\n",
    "directions_result = gmaps.directions(\"Monash University, Clayton, Vic\",\n",
    "                                     \"Melbourne Museum, Vic\",\n",
    "                                     mode=\"transit\",\n",
    "                                     departure_time=now)"
   ]
  },
  {
   "cell_type": "code",
   "execution_count": 7,
   "id": "fifty-newspaper",
   "metadata": {},
   "outputs": [
    {
     "data": {
      "text/plain": [
       "{'bounds': {'northeast': {'lat': -37.8045064, 'lng': 145.1349772},\n",
       "  'southwest': {'lat': -37.9152562, 'lng': 144.972734}},\n",
       " 'copyrights': 'Map data ©2021',\n",
       " 'legs': [{'arrival_time': {'text': '2:55pm',\n",
       "    'time_zone': 'Australia/Melbourne',\n",
       "    'value': 1629348955},\n",
       "   'departure_time': {'text': '2:03pm',\n",
       "    'time_zone': 'Australia/Melbourne',\n",
       "    'value': 1629345808},\n",
       "   'distance': {'text': '21.0 km', 'value': 20994},\n",
       "   'duration': {'text': '52 mins', 'value': 3147},\n",
       "   'end_address': '11 Nicholson St, Carlton VIC 3053, Australia',\n",
       "   'end_location': {'lat': -37.8045064, 'lng': 144.9737031},\n",
       "   'start_address': 'Wellington Rd, Clayton VIC 3800, Australia',\n",
       "   'start_location': {'lat': -37.9145896, 'lng': 145.1349772},\n",
       "   'steps': [{'distance': {'text': '0.3 km', 'value': 341},\n",
       "     'duration': {'text': '4 mins', 'value': 260},\n",
       "     'end_location': {'lat': -37.9143552, 'lng': 145.1320203},\n",
       "     'html_instructions': 'Walk to Monash University / Wellington Road',\n",
       "     'polyline': {'points': 'delfFstytZ?@?@A@?@?@A??@?@A??@A??@A??@A??@A?C@C?C@E`@GTG`AQbCQt@WjAfBd@Gr@CPEPWv@'},\n",
       "     'start_location': {'lat': -37.9145896, 'lng': 145.1349772},\n",
       "     'steps': [{'distance': {'text': '20 m', 'value': 20},\n",
       "       'duration': {'text': '1 min', 'value': 16},\n",
       "       'end_location': {'lat': -37.9144606, 'lng': 145.1348547},\n",
       "       'html_instructions': 'Head <b>northwest</b> toward <b>Scenic Blvd</b>',\n",
       "       'polyline': {'points': 'delfFstytZ?@?@A@?@?@A??@?@A??@A??@A??@A??@A?C@C?C@'},\n",
       "       'start_location': {'lat': -37.9145896, 'lng': 145.1349772},\n",
       "       'travel_mode': 'WALKING'},\n",
       "      {'distance': {'text': '0.1 km', 'value': 114},\n",
       "       'duration': {'text': '2 mins', 'value': 91},\n",
       "       'end_location': {'lat': -37.9142554, 'lng': 145.1335824},\n",
       "       'html_instructions': 'Exit the roundabout onto <b>Ancora Imparo Way</b>',\n",
       "       'polyline': {'points': 'jdlfFysytZE`@GTG`AQbC'},\n",
       "       'start_location': {'lat': -37.9144606, 'lng': 145.1348547},\n",
       "       'travel_mode': 'WALKING'},\n",
       "      {'distance': {'text': '62 m', 'value': 62},\n",
       "       'duration': {'text': '1 min', 'value': 49},\n",
       "       'end_location': {'lat': -37.9140452, 'lng': 145.132934},\n",
       "       'html_instructions': 'Continue onto <b>Exhibition Walk</b>',\n",
       "       'polyline': {'points': 'bclfF{kytZQt@WjA'},\n",
       "       'start_location': {'lat': -37.9142554, 'lng': 145.1335824},\n",
       "       'travel_mode': 'WALKING'},\n",
       "      {'distance': {'text': '60 m', 'value': 60},\n",
       "       'duration': {'text': '1 min', 'value': 43},\n",
       "       'end_location': {'lat': -37.914567, 'lng': 145.1327404},\n",
       "       'html_instructions': 'Turn <b>left</b>',\n",
       "       'maneuver': 'turn-left',\n",
       "       'polyline': {'points': 'xalfFygytZfBd@'},\n",
       "       'start_location': {'lat': -37.9140452, 'lng': 145.132934},\n",
       "       'travel_mode': 'WALKING'},\n",
       "      {'distance': {'text': '85 m', 'value': 85},\n",
       "       'duration': {'text': '1 min', 'value': 61},\n",
       "       'end_location': {'lat': -37.9143552, 'lng': 145.1320203},\n",
       "       'html_instructions': 'Turn <b>right</b>',\n",
       "       'maneuver': 'turn-right',\n",
       "       'polyline': {'points': '`elfFsfytZGr@CPEPWv@'},\n",
       "       'start_location': {'lat': -37.914567, 'lng': 145.1327404},\n",
       "       'travel_mode': 'WALKING'}],\n",
       "     'travel_mode': 'WALKING'},\n",
       "    {'distance': {'text': '2.9 km', 'value': 2889},\n",
       "     'duration': {'text': '6 mins', 'value': 360},\n",
       "     'end_location': {'lat': -37.91094030000001, 'lng': 145.1026165},\n",
       "     'html_instructions': 'Bus towards Huntingdale Station',\n",
       "     'polyline': {'points': '|alfFc`ytZFeAxCVIhAf@FALCTr@Hm@`J}@pIQjB]dDK`AGxBE`CIpBaAbN{@fPSjCi@~Ie@jIm@`JuApUaAzOA\\\\f@hCd@VN`@Dl@Gb@A@sBfFk@pAm@nAqAM?h@cArARj@'},\n",
       "     'start_location': {'lat': -37.9140733, 'lng': 145.1317018},\n",
       "     'transit_details': {'arrival_stop': {'location': {'lat': -37.91094030000001,\n",
       "        'lng': 145.1026165},\n",
       "       'name': 'Huntingdale Station/Haughton Rd'},\n",
       "      'arrival_time': {'text': '2:15pm',\n",
       "       'time_zone': 'Australia/Melbourne',\n",
       "       'value': 1629346507},\n",
       "      'departure_stop': {'location': {'lat': -37.9140733, 'lng': 145.1317018},\n",
       "       'name': 'Monash University / Wellington Road'},\n",
       "      'departure_time': {'text': '2:08pm',\n",
       "       'time_zone': 'Australia/Melbourne',\n",
       "       'value': 1629346080},\n",
       "      'headsign': 'Huntingdale Station',\n",
       "      'line': {'agencies': [{'name': 'PTV',\n",
       "         'url': 'http://www.ptv.vic.gov.au/'}],\n",
       "       'color': '#f27b00',\n",
       "       'name': 'Huntingdale Station - Monash University (Clayton)',\n",
       "       'short_name': '601',\n",
       "       'text_color': '#ffffff',\n",
       "       'vehicle': {'icon': '//maps.gstatic.com/mapfiles/transit/iw2/6/bus2.png',\n",
       "        'name': 'Bus',\n",
       "        'type': 'BUS'}},\n",
       "      'num_stops': 1},\n",
       "     'travel_mode': 'TRANSIT'},\n",
       "    {'distance': {'text': '0.2 km', 'value': 222},\n",
       "     'duration': {'text': '3 mins', 'value': 171},\n",
       "     'end_location': {'lat': -37.9110173, 'lng': 145.1023643},\n",
       "     'html_instructions': 'Walk to Huntingdale Station',\n",
       "     'polyline': {'points': '~lkfFyhstZWWW]`@m@BABEf@u@DIBC@ABA@?@?B@\\\\`@ADOVRR@?@?AG_@fB'},\n",
       "     'start_location': {'lat': -37.9107158, 'lng': 145.1023655},\n",
       "     'steps': [{'distance': {'text': '36 m', 'value': 36},\n",
       "       'duration': {'text': '1 min', 'value': 26},\n",
       "       'end_location': {'lat': -37.9104801, 'lng': 145.1026385},\n",
       "       'html_instructions': 'Head <b>northeast</b>',\n",
       "       'polyline': {'points': '~lkfFyhstZWWW]'},\n",
       "       'start_location': {'lat': -37.9107158, 'lng': 145.1023655},\n",
       "       'travel_mode': 'WALKING'},\n",
       "      {'distance': {'text': '0.1 km', 'value': 105},\n",
       "       'duration': {'text': '1 min', 'value': 75},\n",
       "       'end_location': {'lat': -37.9111588, 'lng': 145.1030879},\n",
       "       'html_instructions': 'Turn <b>right</b>',\n",
       "       'maneuver': 'turn-right',\n",
       "       'polyline': {'points': 'nkkfFojstZ`@m@BABEf@u@DIBC@ABA@?@?B@\\\\`@'},\n",
       "       'start_location': {'lat': -37.9104801, 'lng': 145.1026385},\n",
       "       'travel_mode': 'WALKING'},\n",
       "      {'distance': {'text': '33 m', 'value': 33},\n",
       "       'duration': {'text': '1 min', 'value': 21},\n",
       "       'end_location': {'lat': -37.9111858, 'lng': 145.1028373},\n",
       "       'html_instructions': 'Turn <b>right</b> at <b>Djerring Trail</b>',\n",
       "       'maneuver': 'turn-right',\n",
       "       'polyline': {'points': 'vokfFimstZADOVRR@?@?'},\n",
       "       'start_location': {'lat': -37.9111588, 'lng': 145.1030879},\n",
       "       'travel_mode': 'WALKING'},\n",
       "      {'distance': {'text': '48 m', 'value': 48},\n",
       "       'duration': {'text': '1 min', 'value': 49},\n",
       "       'end_location': {'lat': -37.9110173, 'lng': 145.1023643},\n",
       "       'html_instructions': 'Take entrance <span class=\"location\">Railway Ave / Parking</span>',\n",
       "       'polyline': {'points': 'zokfF_lstZ_@fB'},\n",
       "       'start_location': {'lat': -37.911183, 'lng': 145.102878},\n",
       "       'travel_mode': 'WALKING'}],\n",
       "     'travel_mode': 'WALKING'},\n",
       "    {'distance': {'text': '16.9 km', 'value': 16886},\n",
       "     'duration': {'text': '24 mins', 'value': 1440},\n",
       "     'end_location': {'lat': -37.81034090000001, 'lng': 144.9728712},\n",
       "     'html_instructions': 'Train towards City (Flinders Street)',\n",
       "     'polyline': {'points': 'znkfFwhstZHHY`@{@lAe@p@QPg@l@g@n@c@j@GHo@~@o@z@gA~Ay@jAaAvAe@r@kAbBaBbC_ChDy@hAoC|DmAfBi@v@GHIHi@x@U\\\\GJEDk@x@W^i@v@[d@U\\\\]d@IJGJSVQXa@j@UZQVCDSVU\\\\Y`@W^W\\\\Yb@SZOPSZCB]h@QVKLADCBCDCDCDSVOTSXQTOV_@h@g@r@_@f@ILKNMREDSZW^W\\\\OTUZMRMPk@x@GJEHEHEHKRKRMTABEFGLIJKNKNILINKNINILEJINGLEJCFELO^Q`@IXUl@Wp@ENO`@Sl@[|@c@nAm@hBm@`B?@u@rBq@pBKXMZOb@Qf@Qh@Q`@IXGPGRIVIVKXKXIRK\\\\GTOh@Oh@Wt@i@~Au@zBOZO`@ELILEJGNIPADMXM\\\\GNEJQf@AFABABABKXWt@KXO^IVABADELYv@Yz@Sf@Sl@M`@Qf@Sj@Yv@GPM\\\\Wr@Yx@Yz@[|@c@lA]bAYx@Ul@Sj@Sj@Od@Wt@Wr@Od@Up@CHSj@Yt@Un@Qh@ABOb@GNSn@Ul@CJO`@A@Sh@GRGNEN[z@g@xAWv@e@lA]dA_@bAUr@Sj@a@jAa@jAYx@Yx@[z@[~@c@lASj@Qh@GLENQf@[|@Yv@IVGPGPIT_@dA_@hAMZITa@jAUp@KXMZOb@Wt@Un@[~@[|@Up@c@pAWn@Qj@M\\\\M\\\\M\\\\IVCDIVIRYz@]bAWp@Yz@[z@Wv@Sh@KZO^Qd@Ob@Q`@GNIRMZO\\\\Uf@Uf@Sb@Yn@Uf@_@t@Ud@O^uAtCwAvCmAzB_A|Ag@|@CDe@x@ABm@`A]n@a@p@_@l@A@]l@U^EDe@n@ED[d@QLSX_@j@kApByAhCINk@dAe@bASh@eAjBQXm@`AEFa@f@GHEFg@l@EF{@fAwA`Be@h@_@b@q@t@sCdDg@j@e@h@wA`Bg@n@kBtBkAtAQPOR]^}ClDmAxAyH|IIHSTSTIJC@ILKJWZoAxAeBtBuBdCeAnA}@dA_AbAgAnA_@b@s@v@cBjBkCxC}@dAYZyDhEa@`@i@j@qAnAgAbACBwArA}BxBmBfBiBdBc@`@eAbAkBdBk@h@c@b@e@`@qA~@s@j@]ZMJk@l@e@h@u@~@eAdAc@d@}AxAaB|ASTqBlB_DxCiBdBeAbA}A|AgChCaA~@cAdAkAhAu@t@IHc@j@u@`Ag@r@KP[f@_AhB[l@a@dA]`A_@fAkAjEENiAdECHmAvEu@vC_@tAa@|Ag@pBGTi@pBUn@[t@g@tAKZy@lCI`@UbASz@YbAWr@ITa@jAUn@e@rAADSl@CHA@m@dBe@tAQb@u@|B[`Au@vCi@tBK^IZYhAOp@Ql@Y|@Qb@OZMTUXMP[ZGFSN_@XEB]Pq@V_@Ja@FUBa@Ba@?C?]AQCE?YC]COCmAQE?eAOo@IyBWs@I}@KE?SA]Ee@Eo@EA?y@Em@Ee@CKA_AGcAM[Ey@Ko@Ka@EYEc@Ec@Gi@G_AMa@GA?eAOMAmAOq@IWCuAOq@IKAIAWCA?e@Gg@Ea@G]COCi@Eg@Eg@EC?[CQA]?]?A?_@BYBa@BUDKBKBUDE@QFIBGBe@N[Na@Rq@b@q@h@KLGFOPCBUViA~AORWZMTe@n@e@p@A@OVOXSd@M\\\\KZK^K`@CFWxAq@vDCJICKj@g@rC_@dCYhBG`@GXETETGVGVI\\\\{@rDg@nBK`@K^M^KZQf@Qb@Wj@_@v@_B`Dy@zAk@bAu@pA_A~AeAhB_A`B{FnJyB|CcB|BmAtAmA`As@j@u@\\\\qAl@g@Py@VcEzAu@TyDlAaDhAwCv@{CbAIBAE'},\n",
       "     'start_location': {'lat': -37.9110173, 'lng': 145.1023643},\n",
       "     'transit_details': {'arrival_stop': {'location': {'lat': -37.81034090000001,\n",
       "        'lng': 144.9728712},\n",
       "       'name': 'Parliament Station'},\n",
       "      'arrival_time': {'text': '2:46pm',\n",
       "       'time_zone': 'Australia/Melbourne',\n",
       "       'value': 1629348386},\n",
       "      'departure_stop': {'location': {'lat': -37.9110173, 'lng': 145.1023643},\n",
       "       'name': 'Huntingdale Station'},\n",
       "      'departure_time': {'text': '2:21pm',\n",
       "       'time_zone': 'Australia/Melbourne',\n",
       "       'value': 1629346882},\n",
       "      'headsign': 'City (Flinders Street)',\n",
       "      'line': {'agencies': [{'name': 'PTV',\n",
       "         'url': 'http://www.ptv.vic.gov.au/'}],\n",
       "       'color': '#3470d4',\n",
       "       'name': 'City (Flinders Street) - Cranbourne',\n",
       "       'short_name': 'Cranbourne',\n",
       "       'text_color': '#ffffff',\n",
       "       'vehicle': {'icon': '//maps.gstatic.com/mapfiles/transit/iw2/6/rail2.png',\n",
       "        'name': 'Train',\n",
       "        'type': 'HEAVY_RAIL'}},\n",
       "      'num_stops': 8},\n",
       "     'travel_mode': 'TRANSIT'},\n",
       "    {'distance': {'text': '0.7 km', 'value': 656},\n",
       "     'duration': {'text': '9 mins', 'value': 569},\n",
       "     'end_location': {'lat': -37.8045064, 'lng': 144.9737031},\n",
       "     'html_instructions': 'Walk to 11 Nicholson St, Carlton VIC 3053, Australia',\n",
       "     'polyline': {'points': 'ryweFm_zsZoDZBUOCSCWCo@Io@Gy@I{@Gg@Ee@E[Ec@EyAOe@GyAOcCQWC_@GmAM}AO'},\n",
       "     'start_location': {'lat': -37.81034090000001, 'lng': 144.9728712},\n",
       "     'steps': [{'distance': {'text': '0.1 km', 'value': 98},\n",
       "       'duration': {'text': '2 mins', 'value': 99},\n",
       "       'end_location': {'lat': -37.809463, 'lng': 144.972734},\n",
       "       'html_instructions': 'Take exit <span class=\"location\">Lonsdale St / Nicholson St</span>',\n",
       "       'polyline': {'points': 'ryweFm_zsZoDZ'},\n",
       "       'start_location': {'lat': -37.81034090000001, 'lng': 144.9728712},\n",
       "       'travel_mode': 'WALKING'},\n",
       "      {'distance': {'text': '0.6 km', 'value': 558},\n",
       "       'duration': {'text': '8 mins', 'value': 470},\n",
       "       'end_location': {'lat': -37.8045064, 'lng': 144.9737031},\n",
       "       'html_instructions': 'Head <b>north</b> on <b>Nicholson St</b> toward <b>Lonsdale St</b><div style=\"font-size:0.9em\">Destination will be on the left</div>',\n",
       "       'polyline': {'points': 'ftweFg_zsZOCSCWCo@Io@Gy@I{@Gg@Ee@E[Ec@EyAOe@GyAOcCQWC_@GmAM}AO'},\n",
       "       'start_location': {'lat': -37.8094761, 'lng': 144.97284},\n",
       "       'travel_mode': 'WALKING'}],\n",
       "     'travel_mode': 'WALKING'}],\n",
       "   'traffic_speed_entry': [],\n",
       "   'via_waypoint': []}],\n",
       " 'overview_polyline': {'points': 'delfFstytZCJGFIBC@Mv@YdEi@`CfBd@Gr@Ib@Wv@y@~@FeAxCVIhAf@FEb@r@Hm@`JoA|Li@fFMzFIpBaAbNoArToAjTcCr`@cAxPf@hCd@VN`@Dl@Id@_DxHm@nAqAM?h@cArARj@k@p@o@u@d@o@t@iAHC`@b@Q\\\\VRAG_@fBHHY`@aB~By@~@cCdDgQdW_R`XwHvK}A~BaCjD}CnEkAbBgA`BaAjBk@x@i@|@]t@k@vAaDfJmFlO_AlCc@tAm@dB_A~C_BzE_@|@]v@iAzCoAlDuGhRcJrWgS|k@uQlh@sDjK{@zB}@tBuFtLwAvCmAzBgBzCyAdCaBpCs@lAk@t@a@j@QLSXkB|CcBxCqAhCSh@eAjB_AzAg@n@{@fAyEvFkQnScSjUeGhH{DtE}BhC_GvG}KdMeF`FgSjRoAlAwB`BqAfAy@x@{AhBiBjBeIzHiG~FcD`DyIxI_A~@yAlBs@dA{ApC}@rB}@hC_DjLeEbPo@fC_A`DcAjCeAhD_@dBm@~ByAdE_ApCgB`FqA~D_BlG_AvDk@jBa@~@c@n@i@l@aAt@oAh@aARw@Fe@?oAIm@GsAQcH{@uBSqHe@mIeAaJiAuFm@wBU}BQm@E{@?}AJcARi@PaA^sAv@}@v@WXsBnCqBrCQXc@~@q@zBqAdHICKj@gAxGo@zD_@bB{BdJYz@c@jAw@bByC|FgF~I{HpM}EzGmAtAmA`As@j@u@\\\\yB~@}FrBoFbBaDhAwCv@eDfAAEoDZBUOCk@G_BQuBQmCW}Iy@cFi@'},\n",
       " 'summary': '',\n",
       " 'warnings': ['Walking directions are in beta. Use caution – This route may be missing sidewalks or pedestrian paths.'],\n",
       " 'waypoint_order': []}"
      ]
     },
     "execution_count": 7,
     "metadata": {},
     "output_type": "execute_result"
    }
   ],
   "source": [
    "directions_result[0]"
   ]
  },
  {
   "cell_type": "markdown",
   "id": "political-assistant",
   "metadata": {},
   "source": [
    "### Gmap direction APIs: Driving"
   ]
  },
  {
   "cell_type": "code",
   "execution_count": 8,
   "id": "collaborative-panel",
   "metadata": {},
   "outputs": [
    {
     "data": {
      "text/plain": [
       "datetime.datetime(2021, 8, 19, 13, 59, 23, 367033)"
      ]
     },
     "execution_count": 8,
     "metadata": {},
     "output_type": "execute_result"
    }
   ],
   "source": [
    "now = datetime.now()\n",
    "now"
   ]
  },
  {
   "cell_type": "code",
   "execution_count": 9,
   "id": "pharmaceutical-script",
   "metadata": {},
   "outputs": [],
   "source": [
    "orig = [-37.89577598106494, 145.09038583978858]\n",
    "dest = [-37.91291561061539, 145.13363175213212]\n",
    "modes = [\"driving\", \"walking\", \"bicycling\", \"transit\"]\n",
    "mode = \"driving\""
   ]
  },
  {
   "cell_type": "code",
   "execution_count": 10,
   "id": "funded-payday",
   "metadata": {},
   "outputs": [],
   "source": [
    "distance = gmaps.directions(orig, dest,mode=mode, departure_time=now)"
   ]
  },
  {
   "cell_type": "code",
   "execution_count": 11,
   "id": "golden-aircraft",
   "metadata": {},
   "outputs": [
    {
     "data": {
      "text/plain": [
       "list"
      ]
     },
     "execution_count": 11,
     "metadata": {},
     "output_type": "execute_result"
    }
   ],
   "source": [
    "direction = distance\n",
    "type(direction)"
   ]
  },
  {
   "cell_type": "code",
   "execution_count": 12,
   "id": "direct-substance",
   "metadata": {},
   "outputs": [
    {
     "data": {
      "text/plain": [
       "[{'bounds': {'northeast': {'lat': -37.8935027, 'lng': 145.1360445},\n",
       "   'southwest': {'lat': -37.9153484, 'lng': 145.0902904}},\n",
       "  'copyrights': 'Map data ©2021',\n",
       "  'legs': [{'distance': {'text': '5.4 km', 'value': 5412},\n",
       "    'duration': {'text': '10 mins', 'value': 592},\n",
       "    'duration_in_traffic': {'text': '9 mins', 'value': 567},\n",
       "    'end_address': 'Rotunda Building, Clayton VIC 3168, Australia',\n",
       "    'end_location': {'lat': -37.9121225, 'lng': 145.1346595},\n",
       "    'start_address': '132 Drummond St, Oakleigh VIC 3166, Australia',\n",
       "    'start_location': {'lat': -37.8957642, 'lng': 145.0902904},\n",
       "    'steps': [{'distance': {'text': '0.1 km', 'value': 116},\n",
       "      'duration': {'text': '1 min', 'value': 13},\n",
       "      'end_location': {'lat': -37.8947321, 'lng': 145.0904889},\n",
       "      'html_instructions': 'Head <b>north</b> on <b>Drummond St</b> toward <b>Taylor St</b>',\n",
       "      'polyline': {'points': 'nohfFi}ptZe@GGA_D]'},\n",
       "      'start_location': {'lat': -37.8957642, 'lng': 145.0902904},\n",
       "      'travel_mode': 'DRIVING'},\n",
       "     {'distance': {'text': '0.3 km', 'value': 254},\n",
       "      'duration': {'text': '1 min', 'value': 44},\n",
       "      'end_location': {'lat': -37.8948371, 'lng': 145.0931569},\n",
       "      'html_instructions': 'Turn <b>right</b> onto <b>Logie St</b>',\n",
       "      'maneuver': 'turn-right',\n",
       "      'polyline': {'points': '`ihfFq~ptZ]EE?v@iO@E'},\n",
       "      'start_location': {'lat': -37.8947321, 'lng': 145.0904889},\n",
       "      'travel_mode': 'DRIVING'},\n",
       "     {'distance': {'text': '0.1 km', 'value': 118},\n",
       "      'duration': {'text': '1 min', 'value': 42},\n",
       "      'end_location': {'lat': -37.8937834, 'lng': 145.0933476},\n",
       "      'html_instructions': 'Turn <b>left</b> onto <b>Atkinson St</b>',\n",
       "      'maneuver': 'turn-left',\n",
       "      'polyline': {'points': 'vihfFgoqtZi@E{@KQAOCQCm@GKA'},\n",
       "      'start_location': {'lat': -37.8948371, 'lng': 145.0931569},\n",
       "      'travel_mode': 'DRIVING'},\n",
       "     {'distance': {'text': '3.7 km', 'value': 3714},\n",
       "      'duration': {'text': '5 mins', 'value': 283},\n",
       "      'end_location': {'lat': -37.9138799, 'lng': 145.1264492},\n",
       "      'html_instructions': 'Turn <b>right</b> onto <b>National Route Alt 1</b>',\n",
       "      'maneuver': 'turn-right',\n",
       "      'polyline': {'points': 'bchfFmpqtZw@GLm@FS`@eAxDqHPa@`@y@\\\\q@f@cAXm@vAaDP_@hAyBZk@FKXk@~A}Cb@{@h@aAfBiDTc@zBeEDIdDgGr@qApA{BTi@HOh@eAZi@j@iAFIvBcE|C}Fv@yANYh@aAt@wAnCiFjA{BLShA}BPYvBaEhAyBr@oAFIXi@PYTe@x@_BJSDGPYLUHOh@_AvAkCbCoEr@mAbAiB^u@f@_AxAmCNYHQ|@cB@ADGx@{Ad@w@l@gAl@eA|@eBRc@f@{@`FiJzAgC^q@b@y@LU'},\n",
       "      'start_location': {'lat': -37.8937834, 'lng': 145.0933476},\n",
       "      'travel_mode': 'DRIVING'},\n",
       "     {'distance': {'text': '0.7 km', 'value': 696},\n",
       "      'duration': {'text': '1 min', 'value': 67},\n",
       "      'end_location': {'lat': -37.9153484, 'lng': 145.1340488},\n",
       "      'html_instructions': 'Slight <b>left</b> onto <b>Wellington Rd</b>/<wbr/><b>State Route 18</b>',\n",
       "      'maneuver': 'turn-slight-left',\n",
       "      'polyline': {'points': 'v`lfFi_xtZD[BK@KBKFODKl@sAL[BGDKDKDMZs@J_ATuCBW?GDa@Bo@LoB@a@LqC@c@@M?ODc@D_@B_@?QB[Dg@B[B[LyBVgD'},\n",
       "      'start_location': {'lat': -37.9138799, 'lng': 145.1264492},\n",
       "      'travel_mode': 'DRIVING'},\n",
       "     {'distance': {'text': '0.4 km', 'value': 387},\n",
       "      'duration': {'text': '1 min', 'value': 70},\n",
       "      'end_location': {'lat': -37.9124686, 'lng': 145.1360445},\n",
       "      'html_instructions': 'Turn <b>left</b> onto <b>Scenic Blvd</b><div style=\"font-size:0.9em\">Go through 1 roundabout</div>',\n",
       "      'maneuver': 'turn-left',\n",
       "      'polyline': {'points': '|ilfFynytZEe@AOCMCKOe@oAa@MCKAEAG?QAA?A?A@AAA?A?A??AA?A??AA??AA??AA?{Ak@KEEAe@O]OGEMGCAIGGCQOCKGG]WWQUKYK[M'},\n",
       "      'start_location': {'lat': -37.9153484, 'lng': 145.1340488},\n",
       "      'travel_mode': 'DRIVING'},\n",
       "     {'distance': {'text': '0.1 km', 'value': 127},\n",
       "      'duration': {'text': '1 min', 'value': 73},\n",
       "      'end_location': {'lat': -37.9121225, 'lng': 145.1346595},\n",
       "      'html_instructions': 'Turn <b>left</b> onto <b>Administration Rd</b>',\n",
       "      'maneuver': 'turn-left',\n",
       "      'polyline': {'points': '|wkfFg{ytZQfAAFYbBCLSpA'},\n",
       "      'start_location': {'lat': -37.9124686, 'lng': 145.1360445},\n",
       "      'travel_mode': 'DRIVING'}],\n",
       "    'traffic_speed_entry': [],\n",
       "    'via_waypoint': []}],\n",
       "  'overview_polyline': {'points': 'nohfFi}ptZkFm@E?v@iO@Ei@EmAMa@Gy@Iw@GLm@h@yAjEsI`C}EhBaEdBeDdDqGbHuMpH_NdBiDhIuOfDmGrHwNfGeLhAsB|AuCxCqFzG}LzCyF~BiErA_CjBkDz@_B|HqNbAkBLUD[DWJ[dAcCl@yAd@uFXcFPsENuBP{Bd@aHGu@GYOe@oAa@YEMAUAI?GEiBs@k@Qe@Uc@UQOCKe@_@m@]u@Yq@`ESpA'},\n",
       "  'summary': 'National Route Alt 1',\n",
       "  'warnings': [],\n",
       "  'waypoint_order': []}]"
      ]
     },
     "execution_count": 12,
     "metadata": {},
     "output_type": "execute_result"
    }
   ],
   "source": [
    "direction"
   ]
  },
  {
   "cell_type": "code",
   "execution_count": 28,
   "id": "auburn-collaboration",
   "metadata": {},
   "outputs": [
    {
     "data": {
      "text/plain": [
       "(5412, {'text': '10 mins', 'value': 592})"
      ]
     },
     "execution_count": 28,
     "metadata": {},
     "output_type": "execute_result"
    }
   ],
   "source": [
    "direction[0]['legs'][0]['distance']['value'], direction[0]['legs'][0]['duration']"
   ]
  },
  {
   "cell_type": "markdown",
   "id": "ccc91257-4683-4d05-91ec-f725ee626e0d",
   "metadata": {},
   "source": [
    "### Get LoS from Google Direction APIs"
   ]
  },
  {
   "cell_type": "code",
   "execution_count": 29,
   "id": "0bb11c38-ef1d-4b27-b551-b2acf7504972",
   "metadata": {},
   "outputs": [],
   "source": [
    "#export\n",
    "\n",
    "def get_direction_info(direction):\n",
    "    try:\n",
    "        travel_dur = direction[0]['legs'][0]['duration']['value']\n",
    "        travel_len = direction[0]['legs'][0]['distance']['value']\n",
    "        return [travel_dur, travel_len]\n",
    "    except:\n",
    "        return [0, 0]\n",
    "\n",
    "def collect_google_los(gmap, orig, dest, mode, departure_time=None):\n",
    "    \"\"\"\n",
    "    This function collect level of service (travel time) from HERE APIs\n",
    "    \n",
    "    Parameters\n",
    "        gmap: googlemaps Client object\n",
    "        orig: origin location as a [lattitue, longtitude] list\n",
    "        dest: destination location as a [lattitue, longtitude] list\n",
    "        mode: travel mode like 'transit', 'driving', 'walking', 'bicycling'\n",
    "        departure_time: the trip's departure time in datetime format\n",
    "    Return\n",
    "        duration (senconds), len (meter)\n",
    "    \"\"\"    \n",
    "    direction = gmap.directions(orig, dest, mode=mode, departure_time=departure_time)\n",
    "    res = get_direction_info(direction)\n",
    "    return res"
   ]
  },
  {
   "cell_type": "code",
   "execution_count": 30,
   "id": "b9ff353b-97a9-4846-9757-a580d9535edc",
   "metadata": {},
   "outputs": [],
   "source": [
    "# Testing\n",
    "orig = [-37.89577598106494, 145.09038583978858]\n",
    "dest = [-37.91291561061539, 145.13363175213212]\n",
    "mode = \"transit\"\n",
    "departure_time = datetime.strptime(\"27/08/2021 23:30\",'%d/%m/%Y %H:%M')\n",
    "travel_info = collect_google_los(gmaps, orig, dest, mode, departure_time)"
   ]
  },
  {
   "cell_type": "code",
   "execution_count": 31,
   "id": "b569142d-9e66-474c-93eb-b8fdeb3827aa",
   "metadata": {},
   "outputs": [
    {
     "data": {
      "text/plain": [
       "[1631, 5840]"
      ]
     },
     "execution_count": 31,
     "metadata": {},
     "output_type": "execute_result"
    }
   ],
   "source": [
    "travel_info"
   ]
  },
  {
   "cell_type": "markdown",
   "id": "e92b40bb-0da4-4e68-8fd0-c404f3cd7590",
   "metadata": {},
   "source": [
    "### Convert notebook to python file"
   ]
  },
  {
   "cell_type": "code",
   "execution_count": 4,
   "id": "be284965-568a-4837-8dd7-f064bee6f20a",
   "metadata": {},
   "outputs": [
    {
     "name": "stdout",
     "output_type": "stream",
     "text": [
      "03_los_goolge_api_utils.ipynb\n",
      "Converted 03_los_goolge_api_utils.ipynb to 03_los_goolge_api_utils.py\n"
     ]
    }
   ],
   "source": [
    "!python nb2scripts.py 03_los_goolge_api_utils.ipynb"
   ]
  },
  {
   "cell_type": "code",
   "execution_count": null,
   "id": "337e8619-9614-44c7-b76f-3f46ffec9ddf",
   "metadata": {},
   "outputs": [],
   "source": []
  }
 ],
 "metadata": {
  "kernelspec": {
   "display_name": "Python 3",
   "language": "python",
   "name": "python3"
  },
  "language_info": {
   "codemirror_mode": {
    "name": "ipython",
    "version": 3
   },
   "file_extension": ".py",
   "mimetype": "text/x-python",
   "name": "python",
   "nbconvert_exporter": "python",
   "pygments_lexer": "ipython3",
   "version": "3.8.5"
  }
 },
 "nbformat": 4,
 "nbformat_minor": 5
}
